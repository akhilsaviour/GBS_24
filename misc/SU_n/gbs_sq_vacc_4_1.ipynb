{
 "cells": [
  {
   "cell_type": "code",
   "execution_count": 15,
   "metadata": {},
   "outputs": [],
   "source": [
    "import numpy as np\n",
    "import matplotlib.pyplot as plt\n",
    "import sax\n",
    "from simphony.quantum import QuantumSim,compose_qstate,CoherentState,SqueezedState\n",
    "from functools import partial\n",
    "import jax\n",
    "import quantp as qp\n",
    "import thewalrus as tw\n",
    "from simphony.quantum import plot_quantum_result\n",
    "from simphony.classical import ClassicalSim\n",
    "from scipy.special import factorial\n",
    "import jax.numpy as jnp\n",
    "from scipy.stats import multivariate_normal\n",
    "from thewalrus import _hafnian as hf\n",
    "from thewalrus.quantum.conversions import Amat,Qmat"
   ]
  },
  {
   "cell_type": "code",
   "execution_count": 16,
   "metadata": {},
   "outputs": [],
   "source": [
    "from gbs_func import phot_cir,trans,sub_mat"
   ]
  },
  {
   "cell_type": "code",
   "execution_count": 17,
   "metadata": {},
   "outputs": [],
   "source": [
    "def one_mode_plot(mu,cov,ax,row,col):\n",
    "   \n",
    "    means=mu\n",
    "    cov=cov\n",
    "\n",
    "    # fig, ax = plt.subplots()\n",
    "    x_max = means[0]+5\n",
    "    y_max = means[1]+5\n",
    "    r_max = jnp.max(jnp.array((x_max, y_max)))\n",
    "\n",
    "    x_min = means[0]-5\n",
    "    y_min = means[1]-5\n",
    "    r_min = jnp.min(jnp.array((x_min, y_min)))\n",
    "\n",
    "    x_range = (x_min, x_max)\n",
    "    y_range = (y_min, y_max)\n",
    "   \n",
    "\n",
    "    # x_range = (r_min, r_max)\n",
    "    # y_range = (r_min, r_max)\n",
    "    n=100\n",
    "    x = jnp.linspace(x_range[0], x_range[1], n)\n",
    "    y = jnp.linspace(y_range[0], y_range[1], n)\n",
    "    X, Y = jnp.meshgrid(x, y)\n",
    "    pos = jnp.dstack((X, Y))\n",
    "    dist = multivariate_normal(means, cov)\n",
    "    pdf = dist.pdf(pos)\n",
    "    ax[row,col].contourf(X, Y, pdf)\n",
    "    ax[row,col].set_aspect(\"equal\")\n",
    "    ax[row,col].set_xlabel(\"X\")\n",
    "    ax[row,col].set_ylabel(\"P\")\n",
    "    return ax[row,col]\n",
    "\n",
    "\n",
    "\n",
    "def mode_plot(res):\n",
    "    mode=res.n_ports\n",
    "    N=mode*2\n",
    "\n",
    "    means=np.array(res.means[0])\n",
    "    cov=res.cov\n",
    "\n",
    "    u=1\n",
    "    fig_ind=1\n",
    "    ind=int(mode/2)\n",
    "    ind=int(np.sqrt(mode))\n",
    "    fig,ax=plt.subplots(ind,ind,figsize=(10,10))\n",
    "    for i in range(res.n_ports):\n",
    "        \n",
    "        # ax=plt.subplot(ind,ind,i+1)\n",
    "        mu=[means[i],means[i+N]]\n",
    "        covar=np.array([[cov[u][i][i],cov[u][i][i+1]],\n",
    "             [cov[u][i+1][i],cov[u][i+1][i+1]]])\n",
    "        \n",
    "    # Calculate row and column index\n",
    "        row = i // 4\n",
    "        col = i % 4\n",
    "        \n",
    "        one_mode_plot(mu,covar,ax,row,col)\n",
    "    plt.tight_layout()\n",
    "    plt.show"
   ]
  },
  {
   "cell_type": "code",
   "execution_count": 18,
   "metadata": {},
   "outputs": [],
   "source": [
    "# theta_arr=np.random.rand(28)\n",
    "# phi_arr=np.random.rand(28)\n",
    "# theta_arr=np.multiply(theta_arr,0.5)"
   ]
  },
  {
   "cell_type": "code",
   "execution_count": 19,
   "metadata": {},
   "outputs": [],
   "source": [
    "def sampler(a,b,c,wl,theta_arr=None,phi_arr=None):\n",
    "       ##circuit\n",
    "    if theta_arr is None  :\n",
    "        theta_arr=np.zeros(len(a))\n",
    "        print('theta array is None')\n",
    "    if phi_arr is None:\n",
    "        phi_arr=np.zeros(len(a))\n",
    "        print('phi array is None')\n",
    "    cir,info=sax.circuit(\n",
    "        netlist={\n",
    "            \"instances\":a,\n",
    "            \"connections\":b,\n",
    "            \"ports\":c\n",
    "        },\n",
    "        models={'SU2':partial(qp.trr)}) \n",
    "    \n",
    "    su_dict={}\n",
    "    i=0\n",
    "    for key in range(len(a)):\n",
    "        su_dict[key]={\"theta\":theta_arr[i],\"phi\":phi_arr[i]}\n",
    "        i+=1\n",
    "    \n",
    "    val=cir(wl=wl,    S1=su_dict[0],\n",
    "                      S2=su_dict[1],\n",
    "                      S3=su_dict[2],\n",
    "                      S4=su_dict[3],\n",
    "                      S5=su_dict[4],\n",
    "                      S6=su_dict[5],\n",
    "                      \n",
    "                      \n",
    "    )\n",
    "    return val\n"
   ]
  },
  {
   "cell_type": "code",
   "execution_count": 20,
   "metadata": {},
   "outputs": [
    {
     "name": "stdout",
     "output_type": "stream",
     "text": [
      "theta array is None\n",
      "phi array is None\n"
     ]
    }
   ],
   "source": [
    "inst,conn,ports=phot_cir(4,4)\n",
    "r=sampler(inst,conn,ports,wl=1.55)"
   ]
  },
  {
   "cell_type": "code",
   "execution_count": 21,
   "metadata": {},
   "outputs": [],
   "source": [
    "U = np.array([\n",
    " [ 0.219546940711-0.256534554457j, 0.611076853957+0.524178937791j,\n",
    "    -0.102700187435+0.474478834685j,-0.027250232925+0.03729094623j],\n",
    " [ 0.451281863394+0.602582912475j, 0.456952590016+0.01230749109j,\n",
    "    0.131625867435-0.450417744715j, 0.035283194078-0.053244267184j],\n",
    " [ 0.038710094355+0.492715562066j,-0.019212744068-0.321842852355j,\n",
    "    -0.240776471286+0.524432833034j,-0.458388143039+0.329633367819j],\n",
    " [-0.156619083736+0.224568570065j, 0.109992223305-0.163750223027j,\n",
    "    -0.421179844245+0.183644837982j, 0.818769184612+0.068015658737j]\n",
    "])"
   ]
  },
  {
   "cell_type": "code",
   "execution_count": 22,
   "metadata": {},
   "outputs": [],
   "source": [
    "from gbs_func import clements_decomposition\n",
    "\n",
    "def angles(U,n):\n",
    "    theta_arr, phi_arr = clements_decomposition(U)\n",
    "    theta_arr=np.multiply(theta_arr,(1/(2*np.pi)))\n",
    "    phi_arr=np.abs(np.multiply(phi_arr,(1/(2*np.pi))))\n",
    "    return theta_arr, phi_arr"
   ]
  },
  {
   "cell_type": "code",
   "execution_count": 23,
   "metadata": {},
   "outputs": [
    {
     "data": {
      "text/plain": [
       "(array([0.36579584, 0.03879647, 0.03613739, 0.05158392, 0.03672835,\n",
       "        0.21509533]),\n",
       " array([0.28503469, 0.64075221, 0.8571156 , 0.8733097 , 0.75494171,\n",
       "        0.1147252 ]))"
      ]
     },
     "execution_count": 23,
     "metadata": {},
     "output_type": "execute_result"
    }
   ],
   "source": [
    "angles(U,6)"
   ]
  },
  {
   "cell_type": "code",
   "execution_count": 24,
   "metadata": {},
   "outputs": [
    {
     "data": {
      "text/plain": [
       "Text(0.5, 0, 'wavelength (um)')"
      ]
     },
     "execution_count": 24,
     "metadata": {},
     "output_type": "execute_result"
    },
    {
     "data": {
      "image/png": "[encoded data removed]",
      "text/plain": [
       "<Figure size 640x480 with 1 Axes>"
      ]
     },
     "metadata": {},
     "output_type": "display_data"
    }
   ],
   "source": [
    "wl=np.linspace(1.5,1.6,100)\n",
    "theta_arr,phi_arr=angles(U,6)\n",
    "\n",
    "f=plt.figure()\n",
    "\n",
    "# theta_arr=np.random.rand(28)\n",
    "# theta_arr=np.multiply(0.5,theta_arr)\n",
    "# theta_arr=np.ones(28)*0.125\n",
    "\n",
    "\n",
    "sim3=ClassicalSim(ckt=sampler,wl=wl,a=inst,b=conn,c=ports,theta_arr=theta_arr,phi_arr=phi_arr)\n",
    "laser_1 = sim3.add_laser(ports=[\"int1\"], power=1.0)\n",
    "laser_2 = sim3.add_laser(ports=[\"inb1\"], power=0.0)\n",
    "laser_3 = sim3.add_laser(ports=[\"int2\"], power=0.0)\n",
    "laser_4 = sim3.add_laser(ports=[\"inb2\"], power=0.0)\n",
    "\n",
    "detector_1 = sim3.add_detector(ports=[\"outt1\"])\n",
    "detector_2 = sim3.add_detector(ports=[\"outb1\"])\n",
    "detector_3 = sim3.add_detector(ports=[\"outt2\"])\n",
    "detector_4 = sim3.add_detector(ports=[\"outb2\"])\n",
    "\n",
    "\n",
    "result = sim3.run()   \n",
    "\n",
    "plt.plot(wl, np.abs(result.sdict['outt1'])**2, label='1')\n",
    "plt.plot(wl, np.abs(result.sdict['outb1'])**2, label='2')\n",
    "plt.plot(wl, np.abs(result.sdict['outt2'])**2, label='3')\n",
    "plt.plot(wl, np.abs(result.sdict['outb2'])**2, label='4')\n",
    "\n",
    "\n",
    "plt.axvline(x=1.55, color='k')\n",
    "plt.legend()\n",
    "plt.grid()\n",
    "plt.ylim([-0.01,1.01])\n",
    "plt.xlim([1.49,1.61])\n",
    "plt.xlim([1.54,1.56])\n",
    "plt.xlabel(\"wavelength (um)\")\n",
    "\n",
    "\n",
    "\n",
    " \n"
   ]
  },
  {
   "cell_type": "code",
   "execution_count": 25,
   "metadata": {},
   "outputs": [
    {
     "name": "stdout",
     "output_type": "stream",
     "text": [
      "Sq  param: \n",
      "0.881373587019543\n"
     ]
    }
   ],
   "source": [
    "\n",
    "mean_photon_number = 1\n",
    "r = np.arcsinh(np.sqrt(mean_photon_number))\n",
    "print(\"Sq  param: \")\n",
    "print(r)"
   ]
  },
  {
   "cell_type": "code",
   "execution_count": 26,
   "metadata": {},
   "outputs": [
    {
     "name": "stdout",
     "output_type": "stream",
     "text": [
      "0.0\n"
     ]
    }
   ],
   "source": [
    "s_sq = np.sinh(r)**2\n",
    "alpha_sq = 1 - s_sq\n",
    "\n",
    "if alpha_sq >= 0:\n",
    "    alpha = np.sqrt(alpha_sq)\n",
    "else:\n",
    "    alpha = None\n",
    "print(alpha)\n"
   ]
  },
  {
   "cell_type": "code",
   "execution_count": 27,
   "metadata": {},
   "outputs": [
    {
     "name": "stdout",
     "output_type": "stream",
     "text": [
      "[[1.17992265 0.23903733]\n",
      " [0.23903733 0.7011752 ]]\n",
      "[[0.10914315 0.34990039]\n",
      " [0.34990039 1.77195469]]\n",
      "[[ 1.53250146 -0.63367025]\n",
      " [-0.63367025  0.34859638]]\n",
      "[[1.21636569 0.15972141]\n",
      " [0.15972141 0.66473215]]\n"
     ]
    },
    {
     "data": {
      "image/png": "[encoded data removed]",
      "text/plain": [
       "<Figure size 1600x1600 with 4 Axes>"
      ]
     },
     "metadata": {},
     "output_type": "display_data"
    }
   ],
   "source": [
    "wl=1.55\n",
    "a=0\n",
    "r=0.881373587019543\n",
    "r=1\n",
    "# a=1.5\n",
    "\n",
    "\n",
    "sim=QuantumSim(ckt=sampler,wl=wl,a=inst,b=conn,c=ports,theta_arr=theta_arr,phi_arr=phi_arr)\n",
    "\n",
    "i1=SqueezedState(port=\"int1\",r=r,alpha=a*np.exp(2*np.pi*0.),phi=2*np.pi*0.0)\n",
    "i2=SqueezedState(port=\"inb1\",r=r,alpha=a*np.exp(2*np.pi*0.),phi=2*np.pi*0.0)\n",
    "i3=SqueezedState(port=\"int2\",r=r,alpha=a*np.exp(2*np.pi*0.),phi=2*np.pi*0.0)\n",
    "i4=SqueezedState(port=\"inb2\",r=r,alpha=a*np.exp(2*np.pi*0.),phi=2*np.pi*0.0)\n",
    "\n",
    "qstate=compose_qstate(i1,i2,i3,i4)\n",
    "sim.add_qstate(qstate=qstate)\n",
    "res=sim.run()\n",
    "res_state=res.state()\n",
    "\n",
    "\n",
    "\n",
    "\n",
    "fig,ax=plt.subplots(4,1,figsize=(16,16))\n",
    "cutoff=9\n",
    "k=0\n",
    "ind=0\n",
    "pdf=np.zeros((4,cutoff))\n",
    "for i in range(4,8):\n",
    "        means, cov = res_state.modes(i)\n",
    "        print(cov)\n",
    "        fock_amp = tw.quantum.state_vector(means, cov, cutoff=cutoff, hbar=1/2, check_purity=False)       \n",
    "\n",
    "        prob=np.sum(abs(fock_amp)**2) \n",
    "        prob=round(prob,3)   \n",
    "        p_arr=np.array(abs(fock_amp)**2)\n",
    "       \n",
    "\n",
    "        ax[k].bar(range(len(fock_amp)), p_arr)\n",
    "        ax[k].set_xticks(range(len(fock_amp)))\n",
    "        ax[k].set_xlabel(\"Fock state\")\n",
    "        ax[k].set_ylabel(\"Probability\")\n",
    "        ax[k].set_ylim([0, 1])\n",
    "        ax[k].set_xlim([0, cutoff])\n",
    "        ax[k].set_title(f'Mode {i}, prob={prob}')\n",
    "        k+=1\n",
    "\n",
    "# plt.tight_layout()\n",
    "plt.tight_layout(pad=0.1)\n",
    "plt.show()"
   ]
  },
  {
   "cell_type": "code",
   "execution_count": 28,
   "metadata": {},
   "outputs": [
    {
     "data": {
      "text/plain": [
       "(Array([0., 0.], dtype=float64),\n",
       " Array([[0.10914315, 0.34990039],\n",
       "        [0.34990039, 1.77195469]], dtype=float64))"
      ]
     },
     "execution_count": 28,
     "metadata": {},
     "output_type": "execute_result"
    }
   ],
   "source": [
    "res_state.modes(5)"
   ]
  },
  {
   "cell_type": "code",
   "execution_count": 29,
   "metadata": {},
   "outputs": [],
   "source": [
    "import pandas as pd\n",
    "from thewalrus.quantum.conversions import Amat,Qmat\n",
    "from simphony.quantum import xxpp_to_xpxp,xpxp_to_xxpp"
   ]
  },
  {
   "cell_type": "code",
   "execution_count": 30,
   "metadata": {},
   "outputs": [
    {
     "data": {
      "text/plain": [
       "Array([0., 0., 0., 0., 0., 0., 0., 0.], dtype=float64)"
      ]
     },
     "execution_count": 30,
     "metadata": {},
     "output_type": "execute_result"
    }
   ],
   "source": [
    "means=xxpp_to_xpxp(res_state.means)[8:16]\n",
    "means=xpxp_to_xxpp(means)\n",
    "means"
   ]
  },
  {
   "cell_type": "code",
   "execution_count": 31,
   "metadata": {},
   "outputs": [],
   "source": [
    "Cv=res_state.cov\n",
    "# cv=xpxp_to_xxpp(cv)\n",
    "cv=np.array(Cv.copy())\n",
    "cv=xxpp_to_xpxp(cv)\n",
    "# cv[(abs(cv)) < 1e-10] = 0\n",
    "# V=cv[8:16,8:16]\n",
    "fd=pd.DataFrame(cv[:,4:24])\n",
    "fd1=pd.DataFrame(cv[:,:8])\n",
    "fd2=pd.DataFrame(cv[:,8:16])\n",
    "fd3=pd.DataFrame(cv[:,16:24])\n",
    "fd4=pd.DataFrame(cv[:,24:32])\n",
    "fd5=pd.DataFrame(cv[:10,:10])\n",
    "# print(fd1)"
   ]
  },
  {
   "cell_type": "code",
   "execution_count": 32,
   "metadata": {},
   "outputs": [
    {
     "data": {
      "text/html": [
       "<div>\n",
       "<style scoped>\n",
       "    .dataframe tbody tr th:only-of-type {\n",
       "        vertical-align: middle;\n",
       "    }\n",
       "\n",
       "    .dataframe tbody tr th {\n",
       "        vertical-align: top;\n",
       "    }\n",
       "\n",
       "    .dataframe thead th {\n",
       "        text-align: right;\n",
       "    }\n",
       "</style>\n",
       "<table border=\"1\" class=\"dataframe\">\n",
       "  <thead>\n",
       "    <tr style=\"text-align: right;\">\n",
       "      <th></th>\n",
       "      <th>0</th>\n",
       "      <th>1</th>\n",
       "      <th>2</th>\n",
       "      <th>3</th>\n",
       "      <th>4</th>\n",
       "      <th>5</th>\n",
       "      <th>6</th>\n",
       "      <th>7</th>\n",
       "    </tr>\n",
       "  </thead>\n",
       "  <tbody>\n",
       "    <tr>\n",
       "      <th>0</th>\n",
       "      <td>1.179923</td>\n",
       "      <td>0.239037</td>\n",
       "      <td>-0.070579</td>\n",
       "      <td>0.008211</td>\n",
       "      <td>-0.129992</td>\n",
       "      <td>0.100695</td>\n",
       "      <td>0.530895</td>\n",
       "      <td>-0.627502</td>\n",
       "    </tr>\n",
       "    <tr>\n",
       "      <th>1</th>\n",
       "      <td>0.239037</td>\n",
       "      <td>0.701175</td>\n",
       "      <td>0.008211</td>\n",
       "      <td>0.070579</td>\n",
       "      <td>0.100695</td>\n",
       "      <td>0.129992</td>\n",
       "      <td>-0.627502</td>\n",
       "      <td>-0.530895</td>\n",
       "    </tr>\n",
       "    <tr>\n",
       "      <th>2</th>\n",
       "      <td>-0.070579</td>\n",
       "      <td>0.008211</td>\n",
       "      <td>0.109143</td>\n",
       "      <td>0.349900</td>\n",
       "      <td>0.023150</td>\n",
       "      <td>-0.016674</td>\n",
       "      <td>-0.033698</td>\n",
       "      <td>0.038315</td>\n",
       "    </tr>\n",
       "    <tr>\n",
       "      <th>3</th>\n",
       "      <td>0.008211</td>\n",
       "      <td>0.070579</td>\n",
       "      <td>0.349900</td>\n",
       "      <td>1.771955</td>\n",
       "      <td>-0.016674</td>\n",
       "      <td>-0.023150</td>\n",
       "      <td>0.038315</td>\n",
       "      <td>0.033698</td>\n",
       "    </tr>\n",
       "    <tr>\n",
       "      <th>4</th>\n",
       "      <td>-0.129992</td>\n",
       "      <td>0.100695</td>\n",
       "      <td>0.023150</td>\n",
       "      <td>-0.016674</td>\n",
       "      <td>1.532501</td>\n",
       "      <td>-0.633670</td>\n",
       "      <td>0.044227</td>\n",
       "      <td>-0.200946</td>\n",
       "    </tr>\n",
       "    <tr>\n",
       "      <th>5</th>\n",
       "      <td>0.100695</td>\n",
       "      <td>0.129992</td>\n",
       "      <td>-0.016674</td>\n",
       "      <td>-0.023150</td>\n",
       "      <td>-0.633670</td>\n",
       "      <td>0.348596</td>\n",
       "      <td>-0.200946</td>\n",
       "      <td>-0.044227</td>\n",
       "    </tr>\n",
       "    <tr>\n",
       "      <th>6</th>\n",
       "      <td>0.530895</td>\n",
       "      <td>-0.627502</td>\n",
       "      <td>-0.033698</td>\n",
       "      <td>0.038315</td>\n",
       "      <td>0.044227</td>\n",
       "      <td>-0.200946</td>\n",
       "      <td>1.216366</td>\n",
       "      <td>0.159721</td>\n",
       "    </tr>\n",
       "    <tr>\n",
       "      <th>7</th>\n",
       "      <td>-0.627502</td>\n",
       "      <td>-0.530895</td>\n",
       "      <td>0.038315</td>\n",
       "      <td>0.033698</td>\n",
       "      <td>-0.200946</td>\n",
       "      <td>-0.044227</td>\n",
       "      <td>0.159721</td>\n",
       "      <td>0.664732</td>\n",
       "    </tr>\n",
       "  </tbody>\n",
       "</table>\n",
       "</div>"
      ],
      "text/plain": [
       "          0         1         2  ...         5         6         7\n",
       "0  1.179923  0.239037 -0.070579  ...  0.100695  0.530895 -0.627502\n",
       "1  0.239037  0.701175  0.008211  ...  0.129992 -0.627502 -0.530895\n",
       "2 -0.070579  0.008211  0.109143  ... -0.016674 -0.033698  0.038315\n",
       "3  0.008211  0.070579  0.349900  ... -0.023150  0.038315  0.033698\n",
       "4 -0.129992  0.100695  0.023150  ... -0.633670  0.044227 -0.200946\n",
       "5  0.100695  0.129992 -0.016674  ...  0.348596 -0.200946 -0.044227\n",
       "6  0.530895 -0.627502 -0.033698  ... -0.200946  1.216366  0.159721\n",
       "7 -0.627502 -0.530895  0.038315  ... -0.044227  0.159721  0.664732\n",
       "\n",
       "[8 rows x 8 columns]"
      ]
     },
     "execution_count": 32,
     "metadata": {},
     "output_type": "execute_result"
    }
   ],
   "source": [
    "out_cov=cv[8:16,8:16]\n",
    "gh=pd.DataFrame(out_cov)\n",
    "gh"
   ]
  },
  {
   "cell_type": "code",
   "execution_count": 33,
   "metadata": {},
   "outputs": [
    {
     "data": {
      "text/html": [
       "<div>\n",
       "<style scoped>\n",
       "    .dataframe tbody tr th:only-of-type {\n",
       "        vertical-align: middle;\n",
       "    }\n",
       "\n",
       "    .dataframe tbody tr th {\n",
       "        vertical-align: top;\n",
       "    }\n",
       "\n",
       "    .dataframe thead th {\n",
       "        text-align: right;\n",
       "    }\n",
       "</style>\n",
       "<table border=\"1\" class=\"dataframe\">\n",
       "  <thead>\n",
       "    <tr style=\"text-align: right;\">\n",
       "      <th></th>\n",
       "      <th>0</th>\n",
       "      <th>1</th>\n",
       "      <th>2</th>\n",
       "      <th>3</th>\n",
       "      <th>4</th>\n",
       "      <th>5</th>\n",
       "      <th>6</th>\n",
       "      <th>7</th>\n",
       "    </tr>\n",
       "  </thead>\n",
       "  <tbody>\n",
       "    <tr>\n",
       "      <th>0</th>\n",
       "      <td>1.179923</td>\n",
       "      <td>-0.070579</td>\n",
       "      <td>-0.129992</td>\n",
       "      <td>0.530895</td>\n",
       "      <td>0.239037</td>\n",
       "      <td>0.008211</td>\n",
       "      <td>0.100695</td>\n",
       "      <td>-0.627502</td>\n",
       "    </tr>\n",
       "    <tr>\n",
       "      <th>1</th>\n",
       "      <td>-0.070579</td>\n",
       "      <td>0.109143</td>\n",
       "      <td>0.023150</td>\n",
       "      <td>-0.033698</td>\n",
       "      <td>0.008211</td>\n",
       "      <td>0.349900</td>\n",
       "      <td>-0.016674</td>\n",
       "      <td>0.038315</td>\n",
       "    </tr>\n",
       "    <tr>\n",
       "      <th>2</th>\n",
       "      <td>-0.129992</td>\n",
       "      <td>0.023150</td>\n",
       "      <td>1.532501</td>\n",
       "      <td>0.044227</td>\n",
       "      <td>0.100695</td>\n",
       "      <td>-0.016674</td>\n",
       "      <td>-0.633670</td>\n",
       "      <td>-0.200946</td>\n",
       "    </tr>\n",
       "    <tr>\n",
       "      <th>3</th>\n",
       "      <td>0.530895</td>\n",
       "      <td>-0.033698</td>\n",
       "      <td>0.044227</td>\n",
       "      <td>1.216366</td>\n",
       "      <td>-0.627502</td>\n",
       "      <td>0.038315</td>\n",
       "      <td>-0.200946</td>\n",
       "      <td>0.159721</td>\n",
       "    </tr>\n",
       "    <tr>\n",
       "      <th>4</th>\n",
       "      <td>0.239037</td>\n",
       "      <td>0.008211</td>\n",
       "      <td>0.100695</td>\n",
       "      <td>-0.627502</td>\n",
       "      <td>0.701175</td>\n",
       "      <td>0.070579</td>\n",
       "      <td>0.129992</td>\n",
       "      <td>-0.530895</td>\n",
       "    </tr>\n",
       "    <tr>\n",
       "      <th>5</th>\n",
       "      <td>0.008211</td>\n",
       "      <td>0.349900</td>\n",
       "      <td>-0.016674</td>\n",
       "      <td>0.038315</td>\n",
       "      <td>0.070579</td>\n",
       "      <td>1.771955</td>\n",
       "      <td>-0.023150</td>\n",
       "      <td>0.033698</td>\n",
       "    </tr>\n",
       "    <tr>\n",
       "      <th>6</th>\n",
       "      <td>0.100695</td>\n",
       "      <td>-0.016674</td>\n",
       "      <td>-0.633670</td>\n",
       "      <td>-0.200946</td>\n",
       "      <td>0.129992</td>\n",
       "      <td>-0.023150</td>\n",
       "      <td>0.348596</td>\n",
       "      <td>-0.044227</td>\n",
       "    </tr>\n",
       "    <tr>\n",
       "      <th>7</th>\n",
       "      <td>-0.627502</td>\n",
       "      <td>0.038315</td>\n",
       "      <td>-0.200946</td>\n",
       "      <td>0.159721</td>\n",
       "      <td>-0.530895</td>\n",
       "      <td>0.033698</td>\n",
       "      <td>-0.044227</td>\n",
       "      <td>0.664732</td>\n",
       "    </tr>\n",
       "  </tbody>\n",
       "</table>\n",
       "</div>"
      ],
      "text/plain": [
       "          0         1         2  ...         5         6         7\n",
       "0  1.179923 -0.070579 -0.129992  ...  0.008211  0.100695 -0.627502\n",
       "1 -0.070579  0.109143  0.023150  ...  0.349900 -0.016674  0.038315\n",
       "2 -0.129992  0.023150  1.532501  ... -0.016674 -0.633670 -0.200946\n",
       "3  0.530895 -0.033698  0.044227  ...  0.038315 -0.200946  0.159721\n",
       "4  0.239037  0.008211  0.100695  ...  0.070579  0.129992 -0.530895\n",
       "5  0.008211  0.349900 -0.016674  ...  1.771955 -0.023150  0.033698\n",
       "6  0.100695 -0.016674 -0.633670  ... -0.023150  0.348596 -0.044227\n",
       "7 -0.627502  0.038315 -0.200946  ...  0.033698 -0.044227  0.664732\n",
       "\n",
       "[8 rows x 8 columns]"
      ]
     },
     "execution_count": 33,
     "metadata": {},
     "output_type": "execute_result"
    }
   ],
   "source": [
    "hbar=1/2\n",
    "new_cov=xpxp_to_xxpp(out_cov)\n",
    "pd.DataFrame(new_cov)\n"
   ]
  },
  {
   "cell_type": "code",
   "execution_count": 34,
   "metadata": {},
   "outputs": [
    {
     "data": {
      "text/html": [
       "<div>\n",
       "<style scoped>\n",
       "    .dataframe tbody tr th:only-of-type {\n",
       "        vertical-align: middle;\n",
       "    }\n",
       "\n",
       "    .dataframe tbody tr th {\n",
       "        vertical-align: top;\n",
       "    }\n",
       "\n",
       "    .dataframe thead th {\n",
       "        text-align: right;\n",
       "    }\n",
       "</style>\n",
       "<table border=\"1\" class=\"dataframe\">\n",
       "  <thead>\n",
       "    <tr style=\"text-align: right;\">\n",
       "      <th></th>\n",
       "      <th>0</th>\n",
       "      <th>1</th>\n",
       "      <th>2</th>\n",
       "      <th>3</th>\n",
       "      <th>4</th>\n",
       "      <th>5</th>\n",
       "      <th>6</th>\n",
       "      <th>7</th>\n",
       "    </tr>\n",
       "  </thead>\n",
       "  <tbody>\n",
       "    <tr>\n",
       "      <th>0</th>\n",
       "      <td>0.201062-0.200779j</td>\n",
       "      <td>-0.059283-0.006897j</td>\n",
       "      <td>-0.109186-0.084578j</td>\n",
       "      <td>0.445924+0.527069j</td>\n",
       "      <td>0.000000+0.000000j</td>\n",
       "      <td>0.000000+0.000000j</td>\n",
       "      <td>0.000000+0.000000j</td>\n",
       "      <td>0.000000+0.000000j</td>\n",
       "    </tr>\n",
       "    <tr>\n",
       "      <th>1</th>\n",
       "      <td>-0.059283-0.006897j</td>\n",
       "      <td>-0.698338-0.293898j</td>\n",
       "      <td>0.019445+0.014005j</td>\n",
       "      <td>-0.028305-0.032183j</td>\n",
       "      <td>0.000000+0.000000j</td>\n",
       "      <td>0.000000+0.000000j</td>\n",
       "      <td>0.000000+0.000000j</td>\n",
       "      <td>0.000000+0.000000j</td>\n",
       "    </tr>\n",
       "    <tr>\n",
       "      <th>2</th>\n",
       "      <td>-0.109186-0.084578j</td>\n",
       "      <td>0.019445+0.014005j</td>\n",
       "      <td>0.497210+0.532250j</td>\n",
       "      <td>0.037148+0.168784j</td>\n",
       "      <td>0.000000+0.000000j</td>\n",
       "      <td>0.000000+0.000000j</td>\n",
       "      <td>0.000000+0.000000j</td>\n",
       "      <td>0.000000+0.000000j</td>\n",
       "    </tr>\n",
       "    <tr>\n",
       "      <th>3</th>\n",
       "      <td>0.445924+0.527069j</td>\n",
       "      <td>-0.028305-0.032183j</td>\n",
       "      <td>0.037148+0.168784j</td>\n",
       "      <td>0.231672-0.134158j</td>\n",
       "      <td>0.000000+0.000000j</td>\n",
       "      <td>0.000000+0.000000j</td>\n",
       "      <td>0.000000+0.000000j</td>\n",
       "      <td>0.000000+0.000000j</td>\n",
       "    </tr>\n",
       "    <tr>\n",
       "      <th>4</th>\n",
       "      <td>0.000000+0.000000j</td>\n",
       "      <td>0.000000+0.000000j</td>\n",
       "      <td>0.000000+0.000000j</td>\n",
       "      <td>0.000000+0.000000j</td>\n",
       "      <td>0.201062+0.200779j</td>\n",
       "      <td>-0.059283+0.006897j</td>\n",
       "      <td>-0.109186+0.084578j</td>\n",
       "      <td>0.445924-0.527069j</td>\n",
       "    </tr>\n",
       "    <tr>\n",
       "      <th>5</th>\n",
       "      <td>0.000000+0.000000j</td>\n",
       "      <td>0.000000+0.000000j</td>\n",
       "      <td>0.000000+0.000000j</td>\n",
       "      <td>0.000000+0.000000j</td>\n",
       "      <td>-0.059283+0.006897j</td>\n",
       "      <td>-0.698338+0.293898j</td>\n",
       "      <td>0.019445-0.014005j</td>\n",
       "      <td>-0.028305+0.032183j</td>\n",
       "    </tr>\n",
       "    <tr>\n",
       "      <th>6</th>\n",
       "      <td>0.000000+0.000000j</td>\n",
       "      <td>0.000000+0.000000j</td>\n",
       "      <td>0.000000+0.000000j</td>\n",
       "      <td>0.000000+0.000000j</td>\n",
       "      <td>-0.109186+0.084578j</td>\n",
       "      <td>0.019445-0.014005j</td>\n",
       "      <td>0.497210-0.532250j</td>\n",
       "      <td>0.037148-0.168784j</td>\n",
       "    </tr>\n",
       "    <tr>\n",
       "      <th>7</th>\n",
       "      <td>0.000000+0.000000j</td>\n",
       "      <td>0.000000+0.000000j</td>\n",
       "      <td>0.000000+0.000000j</td>\n",
       "      <td>0.000000+0.000000j</td>\n",
       "      <td>0.445924-0.527069j</td>\n",
       "      <td>-0.028305+0.032183j</td>\n",
       "      <td>0.037148-0.168784j</td>\n",
       "      <td>0.231672+0.134158j</td>\n",
       "    </tr>\n",
       "  </tbody>\n",
       "</table>\n",
       "</div>"
      ],
      "text/plain": [
       "                    0  ...                   7\n",
       "0  0.201062-0.200779j  ...  0.000000+0.000000j\n",
       "1 -0.059283-0.006897j  ...  0.000000+0.000000j\n",
       "2 -0.109186-0.084578j  ...  0.000000+0.000000j\n",
       "3  0.445924+0.527069j  ...  0.000000+0.000000j\n",
       "4  0.000000+0.000000j  ...  0.445924-0.527069j\n",
       "5  0.000000+0.000000j  ... -0.028305+0.032183j\n",
       "6  0.000000+0.000000j  ...  0.037148-0.168784j\n",
       "7  0.000000+0.000000j  ...  0.231672+0.134158j\n",
       "\n",
       "[8 rows x 8 columns]"
      ]
     },
     "execution_count": 34,
     "metadata": {},
     "output_type": "execute_result"
    }
   ],
   "source": [
    "A=Amat(new_cov,hbar=hbar)\n",
    "A[abs(A)< 1e-10]=0\n",
    "df=pd.DataFrame(A)\n",
    "df\n"
   ]
  },
  {
   "cell_type": "code",
   "execution_count": 35,
   "metadata": {},
   "outputs": [],
   "source": [
    "from thewalrus import decompositions as dc\n",
    "def decompose_cov(cov):\n",
    "    cov=np.abs(cov)\n",
    "    m = cov.shape[0] // 2\n",
    "    D, S = dc.williamson(cov)\n",
    "    T = S @ S.T \n",
    "    DmI = D - np.eye(2*m)\n",
    "    DmI[abs(DmI) < 1e-11] = 0. # remove slightly negative values\n",
    "    sqrtW = S @ np.sqrt(DmI)\n",
    "    return T, sqrtW"
   ]
  },
  {
   "cell_type": "code",
   "execution_count": 62,
   "metadata": {},
   "outputs": [
    {
     "data": {
      "text/plain": [
       "0.1763784476141347"
      ]
     },
     "execution_count": 62,
     "metadata": {},
     "output_type": "execute_result"
    }
   ],
   "source": [
    "1/(np.cosh(0.881373587019543)**4)\n",
    "1/(np.cosh(1)**4)"
   ]
  },
  {
   "cell_type": "code",
   "execution_count": 37,
   "metadata": {},
   "outputs": [],
   "source": [
    "# def sigma(cov):\n",
    "#     n=len(cov)//2\n",
    "#     I=np.identity(n,dtype=complex)\n",
    "#     iI=(1j)*I\n",
    "#     f=np.block([[I,iI],[I,-iI]])\n",
    "#     f=(1/np.sqrt(2))*f\n",
    "#     sigma=f@cov@((f.conj()).T)\n",
    "#     return sigma\n",
    "\n",
    "# def xmat(N):\n",
    "#     I = np.identity(N)\n",
    "#     O = np.zeros_like(I)\n",
    "#     X = np.block([[O, I], [I, O]])\n",
    "#     return X\n",
    "\n",
    "\n",
    "# def qmat(cov,hbar=hbar):\n",
    "#     # qmat=np.ones((len(cov),len(cov)))*0.5\n",
    "#     qmat=np.eye(len(cov))*0.5\n",
    "#     q=cov+qmat\n",
    "#     return q\n",
    "\n",
    "# def amat(cov,hbar=hbar):\n",
    "#     N = len(cov) // 2\n",
    "#     X = xmat(N)\n",
    "\n",
    "#     # inverse Q matrix\n",
    "    \n",
    "#     Q = qmat(cov, hbar=hbar)\n",
    "\n",
    "#     Qinv = np.linalg.inv(Q)\n",
    "\n",
    "#     # calculate Hamilton's A matrix: A = X.(I-Q^{-1})*\n",
    "   \n",
    "#     I=np.eye(len(cov))\n",
    "#     i_minus_sigma_inv=I-Qinv\n",
    "#     # A =np.dot(X,i_minus_sigma).conj()f@cov@((f.conj()).T)\n",
    "#     A = X @ (np.identity(2 * N) - Qinv)\n",
    "#     # A = X @(i_minus_sigma_inv)\n",
    "#     return A"
   ]
  },
  {
   "cell_type": "code",
   "execution_count": 38,
   "metadata": {},
   "outputs": [],
   "source": [
    "# sigma_cov=sigma(new_cov)\n",
    "# q=qmat(sigma_cov)\n",
    "# det=np.linalg.det(q)\n",
    "# 1/np.sqrt(np.abs(det))\n",
    "# # qq=np.linalg.inv(q)\n",
    "# a=amat(sigma_cov)\n",
    "# a[np.abs(a)<1e-10]=0\n",
    "# pd.DataFrame(a)\n",
    "\n",
    "# def F(cov):\n",
    "#     n=len(cov)//2\n",
    "#     I=np.identity(n,dtype=complex)\n",
    "#     iI=(1j)*I\n",
    "#     f=np.block([[I,iI],[I,-iI]])\n",
    "#     f=(1/np.sqrt(2))*f   \n",
    "#     return f\n",
    "# mean=means\n",
    "# f=F(mean)\n",
    "# new_mean=f@mean\n",
    "# s=sigma(new_cov)\n",
    "# pd.DataFrame(s)"
   ]
  },
  {
   "cell_type": "code",
   "execution_count": 39,
   "metadata": {},
   "outputs": [],
   "source": [
    "from thewalrus.quantum.conversions import Amat,Qmat"
   ]
  },
  {
   "cell_type": "code",
   "execution_count": 40,
   "metadata": {},
   "outputs": [
    {
     "data": {
      "text/plain": [
       "0.1763784476141329"
      ]
     },
     "execution_count": 40,
     "metadata": {},
     "output_type": "execute_result"
    }
   ],
   "source": [
    "A=Amat(new_cov,hbar=hbar)\n",
    "Q=Qmat(new_cov,hbar=hbar)\n",
    "# Q=qmat(s)\n",
    "# A=amat(s)\n",
    "Q_inv=np.linalg.inv(Q)\n",
    "# Q=qmat(s)\n",
    "# A=amat(s)\n",
    "Det=np.linalg.det(Q)\n",
    "1/np.sqrt(np.abs(Det))"
   ]
  },
  {
   "cell_type": "code",
   "execution_count": 115,
   "metadata": {},
   "outputs": [],
   "source": [
    "from thewalrus import hafnian as haf\n",
    "def probability(A,ar,det):\n",
    "    fact=1\n",
    "    for factor in ar:\n",
    "        fact*=factorial(factor)      \n",
    "    As=sub_mat(A,ar)\n",
    "    hafn=haf(As)\n",
    "    if hafn.real <0:\n",
    "        if hafn.imag<0:\n",
    "            hafn=0\n",
    "    det=det\n",
    "    prob=hafn/(det*fact)\n",
    "    return prob.real"
   ]
  },
  {
   "cell_type": "code",
   "execution_count": 42,
   "metadata": {},
   "outputs": [
    {
     "data": {
      "text/html": [
       "<div>\n",
       "<style scoped>\n",
       "    .dataframe tbody tr th:only-of-type {\n",
       "        vertical-align: middle;\n",
       "    }\n",
       "\n",
       "    .dataframe tbody tr th {\n",
       "        vertical-align: top;\n",
       "    }\n",
       "\n",
       "    .dataframe thead th {\n",
       "        text-align: right;\n",
       "    }\n",
       "</style>\n",
       "<table border=\"1\" class=\"dataframe\">\n",
       "  <thead>\n",
       "    <tr style=\"text-align: right;\">\n",
       "      <th></th>\n",
       "      <th>0</th>\n",
       "      <th>1</th>\n",
       "      <th>2</th>\n",
       "      <th>3</th>\n",
       "      <th>4</th>\n",
       "      <th>5</th>\n",
       "      <th>6</th>\n",
       "      <th>7</th>\n",
       "    </tr>\n",
       "  </thead>\n",
       "  <tbody>\n",
       "    <tr>\n",
       "      <th>0</th>\n",
       "      <td>0.201062-0.200779j</td>\n",
       "      <td>-0.059283-0.006897j</td>\n",
       "      <td>-0.109186-0.084578j</td>\n",
       "      <td>0.445924+0.527069j</td>\n",
       "      <td>0.000000+0.000000j</td>\n",
       "      <td>0.000000+0.000000j</td>\n",
       "      <td>0.000000+0.000000j</td>\n",
       "      <td>0.000000+0.000000j</td>\n",
       "    </tr>\n",
       "    <tr>\n",
       "      <th>1</th>\n",
       "      <td>-0.059283-0.006897j</td>\n",
       "      <td>-0.698338-0.293898j</td>\n",
       "      <td>0.019445+0.014005j</td>\n",
       "      <td>-0.028305-0.032183j</td>\n",
       "      <td>0.000000+0.000000j</td>\n",
       "      <td>0.000000+0.000000j</td>\n",
       "      <td>0.000000+0.000000j</td>\n",
       "      <td>0.000000+0.000000j</td>\n",
       "    </tr>\n",
       "    <tr>\n",
       "      <th>2</th>\n",
       "      <td>-0.109186-0.084578j</td>\n",
       "      <td>0.019445+0.014005j</td>\n",
       "      <td>0.497210+0.532250j</td>\n",
       "      <td>0.037148+0.168784j</td>\n",
       "      <td>0.000000+0.000000j</td>\n",
       "      <td>0.000000+0.000000j</td>\n",
       "      <td>0.000000+0.000000j</td>\n",
       "      <td>0.000000+0.000000j</td>\n",
       "    </tr>\n",
       "    <tr>\n",
       "      <th>3</th>\n",
       "      <td>0.445924+0.527069j</td>\n",
       "      <td>-0.028305-0.032183j</td>\n",
       "      <td>0.037148+0.168784j</td>\n",
       "      <td>0.231672-0.134158j</td>\n",
       "      <td>0.000000+0.000000j</td>\n",
       "      <td>0.000000+0.000000j</td>\n",
       "      <td>0.000000+0.000000j</td>\n",
       "      <td>0.000000+0.000000j</td>\n",
       "    </tr>\n",
       "    <tr>\n",
       "      <th>4</th>\n",
       "      <td>0.000000+0.000000j</td>\n",
       "      <td>0.000000+0.000000j</td>\n",
       "      <td>0.000000+0.000000j</td>\n",
       "      <td>0.000000+0.000000j</td>\n",
       "      <td>0.201062+0.200779j</td>\n",
       "      <td>-0.059283+0.006897j</td>\n",
       "      <td>-0.109186+0.084578j</td>\n",
       "      <td>0.445924-0.527069j</td>\n",
       "    </tr>\n",
       "    <tr>\n",
       "      <th>5</th>\n",
       "      <td>0.000000+0.000000j</td>\n",
       "      <td>0.000000+0.000000j</td>\n",
       "      <td>0.000000+0.000000j</td>\n",
       "      <td>0.000000+0.000000j</td>\n",
       "      <td>-0.059283+0.006897j</td>\n",
       "      <td>-0.698338+0.293898j</td>\n",
       "      <td>0.019445-0.014005j</td>\n",
       "      <td>-0.028305+0.032183j</td>\n",
       "    </tr>\n",
       "    <tr>\n",
       "      <th>6</th>\n",
       "      <td>0.000000+0.000000j</td>\n",
       "      <td>0.000000+0.000000j</td>\n",
       "      <td>0.000000+0.000000j</td>\n",
       "      <td>0.000000+0.000000j</td>\n",
       "      <td>-0.109186+0.084578j</td>\n",
       "      <td>0.019445-0.014005j</td>\n",
       "      <td>0.497210-0.532250j</td>\n",
       "      <td>0.037148-0.168784j</td>\n",
       "    </tr>\n",
       "    <tr>\n",
       "      <th>7</th>\n",
       "      <td>0.000000+0.000000j</td>\n",
       "      <td>0.000000+0.000000j</td>\n",
       "      <td>0.000000+0.000000j</td>\n",
       "      <td>0.000000+0.000000j</td>\n",
       "      <td>0.445924-0.527069j</td>\n",
       "      <td>-0.028305+0.032183j</td>\n",
       "      <td>0.037148-0.168784j</td>\n",
       "      <td>0.231672+0.134158j</td>\n",
       "    </tr>\n",
       "  </tbody>\n",
       "</table>\n",
       "</div>"
      ],
      "text/plain": [
       "                    0  ...                   7\n",
       "0  0.201062-0.200779j  ...  0.000000+0.000000j\n",
       "1 -0.059283-0.006897j  ...  0.000000+0.000000j\n",
       "2 -0.109186-0.084578j  ...  0.000000+0.000000j\n",
       "3  0.445924+0.527069j  ...  0.000000+0.000000j\n",
       "4  0.000000+0.000000j  ...  0.445924-0.527069j\n",
       "5  0.000000+0.000000j  ... -0.028305+0.032183j\n",
       "6  0.000000+0.000000j  ...  0.037148-0.168784j\n",
       "7  0.000000+0.000000j  ...  0.231672+0.134158j\n",
       "\n",
       "[8 rows x 8 columns]"
      ]
     },
     "execution_count": 42,
     "metadata": {},
     "output_type": "execute_result"
    }
   ],
   "source": [
    "df"
   ]
  },
  {
   "cell_type": "code",
   "execution_count": 63,
   "metadata": {},
   "outputs": [
    {
     "data": {
      "text/plain": [
       "(0.1763784476141329-2.594882124616612e-17j)"
      ]
     },
     "execution_count": 63,
     "metadata": {},
     "output_type": "execute_result"
    }
   ],
   "source": [
    "hbar=1/2\n",
    "A=Amat(new_cov,hbar=hbar)\n",
    "Q=Qmat(new_cov,hbar=hbar)\n",
    "det=(np.sqrt(np.linalg.det(Q)))\n",
    "d=1/det\n",
    "d\n"
   ]
  },
  {
   "cell_type": "code",
   "execution_count": 44,
   "metadata": {},
   "outputs": [
    {
     "data": {
      "text/plain": [
       "(0.06855956371214471-1.0086492355197647e-17j)"
      ]
     },
     "execution_count": 44,
     "metadata": {},
     "output_type": "execute_result"
    }
   ],
   "source": [
    "B = (np.dot(U, U.T) * np.tanh(1))[:, [0, 1]][[0, 1]]\n",
    "pd.DataFrame(B)\n",
    "abs(haf(B))**2/det\n"
   ]
  },
  {
   "cell_type": "code",
   "execution_count": 70,
   "metadata": {},
   "outputs": [
    {
     "data": {
      "text/plain": [
       "(-4.879379027172531e-16-1.5959455978986625e-16j)"
      ]
     },
     "execution_count": 70,
     "metadata": {},
     "output_type": "execute_result"
    }
   ],
   "source": [
    "ar=[3,0,0,0]\n",
    "new_a=sub_mat(A,ar)\n",
    "h=haf(new_a)\n",
    "hh=h/det\n",
    "abs(hh)\n",
    "h\n"
   ]
  },
  {
   "cell_type": "code",
   "execution_count": 71,
   "metadata": {},
   "outputs": [
    {
     "data": {
      "text/html": [
       "<div>\n",
       "<style scoped>\n",
       "    .dataframe tbody tr th:only-of-type {\n",
       "        vertical-align: middle;\n",
       "    }\n",
       "\n",
       "    .dataframe tbody tr th {\n",
       "        vertical-align: top;\n",
       "    }\n",
       "\n",
       "    .dataframe thead th {\n",
       "        text-align: right;\n",
       "    }\n",
       "</style>\n",
       "<table border=\"1\" class=\"dataframe\">\n",
       "  <thead>\n",
       "    <tr style=\"text-align: right;\">\n",
       "      <th></th>\n",
       "      <th>0</th>\n",
       "      <th>1</th>\n",
       "      <th>2</th>\n",
       "      <th>3</th>\n",
       "      <th>4</th>\n",
       "      <th>5</th>\n",
       "    </tr>\n",
       "  </thead>\n",
       "  <tbody>\n",
       "    <tr>\n",
       "      <th>0</th>\n",
       "      <td>0.201062-0.200779j</td>\n",
       "      <td>0.201062-0.200779j</td>\n",
       "      <td>0.201062-0.200779j</td>\n",
       "      <td>0.000000+0.000000j</td>\n",
       "      <td>0.000000+0.000000j</td>\n",
       "      <td>0.000000+0.000000j</td>\n",
       "    </tr>\n",
       "    <tr>\n",
       "      <th>1</th>\n",
       "      <td>0.201062-0.200779j</td>\n",
       "      <td>0.201062-0.200779j</td>\n",
       "      <td>0.201062-0.200779j</td>\n",
       "      <td>0.000000+0.000000j</td>\n",
       "      <td>0.000000+0.000000j</td>\n",
       "      <td>0.000000+0.000000j</td>\n",
       "    </tr>\n",
       "    <tr>\n",
       "      <th>2</th>\n",
       "      <td>0.201062-0.200779j</td>\n",
       "      <td>0.201062-0.200779j</td>\n",
       "      <td>0.201062-0.200779j</td>\n",
       "      <td>0.000000+0.000000j</td>\n",
       "      <td>0.000000+0.000000j</td>\n",
       "      <td>0.000000+0.000000j</td>\n",
       "    </tr>\n",
       "    <tr>\n",
       "      <th>3</th>\n",
       "      <td>0.000000+0.000000j</td>\n",
       "      <td>0.000000+0.000000j</td>\n",
       "      <td>0.000000+0.000000j</td>\n",
       "      <td>0.201062+0.200779j</td>\n",
       "      <td>0.201062+0.200779j</td>\n",
       "      <td>0.201062+0.200779j</td>\n",
       "    </tr>\n",
       "    <tr>\n",
       "      <th>4</th>\n",
       "      <td>0.000000+0.000000j</td>\n",
       "      <td>0.000000+0.000000j</td>\n",
       "      <td>0.000000+0.000000j</td>\n",
       "      <td>0.201062+0.200779j</td>\n",
       "      <td>0.201062+0.200779j</td>\n",
       "      <td>0.201062+0.200779j</td>\n",
       "    </tr>\n",
       "    <tr>\n",
       "      <th>5</th>\n",
       "      <td>0.000000+0.000000j</td>\n",
       "      <td>0.000000+0.000000j</td>\n",
       "      <td>0.000000+0.000000j</td>\n",
       "      <td>0.201062+0.200779j</td>\n",
       "      <td>0.201062+0.200779j</td>\n",
       "      <td>0.201062+0.200779j</td>\n",
       "    </tr>\n",
       "  </tbody>\n",
       "</table>\n",
       "</div>"
      ],
      "text/plain": [
       "                    0  ...                   5\n",
       "0  0.201062-0.200779j  ...  0.000000+0.000000j\n",
       "1  0.201062-0.200779j  ...  0.000000+0.000000j\n",
       "2  0.201062-0.200779j  ...  0.000000+0.000000j\n",
       "3  0.000000+0.000000j  ...  0.201062+0.200779j\n",
       "4  0.000000+0.000000j  ...  0.201062+0.200779j\n",
       "5  0.000000+0.000000j  ...  0.201062+0.200779j\n",
       "\n",
       "[6 rows x 6 columns]"
      ]
     },
     "execution_count": 71,
     "metadata": {},
     "output_type": "execute_result"
    }
   ],
   "source": [
    "new_a[abs(new_a)<1e-10]=0\n",
    "pd.DataFrame(new_a)"
   ]
  },
  {
   "cell_type": "code",
   "execution_count": 72,
   "metadata": {},
   "outputs": [
    {
     "data": {
      "text/plain": [
       "0.0"
      ]
     },
     "execution_count": 72,
     "metadata": {},
     "output_type": "execute_result"
    }
   ],
   "source": [
    "A=Amat(new_cov,hbar=hbar)\n",
    "Q=Qmat(new_cov,hbar=hbar)\n",
    "det=np.abs(np.sqrt(np.linalg.det(Q)))\n",
    "d=1/det\n",
    "d\n",
    "# ar=[1,1,1,1]\n",
    "probability(A,ar,det)"
   ]
  },
  {
   "cell_type": "code",
   "execution_count": 48,
   "metadata": {},
   "outputs": [
    {
     "data": {
      "text/plain": [
       "True"
      ]
     },
     "execution_count": 48,
     "metadata": {},
     "output_type": "execute_result"
    }
   ],
   "source": [
    "def is_symmetric(matrix):\n",
    "    return np.allclose(matrix, matrix.T)\n",
    "\n",
    "is_symmetric(A)"
   ]
  },
  {
   "cell_type": "code",
   "execution_count": 49,
   "metadata": {},
   "outputs": [],
   "source": [
    "\n",
    "def trans(A,arr):\n",
    "    \n",
    "    sum=np.sum(arr)\n",
    "    D=np.eye(int(sum),dtype=complex)\n",
    "    j=0\n",
    "    d=0 \n",
    "    for a in arr:   \n",
    "        if a==0:\n",
    "            j+=1\n",
    "        else:\n",
    "            one=np.ones((a,a),dtype=complex)*A[j,j]\n",
    "            D[d:d+a,d:d+a]=one\n",
    "            d+=a\n",
    "            j+=1\n",
    "\n",
    "    new_dict={}\n",
    "    for (i, j), value in np.ndenumerate(A):\n",
    "        new_dict[(value.real,value.imag)]=[i,j]\n",
    "    \n",
    "\n",
    "    new_mat=D.copy()\n",
    "    for (i, j), value in np.ndenumerate(D):\n",
    "        if value==0*(1+1j):\n",
    "            \n",
    "            a=D[i,i]\n",
    "            b=D[j,j]\n",
    "            a_ind = new_dict[(a.real,a.imag)]\n",
    "            b_ind = new_dict[(b.real,b.imag)]\n",
    "        \n",
    "            for key, (d_i, d_j) in new_dict.items():\n",
    "                if (d_i, d_j) == (a_ind[0], b_ind[0]):\n",
    "                    \n",
    "                    new_mat[i, j] = key[0]+1j*key[1]\n",
    "\n",
    "    return new_mat\n",
    "\n",
    "## repearing for first and fourth quad\n",
    "def sub_mat(mat,arr):\n",
    "    n=int(mat.shape[0]/2)\n",
    "    A=mat[:n,:n]\n",
    "    B=mat[:n,n:]\n",
    "    C=mat[n:,n:]\n",
    "\n",
    "    a_new=trans(A,arr)\n",
    "    b_new=trans(B,arr)\n",
    "    c_new=trans(C,arr)\n",
    "\n",
    "    \n",
    "    s=a_new.shape[0]\n",
    "    As=np.eye(2*s,dtype=complex)\n",
    "    As[:s,:s]=a_new\n",
    "    As[s:,:s]=b_new\n",
    "    As[:s,s:]=b_new.T\n",
    "    As[s:,s:]=c_new\n",
    "    return As"
   ]
  },
  {
   "cell_type": "code",
   "execution_count": 76,
   "metadata": {},
   "outputs": [
    {
     "data": {
      "text/plain": [
       "1816"
      ]
     },
     "execution_count": 76,
     "metadata": {},
     "output_type": "execute_result"
    }
   ],
   "source": [
    "m=4\n",
    "array=range(12)\n",
    "perm_mat=[]\n",
    "new_array=[]\n",
    "\n",
    "\n",
    "for i in array:\n",
    "    new_array.append([i])\n",
    "\n",
    "\n",
    "for _ in range(3):\n",
    "    inter=[]\n",
    "    for n in new_array:\n",
    "        for i in array:      \n",
    "        \n",
    "            N=n.copy()\n",
    "            N.append(i)\n",
    "            inter.append(N)\n",
    "\n",
    "    new_array=inter\n",
    "\n",
    "new_array_1=[]\n",
    "for n in new_array:\n",
    "    # if np.sum(n)>max(array):\n",
    "    if np.sum(n)>10:\n",
    "        None\n",
    "    else:\n",
    "        new_array_1.append(n)\n",
    "\n",
    "new_array_1\n",
    "len(new_array_1)"
   ]
  },
  {
   "cell_type": "code",
   "execution_count": 51,
   "metadata": {},
   "outputs": [],
   "source": [
    "# new_array_1"
   ]
  },
  {
   "cell_type": "code",
   "execution_count": 77,
   "metadata": {},
   "outputs": [
    {
     "data": {
      "text/plain": [
       "0.9106716000765812"
      ]
     },
     "execution_count": 77,
     "metadata": {},
     "output_type": "execute_result"
    }
   ],
   "source": [
    "# possibilities=perm_mat\n",
    "\n",
    "possibilities=new_array_1\n",
    "probability_mat=[]\n",
    "for poss in possibilities:\n",
    "    try:\n",
    "         pro=probability(A,poss,det)\n",
    "    except:\n",
    "            print(poss)\n",
    "    probability_mat.append(pro)\n",
    "\n",
    "\n",
    "np.sum(probability_mat)\n"
   ]
  },
  {
   "cell_type": "code",
   "execution_count": 95,
   "metadata": {},
   "outputs": [
    {
     "data": {
      "text/plain": [
       "(1, 2, 3, 4)"
      ]
     },
     "execution_count": 95,
     "metadata": {},
     "output_type": "execute_result"
    }
   ],
   "source": [
    "probability_mat[1]\n",
    "new_array_1[1]\n",
    "pp=[1,2,3,4]\n",
    "tuple(pp)"
   ]
  },
  {
   "cell_type": "code",
   "execution_count": 96,
   "metadata": {},
   "outputs": [],
   "source": [
    "max(probability_mat)\n",
    "info_dict={}\n",
    "for i in range(len(new_array_1)):\n",
    "    info_dict[probability_mat[i]]=[]\n",
    "    info_dict[probability_mat[i]].append(new_array_1[i])\n",
    "\n",
    "info_dict_inv={}\n",
    "for i in range(len(new_array_1)):\n",
    "    info_dict_inv[tuple(new_array_1[i])]=[]\n",
    "    info_dict_inv[tuple(new_array_1[i])].append(probability_mat[i])"
   ]
  },
  {
   "cell_type": "code",
   "execution_count": 102,
   "metadata": {},
   "outputs": [
    {
     "data": {
      "text/plain": [
       "[7.486012998657169e-17]"
      ]
     },
     "execution_count": 102,
     "metadata": {},
     "output_type": "execute_result"
    }
   ],
   "source": [
    "info_dict[max(probability_mat)]\n",
    "tup=[1,2,0,4]\n",
    "info_dict_inv[tuple(tup)]\n"
   ]
  },
  {
   "cell_type": "code",
   "execution_count": 103,
   "metadata": {},
   "outputs": [
    {
     "data": {
      "text/plain": [
       "0.9106716000765812"
      ]
     },
     "execution_count": 103,
     "metadata": {},
     "output_type": "execute_result"
    }
   ],
   "source": [
    "dont_del=probability_mat\n",
    "np.sum(probability_mat)"
   ]
  },
  {
   "cell_type": "code",
   "execution_count": 55,
   "metadata": {},
   "outputs": [],
   "source": [
    "prr=dont_del"
   ]
  },
  {
   "cell_type": "code",
   "execution_count": 57,
   "metadata": {},
   "outputs": [],
   "source": [
    "## loop for each photon value,\n",
    "#loop for each specific permutation for each value\n",
    "#compute hafnina\n",
    "# store prob\n"
   ]
  },
  {
   "cell_type": "code",
   "execution_count": 58,
   "metadata": {},
   "outputs": [],
   "source": [
    "from thewalrus import perm"
   ]
  },
  {
   "cell_type": "code",
   "execution_count": 121,
   "metadata": {},
   "outputs": [],
   "source": [
    "c_ar=[0,2,4,6,8]\n",
    "c_ar=[0,2,4]\n",
    "c_ar=range(10)\n",
    "p_dict={}\n",
    "perm_dict={}\n",
    "perm_mat=[[]]\n",
    "\n",
    "prev_prob=[1]\n",
    "ar=[]\n",
    "# for m in range(len(c_ar)-1):\n",
    "for m in range(4):\n",
    "   \n",
    "    A=Amat(new_cov,hbar=hbar)\n",
    "    Q=Qmat(new_cov,hbar=hbar)\n",
    "    dt=np.linalg.det(Q)\n",
    "    det=1/(np.sqrt(np.abs(dt)))\n",
    "\n",
    "    next_mat=[]\n",
    "    inter_prob=[]\n",
    "    pind=0\n",
    "    prob_mat=[]\n",
    "    for perm in perm_mat:       \n",
    "        \n",
    "        for a in c_ar:         \n",
    "            ar=perm.copy()\n",
    "            ar.append(a) \n",
    "\n",
    "            if np.sum(ar)>10:\n",
    "                break\n",
    "            # elif m==max(range(8)):\n",
    "                \n",
    "            #     if np.sum(ar)!=8:\n",
    "            #         None\n",
    "            #     else:\n",
    "            #         fact=1\n",
    "            #         for factor in ar:\n",
    "            #             fact=fact*factorial(factor)      \n",
    "            #         As=sub_mat(A,ar)\n",
    "            #         haf=hf._haf(As)\n",
    "            #         prob=haf/(det*fact)\n",
    "            #         prob=prob/prev_prob[pind]\n",
    "                    \n",
    "            #         prob_mat.append(prob.real)\n",
    "\n",
    "\n",
    "            #         inter_prob.append(prob)         \n",
    "            #         next_mat.append(ar)\n",
    "            else:\n",
    "                fact=1\n",
    "                for factor in ar:\n",
    "                    fact=fact*factorial(factor)      \n",
    "                As=sub_mat(A,ar)\n",
    "                hafn=haf(As)\n",
    "                prob=abs(hafn)*det/fact\n",
    "                if abs(prob)<1e-10:\n",
    "                    prob=0\n",
    "                elif prev_prob[pind]==0:\n",
    "                    prob=0\n",
    "                else:\n",
    "                    prob=prob/prev_prob[pind]\n",
    "                \n",
    "                prob_mat.append(prob.real)\n",
    "\n",
    "\n",
    "                inter_prob.append(prob)         \n",
    "                next_mat.append(ar)\n",
    "\n",
    "        pind+=1\n",
    "    prev_prob=inter_prob\n",
    "    perm_mat=next_mat"
   ]
  },
  {
   "cell_type": "code",
   "execution_count": 123,
   "metadata": {},
   "outputs": [
    {
     "data": {
      "text/plain": [
       "393.8952659483182"
      ]
     },
     "execution_count": 123,
     "metadata": {},
     "output_type": "execute_result"
    }
   ],
   "source": [
    "sum(prev_prob)"
   ]
  },
  {
   "cell_type": "code",
   "execution_count": null,
   "metadata": {},
   "outputs": [],
   "source": [
    "prob_mat/np.sum(prob_mat)"
   ]
  },
  {
   "cell_type": "code",
   "execution_count": null,
   "metadata": {},
   "outputs": [],
   "source": [
    "\n",
    "# len(perm_mat)\n",
    "# pind\n",
    "# # inter_prob\n",
    "# # # max(range(7))\n",
    "# len(prob_mat)\n"
   ]
  }
 ],
 "metadata": {
  "kernelspec": {
   "display_name": "base",
   "language": "python",
   "name": "python3"
  },
  "language_info": {
   "codemirror_mode": {
    "name": "ipython",
    "version": 3
   },
   "file_extension": ".py",
   "mimetype": "text/x-python",
   "name": "python",
   "nbconvert_exporter": "python",
   "pygments_lexer": "ipython3",
   "version": "3.12.3"
  }
 },
 "nbformat": 4,
 "nbformat_minor": 2
}
