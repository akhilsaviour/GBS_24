{
 "cells": [
  {
   "cell_type": "code",
   "execution_count": null,
   "metadata": {},
   "outputs": [],
   "source": []
  },
  {
   "cell_type": "code",
   "execution_count": 1,
   "metadata": {},
   "outputs": [
    {
     "name": "stdout",
     "output_type": "stream",
     "text": [
      "WARNING:tensorflow:From c:\\Users\\akhil\\Miniconda3\\Lib\\site-packages\\SiPANN\\import_nn.py:131: The name tf.Session is deprecated. Please use tf.compat.v1.Session instead.\n",
      "\n",
      "WARNING:tensorflow:From c:\\Users\\akhil\\Miniconda3\\Lib\\site-packages\\SiPANN\\import_nn.py:134: The name tf.train.import_meta_graph is deprecated. Please use tf.compat.v1.train.import_meta_graph instead.\n",
      "\n",
      "INFO:tensorflow:Restoring parameters from c:\\Users\\akhil\\Miniconda3\\Lib\\site-packages\\SiPANN\\ANN\\TIGHT_ANGLE_GAP/model\n",
      "INFO:tensorflow:Restoring parameters from c:\\Users\\akhil\\Miniconda3\\Lib\\site-packages\\SiPANN\\ANN\\TIGHT_ANGLE_STRAIGHT/model\n",
      "INFO:tensorflow:Restoring parameters from c:\\Users\\akhil\\Miniconda3\\Lib\\site-packages\\SiPANN\\ANN\\TIGHT_ANGLE_BENT_RAND/model\n"
     ]
    }
   ],
   "source": [
    "import sax\n",
    "from simphony.libraries import siepic,sipann\n",
    "import quantp  as qp\n",
    "from functools import partial\n",
    "from simphony.quantum import QuantumState\n",
    "import numpy as np\n",
    "import matplotlib.pyplot as plt"
   ]
  },
  {
   "cell_type": "code",
   "execution_count": 2,
   "metadata": {},
   "outputs": [],
   "source": [
    "#su4 rotator\n",
    "\n",
    "\n",
    "def su_4(wl=1.55,theta1=0,phi1=0,theta2=0,phi2=0,theta3=0,phi3=0,theta4=0,phi4=0,theta5=0,phi5=0,theta6=0,phi6=0)->sax.SDict:\n",
    "    \n",
    "\n",
    "    su4,info=sax.circuit(netlist={\n",
    "        \"instances\":{\n",
    "            \"su1\":\"SU_rotator\",\n",
    "            \"su2\":\"SU_rotator\",\n",
    "            \"su3\":\"SU_rotator\",\n",
    "            \"su4\":\"SU_rotator\",\n",
    "            \"su5\":\"SU_rotator\",\n",
    "            \"su6\":\"SU_rotator\",\n",
    "            },\n",
    "            \"connections\":{\n",
    "                \"su1,outt\":\"su2,int\",\n",
    "                \"su1,outb\":\"su4,int\",\n",
    "                \"su4,outt\":\"su2,inb\",\n",
    "                \"su4,outb\":\"su6,int\",\n",
    "                \"su6,outt\":\"su5,inb\",\n",
    "                \"su5,outt\":\"su3,inb\",\n",
    "                \"su2,outt\":\"su3,int\",\n",
    "                \"su2,outb\":\"su5,int\",\n",
    "                \n",
    "                \n",
    "            },\n",
    "            \"ports\":{\n",
    "                \"in1\":\"su1,int\",\n",
    "                \"in2\":\"su1,inb\",\n",
    "                \"in3\":\"su4,inb\",\n",
    "                \"in4\":\"su6,inb\",\n",
    "                \"out1\":\"su3,outt\",\n",
    "                \"out2\":\"su3,outb\",\n",
    "                \"out3\":\"su5,outb\",\n",
    "                \"out4\":\"su6,outb\"\n",
    "            }\n",
    "        },models=\n",
    "        {\"SU_rotator\":partial(qp.trr)})\n",
    "    \n",
    "\n",
    "    val=su4(wl=wl,su1={\"theta\":theta1,\"phi\":phi1},\n",
    "              su2={\"theta\":theta2,\"phi\":phi2},\n",
    "              su3={\"theta\":theta3,\"phi\":phi3},\n",
    "              su4={\"theta\":theta4,\"phi\":phi4},\n",
    "              su5={\"theta\":theta5,\"phi\":phi5},\n",
    "              su6={\"theta\":theta6,\"phi\":phi6})\n",
    "    return val\n"
   ]
  },
  {
   "cell_type": "code",
   "execution_count": null,
   "metadata": {},
   "outputs": [],
   "source": [
    "np.random.seed(42)\n",
    "thet_val=[0,0.25,0.5]\n",
    "phi_val=[0,0.25,0.5,0.75,1]\n",
    "\n",
    "\n",
    "\n",
    "\n",
    "\n",
    "i1=np.random.randint(len(thet_val))\n",
    "i2=np.random.randint(len(thet_val))\n",
    "i3=np.random.randint(len(thet_val))\n",
    "i4=np.random.randint(len(thet_val))\n",
    "i5=np.random.randint(len(thet_val))\n",
    "i6=np.random.randint(len(thet_val))\n",
    "\n",
    "j1=np.random.randint(len(phi_val))\n",
    "j2=np.random.randint(len(phi_val))\n",
    "j3=np.random.randint(len(phi_val))\n",
    "j4=np.random.randint(len(phi_val))\n",
    "j5=np.random.randint(len(phi_val))\n",
    "j6=np.random.randint(len(phi_val))\n",
    "\n",
    "i1=thet_val[i1]\n",
    "i2=thet_val[i2]\n",
    "i3=thet_val[i3]\n",
    "i4=thet_val[i4]\n",
    "i5=thet_val[i5]\n",
    "i6=thet_val[i6]\n",
    "j1=phi_val[j1]\n",
    "j2=phi_val[j2]\n",
    "j3=phi_val[j3]\n",
    "j4=phi_val[j4]\n",
    "j5=phi_val[j5]\n",
    "j6=phi_val[j6]"
   ]
  },
  {
   "cell_type": "code",
   "execution_count": null,
   "metadata": {},
   "outputs": [],
   "source": []
  },
  {
   "cell_type": "code",
   "execution_count": 169,
   "metadata": {},
   "outputs": [],
   "source": [
    "from simphony.quantum import QuantumSim, CoherentState, SqueezedState,TwoModeSqueezedState\n",
    "from simphony.quantum import QuantumResult\n",
    "\n",
    "wl = 1.55 # um\n",
    "sim = QuantumSim(ckt=su_4, wl=wl,theta1=i1,phi1=j1,theta2=i2,phi2=j2,theta3=i3,phi3=j3,theta4=i4,phi4=j4,theta5=i5,phi5=j5,theta6=i6,phi6=j6)\n",
    "    \n",
    "sim.add_qstate\n",
    "from simphony.quantum import TwoModeSqueezedState\n",
    "# qstate= TwoModeSqueezedState(r=1,n_a=1,n_b=50,port_a=\"in1\",port_b=\"in2\")\n",
    "qstate= SqueezedState(port=\"in1\", r=0.9, phi=np.pi*0.5, alpha=1+1j*1)\n",
    "# qstate = CoherentState(port=\"in1\", alpha=1+2j)\n",
    "sim.add_qstate(qstate=qstate)\n",
    "res = sim.run()\n",
    "res_state = res.state()\n"
   ]
  },
  {
   "cell_type": "code",
   "execution_count": 202,
   "metadata": {},
   "outputs": [
    {
     "data": {
      "text/plain": [
       "(1, 32, 32)"
      ]
     },
     "execution_count": 202,
     "metadata": {},
     "output_type": "execute_result"
    }
   ],
   "source": [
    "np.shape(res.cov)"
   ]
  },
  {
   "cell_type": "code",
   "execution_count": 197,
   "metadata": {},
   "outputs": [
    {
     "name": "stdout",
     "output_type": "stream",
     "text": [
      "[[1. +0.j 4. +0.j 5.+12.j]]\n",
      "(10+12j)\n"
     ]
    }
   ],
   "source": [
    "\n",
    "\n",
    "\n",
    "\n",
    "\n"
   ]
  },
  {
   "cell_type": "code",
   "execution_count": null,
   "metadata": {},
   "outputs": [],
   "source": [
    "\n",
    "\n",
    "\n",
    "f=plt.figure()\n",
    "\n",
    "f.set_figheight(100)\n",
    "f.set_figwidth(100)\n",
    "\n",
    "\n",
    "fig,axes=plt.subplots(1,2)\n",
    "axes=axes.flatten()\n",
    "for i in range(2):\n",
    " f.tight_layout(pad=3.0)\n",
    "\n",
    " qstate.plot_mode(mode=i, ax=axes[i])\n"
   ]
  },
  {
   "cell_type": "code",
   "execution_count": null,
   "metadata": {},
   "outputs": [],
   "source": []
  },
  {
   "cell_type": "code",
   "execution_count": null,
   "metadata": {},
   "outputs": [],
   "source": [
    "\n",
    "f=plt.figure()\n",
    "\n",
    "f.set_figheight(100)\n",
    "f.set_figwidth(100)\n",
    "\n",
    "\n",
    "fig,axes=plt.subplots(4,4)\n",
    "axes=axes.flatten()\n",
    "for i in range(16):\n",
    " f.tight_layout(pad=3.0)\n",
    "\n",
    " qstate.plot_mode(mode=i, ax=axes[i])\n"
   ]
  },
  {
   "cell_type": "code",
   "execution_count": null,
   "metadata": {},
   "outputs": [],
   "source": [
    "QuantumResult.state(res)"
   ]
  },
  {
   "cell_type": "code",
   "execution_count": null,
   "metadata": {},
   "outputs": [],
   "source": [
    "from simphony.quantum import plot_quantum_result\n",
    "\n",
    "# print(res)\n",
    "\n",
    "plot_quantum_result(res, wl_ind=0, include_loss_modes=True)"
   ]
  },
  {
   "cell_type": "code",
   "execution_count": 170,
   "metadata": {},
   "outputs": [
    {
     "data": {
      "image/png": "[encoded data removed]",
      "text/plain": [
       "<Figure size 640x480 with 16 Axes>"
      ]
     },
     "metadata": {},
     "output_type": "display_data"
    }
   ],
   "source": [
    "import thewalrus as tw\n",
    "\n",
    "wl = 1.55 # um\n",
    "\n",
    "res_state = res.state()\n",
    "\n",
    "\n",
    "fig, axes = plt.subplots(4,4)\n",
    "axes = axes.flatten()\n",
    "for i in range(res_state.N):\n",
    "    means, cov = res_state.modes(i)\n",
    "    fock_amp = tw.quantum.state_vector(means, cov, cutoff=10, hbar=1/2, check_purity=True)\n",
    "    ax = axes[i]\n",
    "    ax.set_title(f'Mode {i}')\n",
    "    ax.bar(range(len(fock_amp)), abs(fock_amp)**2)\n",
    "    ax.set_xticks(range(len(fock_amp)), range(len(fock_amp)))\n",
    "    ax.set_xlabel(\"Fock state\")\n",
    "    ax.set_ylabel(\"Probability\")\n",
    "plt.tight_layout()\n",
    "plt.show()"
   ]
  },
  {
   "cell_type": "code",
   "execution_count": null,
   "metadata": {},
   "outputs": [],
   "source": []
  },
  {
   "cell_type": "code",
   "execution_count": null,
   "metadata": {},
   "outputs": [],
   "source": []
  },
  {
   "cell_type": "code",
   "execution_count": null,
   "metadata": {},
   "outputs": [],
   "source": []
  },
  {
   "cell_type": "code",
   "execution_count": null,
   "metadata": {},
   "outputs": [],
   "source": []
  }
 ],
 "metadata": {
  "kernelspec": {
   "display_name": "Python 3",
   "language": "python",
   "name": "python3"
  },
  "language_info": {
   "codemirror_mode": {
    "name": "ipython",
    "version": 3
   },
   "file_extension": ".py",
   "mimetype": "text/x-python",
   "name": "python",
   "nbconvert_exporter": "python",
   "pygments_lexer": "ipython3",
   "version": "3.12.3"
  }
 },
 "nbformat": 4,
 "nbformat_minor": 2
}
