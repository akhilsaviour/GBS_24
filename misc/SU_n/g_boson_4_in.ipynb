{
 "cells": [
  {
   "cell_type": "code",
   "execution_count": 1,
   "metadata": {},
   "outputs": [
    {
     "name": "stdout",
     "output_type": "stream",
     "text": [
      "WARNING:tensorflow:From c:\\Users\\akhil\\Miniconda3\\Lib\\site-packages\\SiPANN\\import_nn.py:131: The name tf.Session is deprecated. Please use tf.compat.v1.Session instead.\n",
      "\n",
      "WARNING:tensorflow:From c:\\Users\\akhil\\Miniconda3\\Lib\\site-packages\\SiPANN\\import_nn.py:134: The name tf.train.import_meta_graph is deprecated. Please use tf.compat.v1.train.import_meta_graph instead.\n",
      "\n",
      "INFO:tensorflow:Restoring parameters from c:\\Users\\akhil\\Miniconda3\\Lib\\site-packages\\SiPANN\\ANN\\TIGHT_ANGLE_GAP/model\n",
      "INFO:tensorflow:Restoring parameters from c:\\Users\\akhil\\Miniconda3\\Lib\\site-packages\\SiPANN\\ANN\\TIGHT_ANGLE_STRAIGHT/model\n",
      "INFO:tensorflow:Restoring parameters from c:\\Users\\akhil\\Miniconda3\\Lib\\site-packages\\SiPANN\\ANN\\TIGHT_ANGLE_BENT_RAND/model\n"
     ]
    }
   ],
   "source": [
    "import numpy as np\n",
    "import matplotlib.pyplot as plt\n",
    "import sax\n",
    "from simphony.quantum import QuantumSim,compose_qstate,CoherentState,SqueezedState\n",
    "from functools import partial\n",
    "import jax\n",
    "import quantp as qp\n",
    "import thewalrus as tw\n",
    "from simphony.quantum import plot_quantum_result\n",
    "from simphony.classical import ClassicalSim\n",
    "from scipy.special import factorial\n",
    "import jax.numpy as jnp\n",
    "from scipy.stats import multivariate_normal\n",
    "from thewalrus import _hafnian as hf\n",
    "from thewalrus.quantum.conversions import Amat,Qmat\n",
    "\n"
   ]
  },
  {
   "cell_type": "code",
   "execution_count": 927,
   "metadata": {},
   "outputs": [],
   "source": [
    "from gbs_func import phot_cir,trans,sub_mat"
   ]
  },
  {
   "cell_type": "code",
   "execution_count": 818,
   "metadata": {},
   "outputs": [],
   "source": [
    "\n",
    "\n",
    "def one_mode_plot(mu,cov,ax,row,col):\n",
    "   \n",
    "    means=mu\n",
    "    cov=cov\n",
    "\n",
    "    # fig, ax = plt.subplots()\n",
    "    x_max = means[0]+5\n",
    "    y_max = means[1]+5\n",
    "    r_max = jnp.max(jnp.array((x_max, y_max)))\n",
    "\n",
    "    x_min = means[0]-5\n",
    "    y_min = means[1]-5\n",
    "    r_min = jnp.min(jnp.array((x_min, y_min)))\n",
    "\n",
    "    x_range = (x_min, x_max)\n",
    "    y_range = (y_min, y_max)\n",
    "   \n",
    "\n",
    "    # x_range = (r_min, r_max)\n",
    "    # y_range = (r_min, r_max)\n",
    "    n=100\n",
    "    x = jnp.linspace(x_range[0], x_range[1], n)\n",
    "    y = jnp.linspace(y_range[0], y_range[1], n)\n",
    "    X, Y = jnp.meshgrid(x, y)\n",
    "    pos = jnp.dstack((X, Y))\n",
    "    dist = multivariate_normal(means, cov)\n",
    "    pdf = dist.pdf(pos)\n",
    "    ax[row,col].contourf(X, Y, pdf)\n",
    "    ax[row,col].set_aspect(\"equal\")\n",
    "    ax[row,col].set_xlabel(\"X\")\n",
    "    ax[row,col].set_ylabel(\"P\")\n",
    "    return ax[row,col]\n",
    "\n",
    "\n",
    "\n",
    "def mode_plot(res):\n",
    "    mode=res.n_ports\n",
    "    N=mode*2\n",
    "\n",
    "    means=np.array(res.means[0])\n",
    "    cov=res.cov\n",
    "\n",
    "    u=1\n",
    "    fig_ind=1\n",
    "    ind=int(mode/2)\n",
    "    ind=int(np.sqrt(mode))\n",
    "    fig,ax=plt.subplots(ind,ind,figsize=(10,10))\n",
    "    for i in range(res.n_ports):\n",
    "        \n",
    "        # ax=plt.subplot(ind,ind,i+1)\n",
    "        mu=[means[i],means[i+N]]\n",
    "        covar=np.array([[cov[u][i][i],cov[u][i][i+1]],\n",
    "             [cov[u][i+1][i],cov[u][i+1][i+1]]])\n",
    "        \n",
    "    # Calculate row and column index\n",
    "        row = i // 4\n",
    "        col = i % 4\n",
    "        \n",
    "        one_mode_plot(mu,covar,ax,row,col)\n",
    "    plt.tight_layout()\n",
    "    plt.show"
   ]
  },
  {
   "cell_type": "code",
   "execution_count": 819,
   "metadata": {},
   "outputs": [],
   "source": [
    "# theta_arr=np.random.rand(28)\n",
    "# phi_arr=np.random.rand(28)\n",
    "# theta_arr=np.multiply(theta_arr,0.5)"
   ]
  },
  {
   "cell_type": "code",
   "execution_count": 820,
   "metadata": {},
   "outputs": [],
   "source": [
    "def sampler(a,b,c,wl,theta_arr=None,phi_arr=None):\n",
    "       ##circuit\n",
    "    if theta_arr is None  :\n",
    "        theta_arr=np.zeros(len(a))\n",
    "        print('theta array is None')\n",
    "    if phi_arr is None:\n",
    "        phi_arr=np.zeros(len(a))\n",
    "        print('phi array is None')\n",
    "    cir,info=sax.circuit(\n",
    "        netlist={\n",
    "            \"instances\":a,\n",
    "            \"connections\":b,\n",
    "            \"ports\":c\n",
    "        },\n",
    "        models={'SU2':partial(qp.trr)}) \n",
    "    \n",
    "    su_dict={}\n",
    "    i=0\n",
    "    for key in range(len(a)):\n",
    "        su_dict[key]={\"theta\":theta_arr[i],\"phi\":phi_arr[i]}\n",
    "        i+=1\n",
    "    \n",
    "    val=cir(wl=wl,    S1=su_dict[0],\n",
    "                      S2=su_dict[1],\n",
    "                      S3=su_dict[2],\n",
    "                      S4=su_dict[3],\n",
    "                      S5=su_dict[4],\n",
    "                      S6=su_dict[5],\n",
    "                      \n",
    "                      \n",
    "    )\n",
    "    return val\n"
   ]
  },
  {
   "cell_type": "code",
   "execution_count": 821,
   "metadata": {},
   "outputs": [
    {
     "name": "stdout",
     "output_type": "stream",
     "text": [
      "theta array is None\n",
      "phi array is None\n"
     ]
    }
   ],
   "source": [
    "inst,conn,ports=phot_cir(4,4)\n",
    "r=sampler(inst,conn,ports,wl=1.55)"
   ]
  },
  {
   "cell_type": "code",
   "execution_count": 822,
   "metadata": {},
   "outputs": [],
   "source": [
    "U = np.array([\n",
    " [ 0.219546940711-0.256534554457j, 0.611076853957+0.524178937791j,\n",
    "    -0.102700187435+0.474478834685j,-0.027250232925+0.03729094623j],\n",
    " [ 0.451281863394+0.602582912475j, 0.456952590016+0.01230749109j,\n",
    "    0.131625867435-0.450417744715j, 0.035283194078-0.053244267184j],\n",
    " [ 0.038710094355+0.492715562066j,-0.019212744068-0.321842852355j,\n",
    "    -0.240776471286+0.524432833034j,-0.458388143039+0.329633367819j],\n",
    " [-0.156619083736+0.224568570065j, 0.109992223305-0.163750223027j,\n",
    "    -0.421179844245+0.183644837982j, 0.818769184612+0.068015658737j]\n",
    "])"
   ]
  },
  {
   "cell_type": "code",
   "execution_count": 823,
   "metadata": {},
   "outputs": [],
   "source": [
    "def haar_random_unitary(n):\n",
    "   \n",
    "    U = np.random.randn(n, n) + 1j * np.random.randn(n, n)    \n",
    "    Q, R = np.linalg.qr(U)   \n",
    "    d = np.diagonal(R)\n",
    "    ph = d / np.abs(d)\n",
    "    Q = np.multiply(Q, ph, Q)    \n",
    "    return Q\n",
    "\n",
    "def clements_decomposition(U):\n",
    "\n",
    "    n = U.shape[0]\n",
    "    theta = []\n",
    "    phi = []    \n",
    "    V = U.copy()\n",
    "    for i in range(n-1):\n",
    "        for j in range(i+1, n):\n",
    "            a = V[i,i]\n",
    "            b = V[j,i]\n",
    "            r = np.sqrt(np.abs(a)**2 + np.abs(b)**2)\n",
    "            theta_ij = 2 * np.arctan2(np.abs(b), np.abs(a))\n",
    "            phi_ij = np.angle(b) - np.angle(a)\n",
    "            theta.append(theta_ij)\n",
    "            phi.append(phi_ij)\n",
    "            c = a / r\n",
    "            s = b / r\n",
    "            V[:,i] = c * V[:,i] + np.conj(s) * V[:,j]\n",
    "            V[:,j] = -s * V[:,i] + c * V[:,j]\n",
    "\n",
    "    theta = np.mod(theta, 2 * np.pi)\n",
    "    phi = np.mod(phi, 2 * np.pi)    \n",
    "    return np.array(theta), np.array(phi)\n",
    "\n",
    "def angles(U,n):\n",
    "    theta_arr, phi_arr = clements_decomposition(U)\n",
    "    theta_arr=np.multiply(theta_arr,(1/(2*np.pi)))\n",
    "    phi_arr=np.abs(np.multiply(phi_arr,(1/(2*np.pi))))\n",
    "    return theta_arr, phi_arr"
   ]
  },
  {
   "cell_type": "code",
   "execution_count": 824,
   "metadata": {},
   "outputs": [
    {
     "data": {
      "text/plain": [
       "(array([0.36579584, 0.03879647, 0.03613739, 0.05158392, 0.03672835,\n",
       "        0.21509533]),\n",
       " array([0.28503469, 0.64075221, 0.8571156 , 0.8733097 , 0.75494171,\n",
       "        0.1147252 ]))"
      ]
     },
     "execution_count": 824,
     "metadata": {},
     "output_type": "execute_result"
    }
   ],
   "source": [
    "angles(U,6)"
   ]
  },
  {
   "cell_type": "code",
   "execution_count": 825,
   "metadata": {},
   "outputs": [
    {
     "data": {
      "image/png": "[encoded data removed]",
      "text/plain": [
       "<Figure size 640x480 with 1 Axes>"
      ]
     },
     "metadata": {},
     "output_type": "display_data"
    }
   ],
   "source": [
    "wl=np.linspace(1.5,1.6,100)\n",
    "theta_arr,phi_arr=angles(U,6)\n",
    "\n",
    "f=plt.figure()\n",
    "\n",
    "k=1\n",
    "\n",
    "# theta_arr=np.random.rand(28)\n",
    "# theta_arr=np.multiply(0.5,theta_arr)\n",
    "# theta_arr=np.ones(28)*0.125\n",
    "\n",
    "\n",
    "sim3=ClassicalSim(ckt=sampler,wl=wl,a=inst,b=conn,c=ports,theta_arr=theta_arr,phi_arr=phi_arr)\n",
    "laser_1 = sim3.add_laser(ports=[\"int1\"], power=1.0)\n",
    "laser_2 = sim3.add_laser(ports=[\"inb1\"], power=0.0)\n",
    "laser_3 = sim3.add_laser(ports=[\"int2\"], power=0.0)\n",
    "laser_4 = sim3.add_laser(ports=[\"inb2\"], power=0.0)\n",
    "\n",
    "# laser_5 = sim3.add_laser(ports=[\"int3\"], power=0.0)\n",
    "# laser_6 = sim3.add_laser(ports=[\"inb3\"], power=0.0)\n",
    "# laser_7 = sim3.add_laser(ports=[\"int4\"], power=0.0)\n",
    "# laser_8 = sim3.add_laser(ports=[\"inb4\"], power=0.0)\n",
    "\n",
    "\n",
    "detector_1 = sim3.add_detector(ports=[\"outt1\"])\n",
    "detector_2 = sim3.add_detector(ports=[\"outb1\"])\n",
    "detector_3 = sim3.add_detector(ports=[\"outt2\"])\n",
    "detector_4 = sim3.add_detector(ports=[\"outb2\"])\n",
    "\n",
    "# detector_5 = sim3.add_detector(ports=[\"outt3\"])\n",
    "# detector_6 = sim3.add_detector(ports=[\"outb3\"])\n",
    "# detector_7 = sim3.add_detector(ports=[\"outt4\"])\n",
    "# detector_8 = sim3.add_detector(ports=[\"outb4\"])\n",
    "result = sim3.run()\n",
    "        \n",
    "\n",
    "\n",
    "\n",
    "plt.plot(wl, np.abs(result.sdict['outt1'])**2, label='1')\n",
    "plt.plot(wl, np.abs(result.sdict['outb1'])**2, label='2')\n",
    "plt.plot(wl, np.abs(result.sdict['outt2'])**2, label='3')\n",
    "plt.plot(wl, np.abs(result.sdict['outb2'])**2, label='4')\n",
    "\n",
    "# plt.plot(wl, np.abs(result.sdict['outt3'])**2, label='5')\n",
    "# plt.plot(wl, np.abs(result.sdict['outb3'])**2, label='6')\n",
    "# plt.plot(wl, np.abs(result.sdict['outt4'])**2, label='7')\n",
    "# plt.plot(wl, np.abs(result.sdict['outb4'])**2, label='8')\n",
    "\n",
    "plt.axvline(x=1.55, color='k')\n",
    "plt.legend()\n",
    "plt.grid()\n",
    "plt.ylim([-0.01,1.01])\n",
    "plt.xlim([1.49,1.61])\n",
    "plt.xlim([1.54,1.56])\n",
    "# plt.title('theta-phi= '+ '('+str(i1)+','+ str(j1)+'), ('+str(i2)+','+str(j2)+'), ('+str(i3)+','+str(j3)+')')\n",
    "plt.xlabel(\"wavelength (um)\")\n",
    "k=k+1\n",
    "\n",
    "\n",
    " \n"
   ]
  },
  {
   "cell_type": "code",
   "execution_count": 826,
   "metadata": {},
   "outputs": [
    {
     "name": "stdout",
     "output_type": "stream",
     "text": [
      "Sq  param: \n",
      "0.881373587019543\n"
     ]
    }
   ],
   "source": [
    "\n",
    "mean_photon_number = 1\n",
    "\n",
    "\n",
    "r = np.arcsinh(np.sqrt(mean_photon_number))\n",
    "\n",
    "print(\"Sq  param: \")\n",
    "print(r)\n"
   ]
  },
  {
   "cell_type": "code",
   "execution_count": 1168,
   "metadata": {},
   "outputs": [
    {
     "name": "stdout",
     "output_type": "stream",
     "text": [
      "0.7711499311663151\n"
     ]
    }
   ],
   "source": [
    "r=0.6\n",
    "s_sq = np.sinh(r)**2\n",
    "alpha_sq = 1 - s_sq\n",
    "\n",
    "if alpha_sq >= 0:\n",
    "    alpha = np.sqrt(alpha_sq)\n",
    "else:\n",
    "    alpha = None\n",
    "\n",
    "\n",
    "print(alpha)\n"
   ]
  },
  {
   "cell_type": "code",
   "execution_count": 1413,
   "metadata": {},
   "outputs": [
    {
     "name": "stdout",
     "output_type": "stream",
     "text": [
      "[0. 0.]\n",
      "[0. 0.]\n",
      "[0. 0.]\n",
      "[0. 0.]\n"
     ]
    },
    {
     "data": {
      "image/png": "[encoded data removed]",
      "text/plain": [
       "<Figure size 1600x1600 with 4 Axes>"
      ]
     },
     "metadata": {},
     "output_type": "display_data"
    }
   ],
   "source": [
    "wl=1.55\n",
    "a=0\n",
    "r=0.881373587019543\n",
    "r=1.55\n",
    "# a=0.771\n",
    "# a=1.5\n",
    "\n",
    "sim=QuantumSim(ckt=sampler,wl=wl,a=inst,b=conn,c=ports,theta_arr=theta_arr,phi_arr=phi_arr)\n",
    "\n",
    "i1=SqueezedState(port=\"int1\",r=r,alpha=a*np.exp(2*np.pi*0.),phi=2*np.pi*0.50)\n",
    "i2=SqueezedState(port=\"inb1\",r=r,alpha=a*np.exp(2*np.pi*0.),phi=2*np.pi*0.50)\n",
    "i3=SqueezedState(port=\"int2\",r=r,alpha=a*np.exp(2*np.pi*0.),phi=2*np.pi*0.50)\n",
    "i4=SqueezedState(port=\"inb2\",r=r,alpha=a*np.exp(2*np.pi*0.),phi=2*np.pi*0.50)\n",
    "# i5=SqueezedState(port=\"int3\",r=r,alpha=a*np.exp(2*np.pi*0.25),phi=2*np.pi*0.0)\n",
    "# i6=SqueezedState(port=\"inb3\",r=r,alpha=a*np.exp(2*np.pi*0.25),phi=2*np.pi*0.0)\n",
    "# i7=SqueezedState(port=\"int4\",r=r,alpha=a*np.exp(2*np.pi*0.25),phi=2*np.pi*0.0)\n",
    "# i8=SqueezedState(port=\"inb4\",r=r,alpha=a*np.exp(2*np.pi*0.25),phi=2*np.pi*0.0)\n",
    "\n",
    "qstate=compose_qstate(i1,i2,i3,i4)\n",
    "# ,i5,i6,i7,i8\n",
    "\n",
    "sim.add_qstate(qstate=qstate)\n",
    "res=sim.run()\n",
    "res_state=res.state()\n",
    "# i2.plot_mode(mode=0)\n",
    "\n",
    "\n",
    "\n",
    "fig,ax=plt.subplots(4,1,figsize=(16,16))\n",
    "cutoff=9\n",
    "k=0\n",
    "ind=0\n",
    "pdf=np.zeros((4,cutoff))\n",
    "for i in range(4,8):\n",
    "        means, cov = res_state.modes(i)\n",
    "        print(means)\n",
    "        fock_amp = tw.quantum.state_vector(means, cov, cutoff=cutoff, hbar=1/2, check_purity=False)\n",
    "        # ax=plt.subplot(2,2,i-1)\n",
    "\n",
    "        prob=np.sum(abs(fock_amp)**2) \n",
    "        prob=round(prob,3)   \n",
    "        p_arr=np.array(abs(fock_amp)**2)\n",
    "        # p_arr=p_arr/np.sum(p_arr)\n",
    "        # prob=round(np.sum(p_arr),3)\n",
    "        # if k>=8:\n",
    "        pdf[k]=p_arr\n",
    "        #  ind+=1\n",
    "\n",
    "        # ax[i].set_title(f'Mode {i}, prob={prob}')\n",
    "       \n",
    "\n",
    "        # ax[k].bar(range(len(fock_amp)), abs(fock_amp) ** 2)\n",
    "        ax[k].bar(range(len(fock_amp)), p_arr)\n",
    "        ax[k].set_xticks(range(len(fock_amp)))\n",
    "        ax[k].set_xlabel(\"Fock state\")\n",
    "        ax[k].set_ylabel(\"Probability\")\n",
    "        ax[k].set_ylim([0, 1])\n",
    "        ax[k].set_xlim([0, cutoff])\n",
    "        ax[k].set_title(f'Mode {i}, prob={prob}')\n",
    "        k+=1\n",
    "\n",
    "# plt.tight_layout()\n",
    "plt.tight_layout(pad=0.1)\n",
    "plt.show()"
   ]
  },
  {
   "cell_type": "code",
   "execution_count": 1414,
   "metadata": {},
   "outputs": [
    {
     "data": {
      "text/plain": [
       "<bound method QuantumState.modes of <simphony.quantum.QuantumState object at 0x000002379D196D20>\n",
       "Convention: xxpp\n",
       "Means: [0. 0. 0. 0. 0. 0. 0. 0. 0. 0. 0. 0. 0. 0. 0. 0. 0. 0. 0. 0. 0. 0. 0. 0.\n",
       " 0. 0. 0. 0. 0. 0. 0. 0.]\n",
       "Cov: \n",
       "[[ 2.50000000e-01 -1.72865194e-15  7.77156117e-16 ...  8.99354933e-09\n",
       "   6.01544529e-11 -4.22403616e-10]\n",
       " [-1.72865194e-15  2.50000000e-01 -1.76508114e-15 ... -3.31960233e-09\n",
       "   2.04930564e-08  2.86853941e-10]\n",
       " [ 7.77156117e-16 -1.76508114e-15  2.50000000e-01 ...  5.92115209e-09\n",
       "   6.23734703e-09 -7.69033255e-09]\n",
       " ...\n",
       " [ 8.99354933e-09 -3.31960233e-09  5.92115209e-09 ...  2.50000000e-01\n",
       "   4.25007252e-17 -1.44328993e-15]\n",
       " [ 6.01544529e-11  2.04930564e-08  6.23734703e-09 ...  4.25007252e-17\n",
       "   2.50000000e-01  3.59955121e-16]\n",
       " [-4.22403616e-10  2.86853941e-10 -7.69033255e-09 ... -1.44328993e-15\n",
       "   3.59955121e-16  2.50000000e-01]]>"
      ]
     },
     "execution_count": 1414,
     "metadata": {},
     "output_type": "execute_result"
    }
   ],
   "source": [
    "res_state.modes"
   ]
  },
  {
   "cell_type": "code",
   "execution_count": 1415,
   "metadata": {},
   "outputs": [
    {
     "data": {
      "text/plain": [
       "Array([0., 0., 0., 0., 0., 0., 0., 0.], dtype=float64)"
      ]
     },
     "execution_count": 1415,
     "metadata": {},
     "output_type": "execute_result"
    }
   ],
   "source": [
    "means=xxpp_to_xpxp(res_state.means)[8:16]\n",
    "means=xpxp_to_xxpp(means)\n",
    "means"
   ]
  },
  {
   "cell_type": "code",
   "execution_count": 1416,
   "metadata": {},
   "outputs": [],
   "source": [
    "import pandas as pd\n",
    "from thewalrus.quantum.conversions import Amat,Qmat\n",
    "from simphony.quantum import xxpp_to_xpxp,xpxp_to_xxpp"
   ]
  },
  {
   "cell_type": "code",
   "execution_count": 1417,
   "metadata": {},
   "outputs": [],
   "source": [
    "Cv=res_state.cov\n",
    "# cv=xpxp_to_xxpp(cv)\n",
    "cv=np.array(Cv.copy())\n",
    "cv=xxpp_to_xpxp(cv)\n",
    "cv[(cv) < 1e-10] = 0\n",
    "# V=cv[8:16,8:16]\n",
    "fd=pd.DataFrame(cv[:,4:24])\n",
    "fd1=pd.DataFrame(cv[:,:8])\n",
    "fd2=pd.DataFrame(cv[:,8:16])\n",
    "fd3=pd.DataFrame(cv[:,16:24])\n",
    "fd4=pd.DataFrame(cv[:,24:32])\n",
    "# print(fd1)"
   ]
  },
  {
   "cell_type": "code",
   "execution_count": 1418,
   "metadata": {},
   "outputs": [
    {
     "data": {
      "text/html": [
       "<div>\n",
       "<style scoped>\n",
       "    .dataframe tbody tr th:only-of-type {\n",
       "        vertical-align: middle;\n",
       "    }\n",
       "\n",
       "    .dataframe tbody tr th {\n",
       "        vertical-align: top;\n",
       "    }\n",
       "\n",
       "    .dataframe thead th {\n",
       "        text-align: right;\n",
       "    }\n",
       "</style>\n",
       "<table border=\"1\" class=\"dataframe\">\n",
       "  <thead>\n",
       "    <tr style=\"text-align: right;\">\n",
       "      <th></th>\n",
       "      <th>0</th>\n",
       "      <th>1</th>\n",
       "      <th>2</th>\n",
       "      <th>3</th>\n",
       "      <th>4</th>\n",
       "      <th>5</th>\n",
       "      <th>6</th>\n",
       "      <th>7</th>\n",
       "    </tr>\n",
       "  </thead>\n",
       "  <tbody>\n",
       "    <tr>\n",
       "      <th>0</th>\n",
       "      <td>2.049326</td>\n",
       "      <td>0.000000</td>\n",
       "      <td>0.215550</td>\n",
       "      <td>0.000000</td>\n",
       "      <td>0.396995</td>\n",
       "      <td>0.000000</td>\n",
       "      <td>0.000000</td>\n",
       "      <td>1.916393</td>\n",
       "    </tr>\n",
       "    <tr>\n",
       "      <th>1</th>\n",
       "      <td>0.000000</td>\n",
       "      <td>3.511424</td>\n",
       "      <td>0.000000</td>\n",
       "      <td>0.000000</td>\n",
       "      <td>0.000000</td>\n",
       "      <td>0.000000</td>\n",
       "      <td>1.916393</td>\n",
       "      <td>1.621356</td>\n",
       "    </tr>\n",
       "    <tr>\n",
       "      <th>2</th>\n",
       "      <td>0.215550</td>\n",
       "      <td>0.000000</td>\n",
       "      <td>5.319493</td>\n",
       "      <td>0.000000</td>\n",
       "      <td>0.000000</td>\n",
       "      <td>0.050921</td>\n",
       "      <td>0.102914</td>\n",
       "      <td>0.000000</td>\n",
       "    </tr>\n",
       "    <tr>\n",
       "      <th>3</th>\n",
       "      <td>0.000000</td>\n",
       "      <td>0.000000</td>\n",
       "      <td>0.000000</td>\n",
       "      <td>0.241257</td>\n",
       "      <td>0.050921</td>\n",
       "      <td>0.070701</td>\n",
       "      <td>0.000000</td>\n",
       "      <td>0.000000</td>\n",
       "    </tr>\n",
       "    <tr>\n",
       "      <th>4</th>\n",
       "      <td>0.396995</td>\n",
       "      <td>0.000000</td>\n",
       "      <td>0.000000</td>\n",
       "      <td>0.050921</td>\n",
       "      <td>0.972549</td>\n",
       "      <td>1.935232</td>\n",
       "      <td>0.000000</td>\n",
       "      <td>0.613690</td>\n",
       "    </tr>\n",
       "    <tr>\n",
       "      <th>5</th>\n",
       "      <td>0.000000</td>\n",
       "      <td>0.000000</td>\n",
       "      <td>0.050921</td>\n",
       "      <td>0.070701</td>\n",
       "      <td>1.935232</td>\n",
       "      <td>4.588201</td>\n",
       "      <td>0.613690</td>\n",
       "      <td>0.135069</td>\n",
       "    </tr>\n",
       "    <tr>\n",
       "      <th>6</th>\n",
       "      <td>0.000000</td>\n",
       "      <td>1.916393</td>\n",
       "      <td>0.102914</td>\n",
       "      <td>0.000000</td>\n",
       "      <td>0.000000</td>\n",
       "      <td>0.613690</td>\n",
       "      <td>1.938029</td>\n",
       "      <td>0.000000</td>\n",
       "    </tr>\n",
       "    <tr>\n",
       "      <th>7</th>\n",
       "      <td>1.916393</td>\n",
       "      <td>1.621356</td>\n",
       "      <td>0.000000</td>\n",
       "      <td>0.000000</td>\n",
       "      <td>0.613690</td>\n",
       "      <td>0.135069</td>\n",
       "      <td>0.000000</td>\n",
       "      <td>3.622721</td>\n",
       "    </tr>\n",
       "  </tbody>\n",
       "</table>\n",
       "</div>"
      ],
      "text/plain": [
       "          0         1         2         3         4         5         6  \\\n",
       "0  2.049326  0.000000  0.215550  0.000000  0.396995  0.000000  0.000000   \n",
       "1  0.000000  3.511424  0.000000  0.000000  0.000000  0.000000  1.916393   \n",
       "2  0.215550  0.000000  5.319493  0.000000  0.000000  0.050921  0.102914   \n",
       "3  0.000000  0.000000  0.000000  0.241257  0.050921  0.070701  0.000000   \n",
       "4  0.396995  0.000000  0.000000  0.050921  0.972549  1.935232  0.000000   \n",
       "5  0.000000  0.000000  0.050921  0.070701  1.935232  4.588201  0.613690   \n",
       "6  0.000000  1.916393  0.102914  0.000000  0.000000  0.613690  1.938029   \n",
       "7  1.916393  1.621356  0.000000  0.000000  0.613690  0.135069  0.000000   \n",
       "\n",
       "          7  \n",
       "0  1.916393  \n",
       "1  1.621356  \n",
       "2  0.000000  \n",
       "3  0.000000  \n",
       "4  0.613690  \n",
       "5  0.135069  \n",
       "6  0.000000  \n",
       "7  3.622721  "
      ]
     },
     "execution_count": 1418,
     "metadata": {},
     "output_type": "execute_result"
    }
   ],
   "source": [
    "out_cov=cv[8:16,8:16]\n",
    "gh=pd.DataFrame(out_cov)\n",
    "gh\n"
   ]
  },
  {
   "cell_type": "code",
   "execution_count": 1419,
   "metadata": {},
   "outputs": [
    {
     "data": {
      "text/html": [
       "<div>\n",
       "<style scoped>\n",
       "    .dataframe tbody tr th:only-of-type {\n",
       "        vertical-align: middle;\n",
       "    }\n",
       "\n",
       "    .dataframe tbody tr th {\n",
       "        vertical-align: top;\n",
       "    }\n",
       "\n",
       "    .dataframe thead th {\n",
       "        text-align: right;\n",
       "    }\n",
       "</style>\n",
       "<table border=\"1\" class=\"dataframe\">\n",
       "  <thead>\n",
       "    <tr style=\"text-align: right;\">\n",
       "      <th></th>\n",
       "      <th>0</th>\n",
       "      <th>1</th>\n",
       "      <th>2</th>\n",
       "      <th>3</th>\n",
       "      <th>4</th>\n",
       "      <th>5</th>\n",
       "      <th>6</th>\n",
       "      <th>7</th>\n",
       "    </tr>\n",
       "  </thead>\n",
       "  <tbody>\n",
       "    <tr>\n",
       "      <th>0</th>\n",
       "      <td>2.049326</td>\n",
       "      <td>0.215550</td>\n",
       "      <td>0.396995</td>\n",
       "      <td>0.000000</td>\n",
       "      <td>0.000000</td>\n",
       "      <td>0.000000</td>\n",
       "      <td>0.000000</td>\n",
       "      <td>1.916393</td>\n",
       "    </tr>\n",
       "    <tr>\n",
       "      <th>1</th>\n",
       "      <td>0.215550</td>\n",
       "      <td>5.319493</td>\n",
       "      <td>0.000000</td>\n",
       "      <td>0.102914</td>\n",
       "      <td>0.000000</td>\n",
       "      <td>0.000000</td>\n",
       "      <td>0.050921</td>\n",
       "      <td>0.000000</td>\n",
       "    </tr>\n",
       "    <tr>\n",
       "      <th>2</th>\n",
       "      <td>0.396995</td>\n",
       "      <td>0.000000</td>\n",
       "      <td>0.972549</td>\n",
       "      <td>0.000000</td>\n",
       "      <td>0.000000</td>\n",
       "      <td>0.050921</td>\n",
       "      <td>1.935232</td>\n",
       "      <td>0.613690</td>\n",
       "    </tr>\n",
       "    <tr>\n",
       "      <th>3</th>\n",
       "      <td>0.000000</td>\n",
       "      <td>0.102914</td>\n",
       "      <td>0.000000</td>\n",
       "      <td>1.938029</td>\n",
       "      <td>1.916393</td>\n",
       "      <td>0.000000</td>\n",
       "      <td>0.613690</td>\n",
       "      <td>0.000000</td>\n",
       "    </tr>\n",
       "    <tr>\n",
       "      <th>4</th>\n",
       "      <td>0.000000</td>\n",
       "      <td>0.000000</td>\n",
       "      <td>0.000000</td>\n",
       "      <td>1.916393</td>\n",
       "      <td>3.511424</td>\n",
       "      <td>0.000000</td>\n",
       "      <td>0.000000</td>\n",
       "      <td>1.621356</td>\n",
       "    </tr>\n",
       "    <tr>\n",
       "      <th>5</th>\n",
       "      <td>0.000000</td>\n",
       "      <td>0.000000</td>\n",
       "      <td>0.050921</td>\n",
       "      <td>0.000000</td>\n",
       "      <td>0.000000</td>\n",
       "      <td>0.241257</td>\n",
       "      <td>0.070701</td>\n",
       "      <td>0.000000</td>\n",
       "    </tr>\n",
       "    <tr>\n",
       "      <th>6</th>\n",
       "      <td>0.000000</td>\n",
       "      <td>0.050921</td>\n",
       "      <td>1.935232</td>\n",
       "      <td>0.613690</td>\n",
       "      <td>0.000000</td>\n",
       "      <td>0.070701</td>\n",
       "      <td>4.588201</td>\n",
       "      <td>0.135069</td>\n",
       "    </tr>\n",
       "    <tr>\n",
       "      <th>7</th>\n",
       "      <td>1.916393</td>\n",
       "      <td>0.000000</td>\n",
       "      <td>0.613690</td>\n",
       "      <td>0.000000</td>\n",
       "      <td>1.621356</td>\n",
       "      <td>0.000000</td>\n",
       "      <td>0.135069</td>\n",
       "      <td>3.622721</td>\n",
       "    </tr>\n",
       "  </tbody>\n",
       "</table>\n",
       "</div>"
      ],
      "text/plain": [
       "          0         1         2         3         4         5         6  \\\n",
       "0  2.049326  0.215550  0.396995  0.000000  0.000000  0.000000  0.000000   \n",
       "1  0.215550  5.319493  0.000000  0.102914  0.000000  0.000000  0.050921   \n",
       "2  0.396995  0.000000  0.972549  0.000000  0.000000  0.050921  1.935232   \n",
       "3  0.000000  0.102914  0.000000  1.938029  1.916393  0.000000  0.613690   \n",
       "4  0.000000  0.000000  0.000000  1.916393  3.511424  0.000000  0.000000   \n",
       "5  0.000000  0.000000  0.050921  0.000000  0.000000  0.241257  0.070701   \n",
       "6  0.000000  0.050921  1.935232  0.613690  0.000000  0.070701  4.588201   \n",
       "7  1.916393  0.000000  0.613690  0.000000  1.621356  0.000000  0.135069   \n",
       "\n",
       "          7  \n",
       "0  1.916393  \n",
       "1  0.000000  \n",
       "2  0.613690  \n",
       "3  0.000000  \n",
       "4  1.621356  \n",
       "5  0.000000  \n",
       "6  0.135069  \n",
       "7  3.622721  "
      ]
     },
     "execution_count": 1419,
     "metadata": {},
     "output_type": "execute_result"
    }
   ],
   "source": [
    "new_cov=xpxp_to_xxpp(out_cov)\n",
    "pd.DataFrame(new_cov)"
   ]
  },
  {
   "cell_type": "code",
   "execution_count": 1420,
   "metadata": {},
   "outputs": [
    {
     "data": {
      "text/html": [
       "<div>\n",
       "<style scoped>\n",
       "    .dataframe tbody tr th:only-of-type {\n",
       "        vertical-align: middle;\n",
       "    }\n",
       "\n",
       "    .dataframe tbody tr th {\n",
       "        vertical-align: top;\n",
       "    }\n",
       "\n",
       "    .dataframe thead th {\n",
       "        text-align: right;\n",
       "    }\n",
       "</style>\n",
       "<table border=\"1\" class=\"dataframe\">\n",
       "  <thead>\n",
       "    <tr style=\"text-align: right;\">\n",
       "      <th></th>\n",
       "      <th>0</th>\n",
       "      <th>1</th>\n",
       "      <th>2</th>\n",
       "      <th>3</th>\n",
       "      <th>4</th>\n",
       "      <th>5</th>\n",
       "      <th>6</th>\n",
       "      <th>7</th>\n",
       "    </tr>\n",
       "  </thead>\n",
       "  <tbody>\n",
       "    <tr>\n",
       "      <th>0</th>\n",
       "      <td>2.780375+0.000000j</td>\n",
       "      <td>0.107775+0.000000j</td>\n",
       "      <td>0.198498+0.000000j</td>\n",
       "      <td>0.810678+0.000000j</td>\n",
       "      <td>-0.731049+0.000000j</td>\n",
       "      <td>0.107775+0.000000j</td>\n",
       "      <td>0.198498+0.000000j</td>\n",
       "      <td>-0.810678+1.916393j</td>\n",
       "    </tr>\n",
       "    <tr>\n",
       "      <th>1</th>\n",
       "      <td>0.107775+0.000000j</td>\n",
       "      <td>2.780375+0.000000j</td>\n",
       "      <td>0.035351+0.000000j</td>\n",
       "      <td>0.051457+0.000000j</td>\n",
       "      <td>0.107775+0.000000j</td>\n",
       "      <td>2.539118+0.000000j</td>\n",
       "      <td>-0.035351+0.050921j</td>\n",
       "      <td>0.051457+0.000000j</td>\n",
       "    </tr>\n",
       "    <tr>\n",
       "      <th>2</th>\n",
       "      <td>0.198498+0.000000j</td>\n",
       "      <td>0.035351-0.000000j</td>\n",
       "      <td>2.780375-0.000000j</td>\n",
       "      <td>0.067535-0.000000j</td>\n",
       "      <td>0.198498+0.000000j</td>\n",
       "      <td>-0.035351+0.050921j</td>\n",
       "      <td>-1.807826+1.935232j</td>\n",
       "      <td>-0.067535+0.613690j</td>\n",
       "    </tr>\n",
       "    <tr>\n",
       "      <th>3</th>\n",
       "      <td>0.810678-0.000000j</td>\n",
       "      <td>0.051457+0.000000j</td>\n",
       "      <td>0.067535+0.000000j</td>\n",
       "      <td>2.780375+0.000000j</td>\n",
       "      <td>-0.810678+1.916393j</td>\n",
       "      <td>0.051457+0.000000j</td>\n",
       "      <td>-0.067535+0.613690j</td>\n",
       "      <td>-0.842346+0.000000j</td>\n",
       "    </tr>\n",
       "    <tr>\n",
       "      <th>4</th>\n",
       "      <td>-0.731049+0.000000j</td>\n",
       "      <td>0.107775+0.000000j</td>\n",
       "      <td>0.198498+0.000000j</td>\n",
       "      <td>-0.810678-1.916393j</td>\n",
       "      <td>2.780375+0.000000j</td>\n",
       "      <td>0.107775+0.000000j</td>\n",
       "      <td>0.198498+0.000000j</td>\n",
       "      <td>0.810678-0.000000j</td>\n",
       "    </tr>\n",
       "    <tr>\n",
       "      <th>5</th>\n",
       "      <td>0.107775+0.000000j</td>\n",
       "      <td>2.539118+0.000000j</td>\n",
       "      <td>-0.035351-0.050921j</td>\n",
       "      <td>0.051457+0.000000j</td>\n",
       "      <td>0.107775+0.000000j</td>\n",
       "      <td>2.780375+0.000000j</td>\n",
       "      <td>0.035351-0.000000j</td>\n",
       "      <td>0.051457+0.000000j</td>\n",
       "    </tr>\n",
       "    <tr>\n",
       "      <th>6</th>\n",
       "      <td>0.198498+0.000000j</td>\n",
       "      <td>-0.035351-0.050921j</td>\n",
       "      <td>-1.807826-1.935232j</td>\n",
       "      <td>-0.067535-0.613690j</td>\n",
       "      <td>0.198498+0.000000j</td>\n",
       "      <td>0.035351+0.000000j</td>\n",
       "      <td>2.780375+0.000000j</td>\n",
       "      <td>0.067535+0.000000j</td>\n",
       "    </tr>\n",
       "    <tr>\n",
       "      <th>7</th>\n",
       "      <td>-0.810678-1.916393j</td>\n",
       "      <td>0.051457+0.000000j</td>\n",
       "      <td>-0.067535-0.613690j</td>\n",
       "      <td>-0.842346+0.000000j</td>\n",
       "      <td>0.810678+0.000000j</td>\n",
       "      <td>0.051457+0.000000j</td>\n",
       "      <td>0.067535-0.000000j</td>\n",
       "      <td>2.780375+0.000000j</td>\n",
       "    </tr>\n",
       "  </tbody>\n",
       "</table>\n",
       "</div>"
      ],
      "text/plain": [
       "                    0                   1                   2  \\\n",
       "0  2.780375+0.000000j  0.107775+0.000000j  0.198498+0.000000j   \n",
       "1  0.107775+0.000000j  2.780375+0.000000j  0.035351+0.000000j   \n",
       "2  0.198498+0.000000j  0.035351-0.000000j  2.780375-0.000000j   \n",
       "3  0.810678-0.000000j  0.051457+0.000000j  0.067535+0.000000j   \n",
       "4 -0.731049+0.000000j  0.107775+0.000000j  0.198498+0.000000j   \n",
       "5  0.107775+0.000000j  2.539118+0.000000j -0.035351-0.050921j   \n",
       "6  0.198498+0.000000j -0.035351-0.050921j -1.807826-1.935232j   \n",
       "7 -0.810678-1.916393j  0.051457+0.000000j -0.067535-0.613690j   \n",
       "\n",
       "                    3                   4                   5  \\\n",
       "0  0.810678+0.000000j -0.731049+0.000000j  0.107775+0.000000j   \n",
       "1  0.051457+0.000000j  0.107775+0.000000j  2.539118+0.000000j   \n",
       "2  0.067535-0.000000j  0.198498+0.000000j -0.035351+0.050921j   \n",
       "3  2.780375+0.000000j -0.810678+1.916393j  0.051457+0.000000j   \n",
       "4 -0.810678-1.916393j  2.780375+0.000000j  0.107775+0.000000j   \n",
       "5  0.051457+0.000000j  0.107775+0.000000j  2.780375+0.000000j   \n",
       "6 -0.067535-0.613690j  0.198498+0.000000j  0.035351+0.000000j   \n",
       "7 -0.842346+0.000000j  0.810678+0.000000j  0.051457+0.000000j   \n",
       "\n",
       "                    6                   7  \n",
       "0  0.198498+0.000000j -0.810678+1.916393j  \n",
       "1 -0.035351+0.050921j  0.051457+0.000000j  \n",
       "2 -1.807826+1.935232j -0.067535+0.613690j  \n",
       "3 -0.067535+0.613690j -0.842346+0.000000j  \n",
       "4  0.198498+0.000000j  0.810678-0.000000j  \n",
       "5  0.035351-0.000000j  0.051457+0.000000j  \n",
       "6  2.780375+0.000000j  0.067535+0.000000j  \n",
       "7  0.067535-0.000000j  2.780375+0.000000j  "
      ]
     },
     "execution_count": 1420,
     "metadata": {},
     "output_type": "execute_result"
    }
   ],
   "source": [
    "def sss(cov):\n",
    "    n=len(cov)//2\n",
    "    I=np.identity(n,dtype=complex)\n",
    "    iI=(1j)*I\n",
    "    f=np.block([[I,iI],[I,-iI]])\n",
    "    \n",
    "    f=(1/np.sqrt(2))*f\n",
    "    sigma=f@cov@((f.conj()).T)\n",
    "    return sigma\n",
    "\n",
    "pd.DataFrame(sss(new_cov))"
   ]
  },
  {
   "cell_type": "code",
   "execution_count": 1421,
   "metadata": {},
   "outputs": [],
   "source": [
    "def F(cov):\n",
    "    n=len(cov)//2\n",
    "    I=np.identity(n,dtype=complex)\n",
    "    iI=(1j)*I\n",
    "    f=np.block([[I,iI],[I,-iI]])\n",
    "    f=(1/np.sqrt(2))*f\n",
    "    \n",
    "    return f\n",
    "mean=means\n",
    "f=F(mean)\n",
    "new_mean=f@mean"
   ]
  },
  {
   "cell_type": "code",
   "execution_count": 1422,
   "metadata": {},
   "outputs": [],
   "source": [
    "def sigma(cov):\n",
    "    n=len(cov)//2\n",
    "    I=np.identity(n,dtype=complex)\n",
    "    iI=(1j)*I\n",
    "    f=np.block([[I,iI],[I,-iI]])\n",
    "    f=(1/np.sqrt(2))*f\n",
    "    sigma=f@cov@((f.conj()).T)\n",
    "    return sigma\n",
    "\n",
    "def xmat(N):\n",
    "   \n",
    "    I = np.identity(N)\n",
    "    O = np.zeros_like(I)\n",
    "    X = np.block([[O, I], [I, O]])\n",
    "    return X\n",
    "\n",
    "\n",
    "def qmat(cov,hbar=2):\n",
    "    # qmat=np.ones((len(cov),len(cov)))*0.5\n",
    "    qmat=np.eye(len(cov))*0.5\n",
    "    q=cov+qmat\n",
    "    return q\n",
    "\n",
    "def amat(cov,hbar=2):\n",
    "    N = len(cov) // 2\n",
    "    X = xmat(N)\n",
    "\n",
    "    # inverse Q matrix\n",
    "    \n",
    "    Q = qmat(cov, hbar=hbar)\n",
    "\n",
    "    Qinv = np.linalg.inv(Q)\n",
    "\n",
    "    # calculate Hamilton's A matrix: A = X.(I-Q^{-1})*\n",
    "   \n",
    "    I=np.eye(len(cov))\n",
    "    i_minus_sigma_inv=I-Qinv\n",
    "    # A =np.dot(X,i_minus_sigma).conj()f@cov@((f.conj()).T)\n",
    "    A = X @ (np.identity(2 * N) - Qinv)\n",
    "    # A = X @(i_minus_sigma_inv)\n",
    "    return A"
   ]
  },
  {
   "cell_type": "code",
   "execution_count": 1423,
   "metadata": {},
   "outputs": [],
   "source": [
    "from thewalrus import decompositions as dc\n",
    "def decompose_cov(cov):\n",
    "    cov=np.abs(cov)\n",
    "    m = cov.shape[0] // 2\n",
    "    D, S = dc.williamson(cov)\n",
    "    T = S @ S.T \n",
    "    DmI = D - np.eye(2*m)\n",
    "    DmI[abs(DmI) < 1e-11] = 0. # remove slightly negative values\n",
    "    sqrtW = S @ np.sqrt(DmI)\n",
    "    return T, sqrtW"
   ]
  },
  {
   "cell_type": "code",
   "execution_count": 1424,
   "metadata": {},
   "outputs": [
    {
     "data": {
      "text/html": [
       "<div>\n",
       "<style scoped>\n",
       "    .dataframe tbody tr th:only-of-type {\n",
       "        vertical-align: middle;\n",
       "    }\n",
       "\n",
       "    .dataframe tbody tr th {\n",
       "        vertical-align: top;\n",
       "    }\n",
       "\n",
       "    .dataframe thead th {\n",
       "        text-align: right;\n",
       "    }\n",
       "</style>\n",
       "<table border=\"1\" class=\"dataframe\">\n",
       "  <thead>\n",
       "    <tr style=\"text-align: right;\">\n",
       "      <th></th>\n",
       "      <th>0</th>\n",
       "      <th>1</th>\n",
       "      <th>2</th>\n",
       "      <th>3</th>\n",
       "      <th>4</th>\n",
       "      <th>5</th>\n",
       "      <th>6</th>\n",
       "      <th>7</th>\n",
       "    </tr>\n",
       "  </thead>\n",
       "  <tbody>\n",
       "    <tr>\n",
       "      <th>0</th>\n",
       "      <td>-0.039317+0.317418j</td>\n",
       "      <td>0.008926-0.001099j</td>\n",
       "      <td>0.119010+0.034834j</td>\n",
       "      <td>-0.070677-0.511521j</td>\n",
       "      <td>0.275216+0.000000j</td>\n",
       "      <td>0.015418-0.001523j</td>\n",
       "      <td>0.028039-0.066631j</td>\n",
       "      <td>0.344693-0.050072j</td>\n",
       "    </tr>\n",
       "    <tr>\n",
       "      <th>1</th>\n",
       "      <td>0.008926-0.001099j</td>\n",
       "      <td>0.589858-0.000104j</td>\n",
       "      <td>-0.004146-0.027341j</td>\n",
       "      <td>0.006981+0.008301j</td>\n",
       "      <td>0.015418+0.001523j</td>\n",
       "      <td>0.237293-0.000000j</td>\n",
       "      <td>-0.003558-0.022877j</td>\n",
       "      <td>-0.002869-0.003045j</td>\n",
       "    </tr>\n",
       "    <tr>\n",
       "      <th>2</th>\n",
       "      <td>0.119010+0.034834j</td>\n",
       "      <td>-0.004146-0.027341j</td>\n",
       "      <td>-0.571832-0.626761j</td>\n",
       "      <td>-0.093535-0.161730j</td>\n",
       "      <td>0.028039+0.066631j</td>\n",
       "      <td>-0.003558+0.022877j</td>\n",
       "      <td>-0.029416-0.000000j</td>\n",
       "      <td>-0.088900-0.024769j</td>\n",
       "    </tr>\n",
       "    <tr>\n",
       "      <th>3</th>\n",
       "      <td>-0.070677-0.511521j</td>\n",
       "      <td>0.006981+0.008301j</td>\n",
       "      <td>-0.093535-0.161730j</td>\n",
       "      <td>-0.128886+0.327186j</td>\n",
       "      <td>0.344693+0.050072j</td>\n",
       "      <td>-0.002869+0.003045j</td>\n",
       "      <td>-0.088900+0.024769j</td>\n",
       "      <td>0.230164+0.000000j</td>\n",
       "    </tr>\n",
       "    <tr>\n",
       "      <th>4</th>\n",
       "      <td>0.275216-0.000000j</td>\n",
       "      <td>0.015418+0.001523j</td>\n",
       "      <td>0.028039+0.066631j</td>\n",
       "      <td>0.344693+0.050072j</td>\n",
       "      <td>-0.039317-0.317418j</td>\n",
       "      <td>0.008926+0.001099j</td>\n",
       "      <td>0.119010-0.034834j</td>\n",
       "      <td>-0.070677+0.511521j</td>\n",
       "    </tr>\n",
       "    <tr>\n",
       "      <th>5</th>\n",
       "      <td>0.015418-0.001523j</td>\n",
       "      <td>0.237293-0.000000j</td>\n",
       "      <td>-0.003558+0.022877j</td>\n",
       "      <td>-0.002869+0.003045j</td>\n",
       "      <td>0.008926+0.001099j</td>\n",
       "      <td>0.589858+0.000104j</td>\n",
       "      <td>-0.004146+0.027341j</td>\n",
       "      <td>0.006981-0.008301j</td>\n",
       "    </tr>\n",
       "    <tr>\n",
       "      <th>6</th>\n",
       "      <td>0.028039-0.066631j</td>\n",
       "      <td>-0.003558-0.022877j</td>\n",
       "      <td>-0.029416-0.000000j</td>\n",
       "      <td>-0.088900+0.024769j</td>\n",
       "      <td>0.119010-0.034834j</td>\n",
       "      <td>-0.004146+0.027341j</td>\n",
       "      <td>-0.571832+0.626761j</td>\n",
       "      <td>-0.093535+0.161730j</td>\n",
       "    </tr>\n",
       "    <tr>\n",
       "      <th>7</th>\n",
       "      <td>0.344693-0.050072j</td>\n",
       "      <td>-0.002869-0.003045j</td>\n",
       "      <td>-0.088900-0.024769j</td>\n",
       "      <td>0.230164-0.000000j</td>\n",
       "      <td>-0.070677+0.511521j</td>\n",
       "      <td>0.006981-0.008301j</td>\n",
       "      <td>-0.093535+0.161730j</td>\n",
       "      <td>-0.128886-0.327186j</td>\n",
       "    </tr>\n",
       "  </tbody>\n",
       "</table>\n",
       "</div>"
      ],
      "text/plain": [
       "                    0                   1                   2  \\\n",
       "0 -0.039317+0.317418j  0.008926-0.001099j  0.119010+0.034834j   \n",
       "1  0.008926-0.001099j  0.589858-0.000104j -0.004146-0.027341j   \n",
       "2  0.119010+0.034834j -0.004146-0.027341j -0.571832-0.626761j   \n",
       "3 -0.070677-0.511521j  0.006981+0.008301j -0.093535-0.161730j   \n",
       "4  0.275216-0.000000j  0.015418+0.001523j  0.028039+0.066631j   \n",
       "5  0.015418-0.001523j  0.237293-0.000000j -0.003558+0.022877j   \n",
       "6  0.028039-0.066631j -0.003558-0.022877j -0.029416-0.000000j   \n",
       "7  0.344693-0.050072j -0.002869-0.003045j -0.088900-0.024769j   \n",
       "\n",
       "                    3                   4                   5  \\\n",
       "0 -0.070677-0.511521j  0.275216+0.000000j  0.015418-0.001523j   \n",
       "1  0.006981+0.008301j  0.015418+0.001523j  0.237293-0.000000j   \n",
       "2 -0.093535-0.161730j  0.028039+0.066631j -0.003558+0.022877j   \n",
       "3 -0.128886+0.327186j  0.344693+0.050072j -0.002869+0.003045j   \n",
       "4  0.344693+0.050072j -0.039317-0.317418j  0.008926+0.001099j   \n",
       "5 -0.002869+0.003045j  0.008926+0.001099j  0.589858+0.000104j   \n",
       "6 -0.088900+0.024769j  0.119010-0.034834j -0.004146+0.027341j   \n",
       "7  0.230164-0.000000j -0.070677+0.511521j  0.006981-0.008301j   \n",
       "\n",
       "                    6                   7  \n",
       "0  0.028039-0.066631j  0.344693-0.050072j  \n",
       "1 -0.003558-0.022877j -0.002869-0.003045j  \n",
       "2 -0.029416-0.000000j -0.088900-0.024769j  \n",
       "3 -0.088900+0.024769j  0.230164+0.000000j  \n",
       "4  0.119010-0.034834j -0.070677+0.511521j  \n",
       "5 -0.004146+0.027341j  0.006981-0.008301j  \n",
       "6 -0.571832+0.626761j -0.093535+0.161730j  \n",
       "7 -0.093535+0.161730j -0.128886-0.327186j  "
      ]
     },
     "execution_count": 1424,
     "metadata": {},
     "output_type": "execute_result"
    }
   ],
   "source": [
    "\n",
    "ff=sigma(new_cov)\n",
    "is_symmetric(ff)\n",
    "pd.DataFrame(amat(ff))\n"
   ]
  },
  {
   "cell_type": "code",
   "execution_count": 1425,
   "metadata": {},
   "outputs": [
    {
     "data": {
      "text/plain": [
       "0.05582806464281442"
      ]
     },
     "execution_count": 1425,
     "metadata": {},
     "output_type": "execute_result"
    }
   ],
   "source": [
    "sigma_cov=sigma(new_cov)\n",
    "q=qmat(sigma_cov)\n",
    "det=np.linalg.det(q)\n",
    "1/np.sqrt(np.abs(det))\n",
    "# qq=np.linalg.inv(q)"
   ]
  },
  {
   "cell_type": "code",
   "execution_count": 842,
   "metadata": {},
   "outputs": [
    {
     "name": "stderr",
     "output_type": "stream",
     "text": [
      "C:\\Users\\akhil\\AppData\\Local\\Temp\\ipykernel_4772\\3386410453.py:9: RuntimeWarning: invalid value encountered in sqrt\n",
      "  sqrtW = S @ np.sqrt(DmI)\n"
     ]
    }
   ],
   "source": [
    "T,sq=decompose_cov(cv)"
   ]
  },
  {
   "cell_type": "code",
   "execution_count": 1342,
   "metadata": {},
   "outputs": [],
   "source": [
    "def F(cov):\n",
    "    n=len(cov)//2\n",
    "    I=np.identity(n,dtype=complex)\n",
    "    iI=(1j)*I\n",
    "    f=np.block([[I,iI],[I,-iI]])\n",
    "    f=(1/np.sqrt(2))*f\n",
    "    \n",
    "    return f\n",
    "mean=means\n",
    "f=F(mean)\n",
    "new_mean=f@mean"
   ]
  },
  {
   "cell_type": "code",
   "execution_count": 1343,
   "metadata": {},
   "outputs": [],
   "source": [
    "s=sigma(new_cov)"
   ]
  },
  {
   "cell_type": "code",
   "execution_count": 1344,
   "metadata": {},
   "outputs": [],
   "source": [
    "A=Amat(new_cov,hbar=1)\n",
    "Q=Qmat(new_cov,hbar=1)\n",
    "# Q=qmat(s)\n",
    "# A=amat(s)\n",
    "Q_inv=np.linalg.inv(Q)\n",
    "# Q=qmat(s)\n",
    "# A=amat(s)"
   ]
  },
  {
   "cell_type": "code",
   "execution_count": 1350,
   "metadata": {},
   "outputs": [
    {
     "data": {
      "text/plain": [
       "0.028119526090202553"
      ]
     },
     "execution_count": 1350,
     "metadata": {},
     "output_type": "execute_result"
    }
   ],
   "source": [
    "new_mean_H=(new_mean.conj()).T\n",
    "exp_term=new_mean_H@Q_inv@new_mean\n",
    "exp_term=np.exp(-0.5*exp_term).real\n",
    "\n",
    "gamma=new_mean_H@Q_inv\n",
    "loop_A=A.copy()\n",
    "index=0\n",
    "for g in gamma:\n",
    "    loop_A[index,index]=g\n",
    "    index+=1\n",
    "\n",
    "det=np.linalg.det(Q)\n",
    "sqrt=np.sqrt(det).real\n",
    "\n",
    "P0=exp_term/sqrt\n",
    "P0\n"
   ]
  },
  {
   "cell_type": "code",
   "execution_count": 1373,
   "metadata": {},
   "outputs": [],
   "source": [
    "def disp_prob(loop_A,ar,P0):\n",
    "    fact=1\n",
    "    for factor in ar:\n",
    "        fact*=factorial(factor)      \n",
    "    As=sub_mat(loop_A,ar)\n",
    "    lhafn=lhaf(As)\n",
    "    prob=P0*lhafn/(fact)\n",
    "    if prob.real<0:\n",
    "        prob=0\n",
    "    return prob.real\n",
    "    \n",
    "    "
   ]
  },
  {
   "cell_type": "code",
   "execution_count": 1374,
   "metadata": {},
   "outputs": [
    {
     "data": {
      "text/plain": [
       "0.028119526090202553"
      ]
     },
     "execution_count": 1374,
     "metadata": {},
     "output_type": "execute_result"
    }
   ],
   "source": [
    "ar=[0,0,0,0]\n",
    "disp_prob(loop_A,ar,P0)"
   ]
  },
  {
   "cell_type": "code",
   "execution_count": 1369,
   "metadata": {},
   "outputs": [
    {
     "data": {
      "text/html": [
       "<div>\n",
       "<style scoped>\n",
       "    .dataframe tbody tr th:only-of-type {\n",
       "        vertical-align: middle;\n",
       "    }\n",
       "\n",
       "    .dataframe tbody tr th {\n",
       "        vertical-align: top;\n",
       "    }\n",
       "\n",
       "    .dataframe thead th {\n",
       "        text-align: right;\n",
       "    }\n",
       "</style>\n",
       "<table border=\"1\" class=\"dataframe\">\n",
       "  <thead>\n",
       "    <tr style=\"text-align: right;\">\n",
       "      <th></th>\n",
       "      <th>0</th>\n",
       "      <th>1</th>\n",
       "      <th>2</th>\n",
       "      <th>3</th>\n",
       "      <th>4</th>\n",
       "      <th>5</th>\n",
       "    </tr>\n",
       "  </thead>\n",
       "  <tbody>\n",
       "    <tr>\n",
       "      <th>0</th>\n",
       "      <td>0.519484-0.563438j</td>\n",
       "      <td>0.519484-0.563438j</td>\n",
       "      <td>0.015325+0.001295j</td>\n",
       "      <td>-0.083357-0.000000j</td>\n",
       "      <td>-0.083357-0.000000j</td>\n",
       "      <td>0.016589-0.000651j</td>\n",
       "    </tr>\n",
       "    <tr>\n",
       "      <th>1</th>\n",
       "      <td>0.519484-0.563438j</td>\n",
       "      <td>0.519484-0.563438j</td>\n",
       "      <td>0.015325+0.001295j</td>\n",
       "      <td>-0.083357-0.000000j</td>\n",
       "      <td>-0.083357-0.000000j</td>\n",
       "      <td>0.016589-0.000651j</td>\n",
       "    </tr>\n",
       "    <tr>\n",
       "      <th>2</th>\n",
       "      <td>0.015325+0.001295j</td>\n",
       "      <td>0.015325+0.001295j</td>\n",
       "      <td>-0.845651-0.359728j</td>\n",
       "      <td>0.016589+0.000651j</td>\n",
       "      <td>0.016589+0.000651j</td>\n",
       "      <td>-0.130510-0.000000j</td>\n",
       "    </tr>\n",
       "    <tr>\n",
       "      <th>3</th>\n",
       "      <td>-0.083357-0.000000j</td>\n",
       "      <td>-0.083357-0.000000j</td>\n",
       "      <td>0.016589+0.000651j</td>\n",
       "      <td>0.519484+0.563438j</td>\n",
       "      <td>0.519484+0.563438j</td>\n",
       "      <td>0.015325-0.001295j</td>\n",
       "    </tr>\n",
       "    <tr>\n",
       "      <th>4</th>\n",
       "      <td>-0.083357-0.000000j</td>\n",
       "      <td>-0.083357-0.000000j</td>\n",
       "      <td>0.016589+0.000651j</td>\n",
       "      <td>0.519484+0.563438j</td>\n",
       "      <td>0.519484+0.563438j</td>\n",
       "      <td>0.015325-0.001295j</td>\n",
       "    </tr>\n",
       "    <tr>\n",
       "      <th>5</th>\n",
       "      <td>0.016589-0.000651j</td>\n",
       "      <td>0.016589-0.000651j</td>\n",
       "      <td>-0.130510-0.000000j</td>\n",
       "      <td>0.015325-0.001295j</td>\n",
       "      <td>0.015325-0.001295j</td>\n",
       "      <td>-0.845651+0.359728j</td>\n",
       "    </tr>\n",
       "  </tbody>\n",
       "</table>\n",
       "</div>"
      ],
      "text/plain": [
       "                    0                   1                   2  \\\n",
       "0  0.519484-0.563438j  0.519484-0.563438j  0.015325+0.001295j   \n",
       "1  0.519484-0.563438j  0.519484-0.563438j  0.015325+0.001295j   \n",
       "2  0.015325+0.001295j  0.015325+0.001295j -0.845651-0.359728j   \n",
       "3 -0.083357-0.000000j -0.083357-0.000000j  0.016589+0.000651j   \n",
       "4 -0.083357-0.000000j -0.083357-0.000000j  0.016589+0.000651j   \n",
       "5  0.016589-0.000651j  0.016589-0.000651j -0.130510-0.000000j   \n",
       "\n",
       "                    3                   4                   5  \n",
       "0 -0.083357-0.000000j -0.083357-0.000000j  0.016589-0.000651j  \n",
       "1 -0.083357-0.000000j -0.083357-0.000000j  0.016589-0.000651j  \n",
       "2  0.016589+0.000651j  0.016589+0.000651j -0.130510-0.000000j  \n",
       "3  0.519484+0.563438j  0.519484+0.563438j  0.015325-0.001295j  \n",
       "4  0.519484+0.563438j  0.519484+0.563438j  0.015325-0.001295j  \n",
       "5  0.015325-0.001295j  0.015325-0.001295j -0.845651+0.359728j  "
      ]
     },
     "execution_count": 1369,
     "metadata": {},
     "output_type": "execute_result"
    }
   ],
   "source": [
    "\n",
    "As=sub_mat(loop_A,ar)\n",
    "pd.DataFrame(As)\n"
   ]
  },
  {
   "cell_type": "code",
   "execution_count": 1208,
   "metadata": {},
   "outputs": [
    {
     "data": {
      "text/html": [
       "<div>\n",
       "<style scoped>\n",
       "    .dataframe tbody tr th:only-of-type {\n",
       "        vertical-align: middle;\n",
       "    }\n",
       "\n",
       "    .dataframe tbody tr th {\n",
       "        vertical-align: top;\n",
       "    }\n",
       "\n",
       "    .dataframe thead th {\n",
       "        text-align: right;\n",
       "    }\n",
       "</style>\n",
       "<table border=\"1\" class=\"dataframe\">\n",
       "  <thead>\n",
       "    <tr style=\"text-align: right;\">\n",
       "      <th></th>\n",
       "      <th>0</th>\n",
       "      <th>1</th>\n",
       "      <th>2</th>\n",
       "      <th>3</th>\n",
       "      <th>4</th>\n",
       "      <th>5</th>\n",
       "      <th>6</th>\n",
       "      <th>7</th>\n",
       "    </tr>\n",
       "  </thead>\n",
       "  <tbody>\n",
       "    <tr>\n",
       "      <th>0</th>\n",
       "      <td>-0.084481+0.038001j</td>\n",
       "      <td>0.012401+0.000819j</td>\n",
       "      <td>0.033590+0.010305j</td>\n",
       "      <td>-0.095517-0.262167j</td>\n",
       "      <td>-0.446080-0.000000j</td>\n",
       "      <td>0.012578+0.000586j</td>\n",
       "      <td>0.019718-0.001250j</td>\n",
       "      <td>0.103395-0.004506j</td>\n",
       "    </tr>\n",
       "    <tr>\n",
       "      <th>1</th>\n",
       "      <td>0.012401+0.000819j</td>\n",
       "      <td>0.347482+0.000026j</td>\n",
       "      <td>-0.005377-0.006387j</td>\n",
       "      <td>0.006106+0.002257j</td>\n",
       "      <td>0.012578-0.000586j</td>\n",
       "      <td>-0.459920+0.000000j</td>\n",
       "      <td>0.003591-0.002098j</td>\n",
       "      <td>0.005562-0.001662j</td>\n",
       "    </tr>\n",
       "    <tr>\n",
       "      <th>2</th>\n",
       "      <td>0.033590+0.010305j</td>\n",
       "      <td>-0.005377-0.006387j</td>\n",
       "      <td>-0.250924-0.267497j</td>\n",
       "      <td>-0.009451-0.080179j</td>\n",
       "      <td>0.019718+0.001250j</td>\n",
       "      <td>0.003591+0.002098j</td>\n",
       "      <td>-0.473594+0.000000j</td>\n",
       "      <td>-0.005485+0.001086j</td>\n",
       "    </tr>\n",
       "    <tr>\n",
       "      <th>3</th>\n",
       "      <td>-0.095517-0.262167j</td>\n",
       "      <td>0.006106+0.002257j</td>\n",
       "      <td>-0.009451-0.080179j</td>\n",
       "      <td>-0.100365+0.039036j</td>\n",
       "      <td>0.103395+0.004506j</td>\n",
       "      <td>0.005562+0.001662j</td>\n",
       "      <td>-0.005485-0.001086j</td>\n",
       "      <td>-0.451669+0.000000j</td>\n",
       "    </tr>\n",
       "    <tr>\n",
       "      <th>4</th>\n",
       "      <td>-0.446080+0.000000j</td>\n",
       "      <td>0.012578-0.000586j</td>\n",
       "      <td>0.019718+0.001250j</td>\n",
       "      <td>0.103395+0.004506j</td>\n",
       "      <td>-0.084481-0.038001j</td>\n",
       "      <td>0.012401-0.000819j</td>\n",
       "      <td>0.033590-0.010305j</td>\n",
       "      <td>-0.095517+0.262167j</td>\n",
       "    </tr>\n",
       "    <tr>\n",
       "      <th>5</th>\n",
       "      <td>0.012578+0.000586j</td>\n",
       "      <td>-0.459920-0.000000j</td>\n",
       "      <td>0.003591+0.002098j</td>\n",
       "      <td>0.005562+0.001662j</td>\n",
       "      <td>0.012401-0.000819j</td>\n",
       "      <td>0.347482-0.000026j</td>\n",
       "      <td>-0.005377+0.006387j</td>\n",
       "      <td>0.006106-0.002257j</td>\n",
       "    </tr>\n",
       "    <tr>\n",
       "      <th>6</th>\n",
       "      <td>0.019718-0.001250j</td>\n",
       "      <td>0.003591-0.002098j</td>\n",
       "      <td>-0.473594+0.000000j</td>\n",
       "      <td>-0.005485-0.001086j</td>\n",
       "      <td>0.033590-0.010305j</td>\n",
       "      <td>-0.005377+0.006387j</td>\n",
       "      <td>-0.250924+0.267497j</td>\n",
       "      <td>-0.009451+0.080179j</td>\n",
       "    </tr>\n",
       "    <tr>\n",
       "      <th>7</th>\n",
       "      <td>0.103395-0.004506j</td>\n",
       "      <td>0.005562-0.001662j</td>\n",
       "      <td>-0.005485+0.001086j</td>\n",
       "      <td>-0.451669-0.000000j</td>\n",
       "      <td>-0.095517+0.262167j</td>\n",
       "      <td>0.006106-0.002257j</td>\n",
       "      <td>-0.009451+0.080179j</td>\n",
       "      <td>-0.100365-0.039036j</td>\n",
       "    </tr>\n",
       "  </tbody>\n",
       "</table>\n",
       "</div>"
      ],
      "text/plain": [
       "                    0                   1                   2  \\\n",
       "0 -0.084481+0.038001j  0.012401+0.000819j  0.033590+0.010305j   \n",
       "1  0.012401+0.000819j  0.347482+0.000026j -0.005377-0.006387j   \n",
       "2  0.033590+0.010305j -0.005377-0.006387j -0.250924-0.267497j   \n",
       "3 -0.095517-0.262167j  0.006106+0.002257j -0.009451-0.080179j   \n",
       "4 -0.446080+0.000000j  0.012578-0.000586j  0.019718+0.001250j   \n",
       "5  0.012578+0.000586j -0.459920-0.000000j  0.003591+0.002098j   \n",
       "6  0.019718-0.001250j  0.003591-0.002098j -0.473594+0.000000j   \n",
       "7  0.103395-0.004506j  0.005562-0.001662j -0.005485+0.001086j   \n",
       "\n",
       "                    3                   4                   5  \\\n",
       "0 -0.095517-0.262167j -0.446080-0.000000j  0.012578+0.000586j   \n",
       "1  0.006106+0.002257j  0.012578-0.000586j -0.459920+0.000000j   \n",
       "2 -0.009451-0.080179j  0.019718+0.001250j  0.003591+0.002098j   \n",
       "3 -0.100365+0.039036j  0.103395+0.004506j  0.005562+0.001662j   \n",
       "4  0.103395+0.004506j -0.084481-0.038001j  0.012401-0.000819j   \n",
       "5  0.005562+0.001662j  0.012401-0.000819j  0.347482-0.000026j   \n",
       "6 -0.005485-0.001086j  0.033590-0.010305j -0.005377+0.006387j   \n",
       "7 -0.451669-0.000000j -0.095517+0.262167j  0.006106-0.002257j   \n",
       "\n",
       "                    6                   7  \n",
       "0  0.019718-0.001250j  0.103395-0.004506j  \n",
       "1  0.003591-0.002098j  0.005562-0.001662j  \n",
       "2 -0.473594+0.000000j -0.005485+0.001086j  \n",
       "3 -0.005485-0.001086j -0.451669+0.000000j  \n",
       "4  0.033590-0.010305j -0.095517+0.262167j  \n",
       "5 -0.005377+0.006387j  0.006106-0.002257j  \n",
       "6 -0.250924+0.267497j -0.009451+0.080179j  \n",
       "7 -0.009451+0.080179j -0.100365-0.039036j  "
      ]
     },
     "execution_count": 1208,
     "metadata": {},
     "output_type": "execute_result"
    }
   ],
   "source": [
    "pd.DataFrame(A)"
   ]
  },
  {
   "cell_type": "code",
   "execution_count": 1212,
   "metadata": {},
   "outputs": [],
   "source": [
    "gamma=new_mean_H@Q_inv\n",
    "gamma\n",
    "loop_A=A.copy()\n",
    "index=0\n",
    "for g in gamma:\n",
    "    loop_A[index,index]=g\n",
    "    index+=index"
   ]
  },
  {
   "cell_type": "code",
   "execution_count": 1217,
   "metadata": {},
   "outputs": [
    {
     "data": {
      "text/plain": [
       "(0.32092960820620153+0.003857418531468023j)"
      ]
     },
     "execution_count": 1217,
     "metadata": {},
     "output_type": "execute_result"
    }
   ],
   "source": [
    "from thewalrus import loop_hafnian as lhaf \n",
    "\n",
    "lhaf(loop_A)*exp_term"
   ]
  },
  {
   "cell_type": "code",
   "execution_count": 1199,
   "metadata": {},
   "outputs": [
    {
     "data": {
      "text/plain": [
       "1.6017980011369268"
      ]
     },
     "execution_count": 1199,
     "metadata": {},
     "output_type": "execute_result"
    }
   ],
   "source": [
    "A=Amat(new_cov)\n",
    "Q=Qmat(new_cov,hbar=1)\n",
    "# Q=Qmat(new_cov)\n",
    "Q_inv=np.linalg.inv(Q)\n",
    "dt=abs(np.linalg.det(Q))\n",
    "det=np.sqrt(dt)\n",
    "1/det"
   ]
  },
  {
   "cell_type": "code",
   "execution_count": 1196,
   "metadata": {},
   "outputs": [
    {
     "data": {
      "text/plain": [
       "0.01464692649032005"
      ]
     },
     "execution_count": 1196,
     "metadata": {},
     "output_type": "execute_result"
    }
   ],
   "source": [
    "# Q=qmat(new_cov)\n",
    "# Q=qmat(out_cov)\n",
    "A=amat(sigma_cov)\n",
    "Q=qmat(sigma_cov)\n",
    "# Q=Qmat(new_cov)\n",
    "\n",
    "dt=np.linalg.det(Q)\n",
    "det=np.sqrt(np.abs(dt))\n",
    "d=1/det\n",
    "abs(haf(A))*d\n",
    "# pd.DataFrame(A)\n",
    "# haf(A)"
   ]
  },
  {
   "cell_type": "code",
   "execution_count": 1121,
   "metadata": {},
   "outputs": [
    {
     "data": {
      "text/html": [
       "<div>\n",
       "<style scoped>\n",
       "    .dataframe tbody tr th:only-of-type {\n",
       "        vertical-align: middle;\n",
       "    }\n",
       "\n",
       "    .dataframe tbody tr th {\n",
       "        vertical-align: top;\n",
       "    }\n",
       "\n",
       "    .dataframe thead th {\n",
       "        text-align: right;\n",
       "    }\n",
       "</style>\n",
       "<table border=\"1\" class=\"dataframe\">\n",
       "  <thead>\n",
       "    <tr style=\"text-align: right;\">\n",
       "      <th></th>\n",
       "      <th>0</th>\n",
       "      <th>1</th>\n",
       "      <th>2</th>\n",
       "      <th>3</th>\n",
       "      <th>4</th>\n",
       "      <th>5</th>\n",
       "      <th>6</th>\n",
       "      <th>7</th>\n",
       "    </tr>\n",
       "  </thead>\n",
       "  <tbody>\n",
       "    <tr>\n",
       "      <th>0</th>\n",
       "      <td>0.162205</td>\n",
       "      <td>0.013760</td>\n",
       "      <td>0.083773</td>\n",
       "      <td>0.111018</td>\n",
       "      <td>0.218819</td>\n",
       "      <td>0.016007</td>\n",
       "      <td>0.054429</td>\n",
       "      <td>0.110435</td>\n",
       "    </tr>\n",
       "    <tr>\n",
       "      <th>1</th>\n",
       "      <td>0.013760</td>\n",
       "      <td>0.716549</td>\n",
       "      <td>0.012622</td>\n",
       "      <td>0.033656</td>\n",
       "      <td>0.016007</td>\n",
       "      <td>0.144604</td>\n",
       "      <td>0.009132</td>\n",
       "      <td>0.020968</td>\n",
       "    </tr>\n",
       "    <tr>\n",
       "      <th>2</th>\n",
       "      <td>0.083773</td>\n",
       "      <td>0.012622</td>\n",
       "      <td>0.354578</td>\n",
       "      <td>0.012932</td>\n",
       "      <td>0.054429</td>\n",
       "      <td>0.009132</td>\n",
       "      <td>0.150656</td>\n",
       "      <td>0.012576</td>\n",
       "    </tr>\n",
       "    <tr>\n",
       "      <th>3</th>\n",
       "      <td>0.111018</td>\n",
       "      <td>0.033656</td>\n",
       "      <td>0.012932</td>\n",
       "      <td>0.140225</td>\n",
       "      <td>0.110435</td>\n",
       "      <td>0.020968</td>\n",
       "      <td>0.012576</td>\n",
       "      <td>0.234453</td>\n",
       "    </tr>\n",
       "    <tr>\n",
       "      <th>4</th>\n",
       "      <td>0.218819</td>\n",
       "      <td>0.016007</td>\n",
       "      <td>0.054429</td>\n",
       "      <td>0.110435</td>\n",
       "      <td>0.162205</td>\n",
       "      <td>0.013760</td>\n",
       "      <td>0.083773</td>\n",
       "      <td>0.111018</td>\n",
       "    </tr>\n",
       "    <tr>\n",
       "      <th>5</th>\n",
       "      <td>0.016007</td>\n",
       "      <td>0.144604</td>\n",
       "      <td>0.009132</td>\n",
       "      <td>0.020968</td>\n",
       "      <td>0.013760</td>\n",
       "      <td>0.716549</td>\n",
       "      <td>0.012622</td>\n",
       "      <td>0.033656</td>\n",
       "    </tr>\n",
       "    <tr>\n",
       "      <th>6</th>\n",
       "      <td>0.054429</td>\n",
       "      <td>0.009132</td>\n",
       "      <td>0.150656</td>\n",
       "      <td>0.012576</td>\n",
       "      <td>0.083773</td>\n",
       "      <td>0.012622</td>\n",
       "      <td>0.354578</td>\n",
       "      <td>0.012932</td>\n",
       "    </tr>\n",
       "    <tr>\n",
       "      <th>7</th>\n",
       "      <td>0.110435</td>\n",
       "      <td>0.020968</td>\n",
       "      <td>0.012576</td>\n",
       "      <td>0.234453</td>\n",
       "      <td>0.111018</td>\n",
       "      <td>0.033656</td>\n",
       "      <td>0.012932</td>\n",
       "      <td>0.140225</td>\n",
       "    </tr>\n",
       "  </tbody>\n",
       "</table>\n",
       "</div>"
      ],
      "text/plain": [
       "          0         1         2         3         4         5         6  \\\n",
       "0  0.162205  0.013760  0.083773  0.111018  0.218819  0.016007  0.054429   \n",
       "1  0.013760  0.716549  0.012622  0.033656  0.016007  0.144604  0.009132   \n",
       "2  0.083773  0.012622  0.354578  0.012932  0.054429  0.009132  0.150656   \n",
       "3  0.111018  0.033656  0.012932  0.140225  0.110435  0.020968  0.012576   \n",
       "4  0.218819  0.016007  0.054429  0.110435  0.162205  0.013760  0.083773   \n",
       "5  0.016007  0.144604  0.009132  0.020968  0.013760  0.716549  0.012622   \n",
       "6  0.054429  0.009132  0.150656  0.012576  0.083773  0.012622  0.354578   \n",
       "7  0.110435  0.020968  0.012576  0.234453  0.111018  0.033656  0.012932   \n",
       "\n",
       "          7  \n",
       "0  0.110435  \n",
       "1  0.020968  \n",
       "2  0.012576  \n",
       "3  0.234453  \n",
       "4  0.111018  \n",
       "5  0.033656  \n",
       "6  0.012932  \n",
       "7  0.140225  "
      ]
     },
     "execution_count": 1121,
     "metadata": {},
     "output_type": "execute_result"
    }
   ],
   "source": [
    "a=amat(sigma_cov)\n",
    "pd.DataFrame(abs(a))\n"
   ]
  },
  {
   "cell_type": "code",
   "execution_count": 1122,
   "metadata": {},
   "outputs": [
    {
     "data": {
      "text/html": [
       "<div>\n",
       "<style scoped>\n",
       "    .dataframe tbody tr th:only-of-type {\n",
       "        vertical-align: middle;\n",
       "    }\n",
       "\n",
       "    .dataframe tbody tr th {\n",
       "        vertical-align: top;\n",
       "    }\n",
       "\n",
       "    .dataframe thead th {\n",
       "        text-align: right;\n",
       "    }\n",
       "</style>\n",
       "<table border=\"1\" class=\"dataframe\">\n",
       "  <thead>\n",
       "    <tr style=\"text-align: right;\">\n",
       "      <th></th>\n",
       "      <th>0</th>\n",
       "      <th>1</th>\n",
       "      <th>2</th>\n",
       "      <th>3</th>\n",
       "      <th>4</th>\n",
       "      <th>5</th>\n",
       "      <th>6</th>\n",
       "      <th>7</th>\n",
       "    </tr>\n",
       "  </thead>\n",
       "  <tbody>\n",
       "    <tr>\n",
       "      <th>0</th>\n",
       "      <td>0.162205</td>\n",
       "      <td>0.013760</td>\n",
       "      <td>0.083773</td>\n",
       "      <td>0.111018</td>\n",
       "      <td>0.218819</td>\n",
       "      <td>0.016007</td>\n",
       "      <td>0.054429</td>\n",
       "      <td>0.110435</td>\n",
       "    </tr>\n",
       "    <tr>\n",
       "      <th>1</th>\n",
       "      <td>0.013760</td>\n",
       "      <td>0.716549</td>\n",
       "      <td>0.012622</td>\n",
       "      <td>0.033656</td>\n",
       "      <td>0.016007</td>\n",
       "      <td>0.144604</td>\n",
       "      <td>0.009132</td>\n",
       "      <td>0.020968</td>\n",
       "    </tr>\n",
       "    <tr>\n",
       "      <th>2</th>\n",
       "      <td>0.083773</td>\n",
       "      <td>0.012622</td>\n",
       "      <td>0.354578</td>\n",
       "      <td>0.012932</td>\n",
       "      <td>0.054429</td>\n",
       "      <td>0.009132</td>\n",
       "      <td>0.150656</td>\n",
       "      <td>0.012576</td>\n",
       "    </tr>\n",
       "    <tr>\n",
       "      <th>3</th>\n",
       "      <td>0.111018</td>\n",
       "      <td>0.033656</td>\n",
       "      <td>0.012932</td>\n",
       "      <td>0.140225</td>\n",
       "      <td>0.110435</td>\n",
       "      <td>0.020968</td>\n",
       "      <td>0.012576</td>\n",
       "      <td>0.234453</td>\n",
       "    </tr>\n",
       "    <tr>\n",
       "      <th>4</th>\n",
       "      <td>0.218819</td>\n",
       "      <td>0.016007</td>\n",
       "      <td>0.054429</td>\n",
       "      <td>0.110435</td>\n",
       "      <td>0.162205</td>\n",
       "      <td>0.013760</td>\n",
       "      <td>0.083773</td>\n",
       "      <td>0.111018</td>\n",
       "    </tr>\n",
       "    <tr>\n",
       "      <th>5</th>\n",
       "      <td>0.016007</td>\n",
       "      <td>0.144604</td>\n",
       "      <td>0.009132</td>\n",
       "      <td>0.020968</td>\n",
       "      <td>0.013760</td>\n",
       "      <td>0.716549</td>\n",
       "      <td>0.012622</td>\n",
       "      <td>0.033656</td>\n",
       "    </tr>\n",
       "    <tr>\n",
       "      <th>6</th>\n",
       "      <td>0.054429</td>\n",
       "      <td>0.009132</td>\n",
       "      <td>0.150656</td>\n",
       "      <td>0.012576</td>\n",
       "      <td>0.083773</td>\n",
       "      <td>0.012622</td>\n",
       "      <td>0.354578</td>\n",
       "      <td>0.012932</td>\n",
       "    </tr>\n",
       "    <tr>\n",
       "      <th>7</th>\n",
       "      <td>0.110435</td>\n",
       "      <td>0.020968</td>\n",
       "      <td>0.012576</td>\n",
       "      <td>0.234453</td>\n",
       "      <td>0.111018</td>\n",
       "      <td>0.033656</td>\n",
       "      <td>0.012932</td>\n",
       "      <td>0.140225</td>\n",
       "    </tr>\n",
       "  </tbody>\n",
       "</table>\n",
       "</div>"
      ],
      "text/plain": [
       "          0         1         2         3         4         5         6  \\\n",
       "0  0.162205  0.013760  0.083773  0.111018  0.218819  0.016007  0.054429   \n",
       "1  0.013760  0.716549  0.012622  0.033656  0.016007  0.144604  0.009132   \n",
       "2  0.083773  0.012622  0.354578  0.012932  0.054429  0.009132  0.150656   \n",
       "3  0.111018  0.033656  0.012932  0.140225  0.110435  0.020968  0.012576   \n",
       "4  0.218819  0.016007  0.054429  0.110435  0.162205  0.013760  0.083773   \n",
       "5  0.016007  0.144604  0.009132  0.020968  0.013760  0.716549  0.012622   \n",
       "6  0.054429  0.009132  0.150656  0.012576  0.083773  0.012622  0.354578   \n",
       "7  0.110435  0.020968  0.012576  0.234453  0.111018  0.033656  0.012932   \n",
       "\n",
       "          7  \n",
       "0  0.110435  \n",
       "1  0.020968  \n",
       "2  0.012576  \n",
       "3  0.234453  \n",
       "4  0.111018  \n",
       "5  0.033656  \n",
       "6  0.012932  \n",
       "7  0.140225  "
      ]
     },
     "execution_count": 1122,
     "metadata": {},
     "output_type": "execute_result"
    }
   ],
   "source": [
    "A=Amat(new_cov,hbar=1)\n",
    "pd.DataFrame(abs(A))\n"
   ]
  },
  {
   "cell_type": "code",
   "execution_count": 1123,
   "metadata": {},
   "outputs": [
    {
     "data": {
      "text/plain": [
       "True"
      ]
     },
     "execution_count": 1123,
     "metadata": {},
     "output_type": "execute_result"
    }
   ],
   "source": [
    "np.allclose(a, A, atol=1e-8)"
   ]
  },
  {
   "cell_type": "code",
   "execution_count": 1130,
   "metadata": {},
   "outputs": [
    {
     "data": {
      "text/plain": [
       "(-0.00187881870732861-2.168404344971009e-19j)"
      ]
     },
     "execution_count": 1130,
     "metadata": {},
     "output_type": "execute_result"
    }
   ],
   "source": [
    "from thewalrus import hafnian as haf\n",
    "(haf(A))"
   ]
  },
  {
   "cell_type": "code",
   "execution_count": 1054,
   "metadata": {},
   "outputs": [],
   "source": [
    "def probability(A,ar,det):\n",
    "    fact=1\n",
    "    for factor in ar:\n",
    "        fact*=factorial(factor)      \n",
    "    As=sub_mat(A,ar)\n",
    "    hafn=haf(As).real\n",
    "    if hafn<0:\n",
    "        hafn=0\n",
    "    det=np.abs(det)\n",
    "    prob=hafn/(det*fact)\n",
    "    return prob"
   ]
  },
  {
   "cell_type": "code",
   "execution_count": 1000,
   "metadata": {},
   "outputs": [
    {
     "data": {
      "text/plain": [
       "True"
      ]
     },
     "execution_count": 1000,
     "metadata": {},
     "output_type": "execute_result"
    }
   ],
   "source": [
    "def is_symmetric(matrix):\n",
    "    return np.allclose(matrix, matrix.T)\n",
    "\n",
    "is_symmetric(A)"
   ]
  },
  {
   "cell_type": "code",
   "execution_count": 1295,
   "metadata": {},
   "outputs": [],
   "source": [
    "\n",
    "def trans(A,arr):\n",
    "    \n",
    "    sum=np.sum(arr)\n",
    "    D=np.eye(int(sum),dtype=complex)\n",
    "    j=0\n",
    "    d=0 \n",
    "    for a in arr:   \n",
    "        if a==0:\n",
    "            j+=1\n",
    "        else:\n",
    "            one=np.ones((a,a),dtype=complex)*A[j,j]\n",
    "            D[d:d+a,d:d+a]=one\n",
    "            d+=a\n",
    "            j+=1\n",
    "\n",
    "    new_dict={}\n",
    "    for (i, j), value in np.ndenumerate(A):\n",
    "        new_dict[(value.real,value.imag)]=[i,j]\n",
    "    \n",
    "\n",
    "    new_mat=D.copy()\n",
    "    for (i, j), value in np.ndenumerate(D):\n",
    "        if value==0*(1+1j):\n",
    "            \n",
    "            a=D[i,i]\n",
    "            b=D[j,j]\n",
    "            a_ind = new_dict[(a.real,a.imag)]\n",
    "            b_ind = new_dict[(b.real,b.imag)]\n",
    "        \n",
    "            for key, (d_i, d_j) in new_dict.items():\n",
    "                if (d_i, d_j) == (a_ind[0], b_ind[0]):\n",
    "                    \n",
    "                    new_mat[i, j] = key[0]+1j*key[1]\n",
    "\n",
    "    return new_mat\n",
    "\n",
    "## repearing for first and fourth quad\n",
    "def sub_mat(mat,arr):\n",
    "    n=int(mat.shape[0]/2)\n",
    "    A=mat[:n,:n]\n",
    "    B=mat[:n,n:]\n",
    "    C=mat[n:,n:]\n",
    "\n",
    "    a_new=trans(A,arr)\n",
    "    b_new=trans(B,arr)\n",
    "    c_new=trans(C,arr)\n",
    "\n",
    "    \n",
    "    s=a_new.shape[0]\n",
    "    As=np.eye(2*s,dtype=complex)\n",
    "    As[:s,:s]=a_new\n",
    "    As[s:,:s]=b_new\n",
    "    As[:s,s:]=b_new.T\n",
    "    As[s:,s:]=c_new\n",
    "    return As"
   ]
  },
  {
   "cell_type": "code",
   "execution_count": 1056,
   "metadata": {},
   "outputs": [
    {
     "data": {
      "text/html": [
       "<div>\n",
       "<style scoped>\n",
       "    .dataframe tbody tr th:only-of-type {\n",
       "        vertical-align: middle;\n",
       "    }\n",
       "\n",
       "    .dataframe tbody tr th {\n",
       "        vertical-align: top;\n",
       "    }\n",
       "\n",
       "    .dataframe thead th {\n",
       "        text-align: right;\n",
       "    }\n",
       "</style>\n",
       "<table border=\"1\" class=\"dataframe\">\n",
       "  <thead>\n",
       "    <tr style=\"text-align: right;\">\n",
       "      <th></th>\n",
       "      <th>0</th>\n",
       "      <th>1</th>\n",
       "      <th>2</th>\n",
       "      <th>3</th>\n",
       "      <th>4</th>\n",
       "      <th>5</th>\n",
       "      <th>6</th>\n",
       "      <th>7</th>\n",
       "    </tr>\n",
       "  </thead>\n",
       "  <tbody>\n",
       "    <tr>\n",
       "      <th>0</th>\n",
       "      <td>0.106708-0.135656j</td>\n",
       "      <td>-0.014931+0.002825j</td>\n",
       "      <td>-0.057904-0.054858j</td>\n",
       "      <td>0.118604+0.028582j</td>\n",
       "      <td>-0.100282-0.000000j</td>\n",
       "      <td>0.016086-0.000868j</td>\n",
       "      <td>0.048310+0.006252j</td>\n",
       "      <td>0.121302+0.005613j</td>\n",
       "    </tr>\n",
       "    <tr>\n",
       "      <th>1</th>\n",
       "      <td>-0.014931+0.002825j</td>\n",
       "      <td>-0.563578-0.236939j</td>\n",
       "      <td>0.010053+0.001765j</td>\n",
       "      <td>-0.008021-0.026271j</td>\n",
       "      <td>0.016086+0.000868j</td>\n",
       "      <td>-0.316065+0.000000j</td>\n",
       "      <td>0.007339+0.001867j</td>\n",
       "      <td>0.000477+0.012918j</td>\n",
       "    </tr>\n",
       "    <tr>\n",
       "      <th>2</th>\n",
       "      <td>-0.057904-0.054858j</td>\n",
       "      <td>0.010053+0.001765j</td>\n",
       "      <td>0.352840+0.003969j</td>\n",
       "      <td>0.008432+0.008351j</td>\n",
       "      <td>0.048310-0.006252j</td>\n",
       "      <td>0.007339-0.001867j</td>\n",
       "      <td>-0.144984+0.000000j</td>\n",
       "      <td>0.009887+0.006266j</td>\n",
       "    </tr>\n",
       "    <tr>\n",
       "      <th>3</th>\n",
       "      <td>0.118604+0.028582j</td>\n",
       "      <td>-0.008021-0.026271j</td>\n",
       "      <td>0.008432+0.008351j</td>\n",
       "      <td>0.122121-0.092693j</td>\n",
       "      <td>0.121302-0.005613j</td>\n",
       "      <td>0.000477-0.012918j</td>\n",
       "      <td>0.009887-0.006266j</td>\n",
       "      <td>-0.089241-0.000000j</td>\n",
       "    </tr>\n",
       "    <tr>\n",
       "      <th>4</th>\n",
       "      <td>-0.100282-0.000000j</td>\n",
       "      <td>0.016086+0.000868j</td>\n",
       "      <td>0.048310-0.006252j</td>\n",
       "      <td>0.121302-0.005613j</td>\n",
       "      <td>0.106708+0.135656j</td>\n",
       "      <td>-0.014931-0.002825j</td>\n",
       "      <td>-0.057904+0.054858j</td>\n",
       "      <td>0.118604-0.028582j</td>\n",
       "    </tr>\n",
       "    <tr>\n",
       "      <th>5</th>\n",
       "      <td>0.016086-0.000868j</td>\n",
       "      <td>-0.316065-0.000000j</td>\n",
       "      <td>0.007339-0.001867j</td>\n",
       "      <td>0.000477-0.012918j</td>\n",
       "      <td>-0.014931-0.002825j</td>\n",
       "      <td>-0.563578+0.236939j</td>\n",
       "      <td>0.010053-0.001765j</td>\n",
       "      <td>-0.008021+0.026271j</td>\n",
       "    </tr>\n",
       "    <tr>\n",
       "      <th>6</th>\n",
       "      <td>0.048310+0.006252j</td>\n",
       "      <td>0.007339+0.001867j</td>\n",
       "      <td>-0.144984-0.000000j</td>\n",
       "      <td>0.009887-0.006266j</td>\n",
       "      <td>-0.057904+0.054858j</td>\n",
       "      <td>0.010053-0.001765j</td>\n",
       "      <td>0.352840-0.003969j</td>\n",
       "      <td>0.008432-0.008351j</td>\n",
       "    </tr>\n",
       "    <tr>\n",
       "      <th>7</th>\n",
       "      <td>0.121302+0.005613j</td>\n",
       "      <td>0.000477+0.012918j</td>\n",
       "      <td>0.009887+0.006266j</td>\n",
       "      <td>-0.089241-0.000000j</td>\n",
       "      <td>0.118604-0.028582j</td>\n",
       "      <td>-0.008021+0.026271j</td>\n",
       "      <td>0.008432-0.008351j</td>\n",
       "      <td>0.122121+0.092693j</td>\n",
       "    </tr>\n",
       "  </tbody>\n",
       "</table>\n",
       "</div>"
      ],
      "text/plain": [
       "                    0                   1                   2  \\\n",
       "0  0.106708-0.135656j -0.014931+0.002825j -0.057904-0.054858j   \n",
       "1 -0.014931+0.002825j -0.563578-0.236939j  0.010053+0.001765j   \n",
       "2 -0.057904-0.054858j  0.010053+0.001765j  0.352840+0.003969j   \n",
       "3  0.118604+0.028582j -0.008021-0.026271j  0.008432+0.008351j   \n",
       "4 -0.100282-0.000000j  0.016086+0.000868j  0.048310-0.006252j   \n",
       "5  0.016086-0.000868j -0.316065-0.000000j  0.007339-0.001867j   \n",
       "6  0.048310+0.006252j  0.007339+0.001867j -0.144984-0.000000j   \n",
       "7  0.121302+0.005613j  0.000477+0.012918j  0.009887+0.006266j   \n",
       "\n",
       "                    3                   4                   5  \\\n",
       "0  0.118604+0.028582j -0.100282-0.000000j  0.016086-0.000868j   \n",
       "1 -0.008021-0.026271j  0.016086+0.000868j -0.316065+0.000000j   \n",
       "2  0.008432+0.008351j  0.048310-0.006252j  0.007339-0.001867j   \n",
       "3  0.122121-0.092693j  0.121302-0.005613j  0.000477-0.012918j   \n",
       "4  0.121302-0.005613j  0.106708+0.135656j -0.014931-0.002825j   \n",
       "5  0.000477-0.012918j -0.014931-0.002825j -0.563578+0.236939j   \n",
       "6  0.009887-0.006266j -0.057904+0.054858j  0.010053-0.001765j   \n",
       "7 -0.089241-0.000000j  0.118604-0.028582j -0.008021+0.026271j   \n",
       "\n",
       "                    6                   7  \n",
       "0  0.048310+0.006252j  0.121302+0.005613j  \n",
       "1  0.007339+0.001867j  0.000477+0.012918j  \n",
       "2 -0.144984+0.000000j  0.009887+0.006266j  \n",
       "3  0.009887-0.006266j -0.089241-0.000000j  \n",
       "4 -0.057904+0.054858j  0.118604-0.028582j  \n",
       "5  0.010053-0.001765j -0.008021+0.026271j  \n",
       "6  0.352840-0.003969j  0.008432-0.008351j  \n",
       "7  0.008432-0.008351j  0.122121+0.092693j  "
      ]
     },
     "execution_count": 1056,
     "metadata": {},
     "output_type": "execute_result"
    }
   ],
   "source": [
    "pd.DataFrame(A)\n",
    "# is_symmetric(np.abs(A))"
   ]
  },
  {
   "cell_type": "code",
   "execution_count": 1062,
   "metadata": {},
   "outputs": [
    {
     "data": {
      "text/plain": [
       "0.0"
      ]
     },
     "execution_count": 1062,
     "metadata": {},
     "output_type": "execute_result"
    }
   ],
   "source": [
    "ar=[1,0,0,0]\n",
    "ass=sub_mat(A,ar)\n",
    "import numpy as np\n",
    "from thewalrus import hafnian as haf\n",
    "probability(A,ar,det)\n",
    "# haf(ass).real\n",
    "\n",
    "# pd.DataFrame(ass)\n",
    "\n"
   ]
  },
  {
   "cell_type": "code",
   "execution_count": 939,
   "metadata": {},
   "outputs": [
    {
     "data": {
      "text/plain": [
       "(-0.03119642033244921+9.114534636824863e-19j)"
      ]
     },
     "execution_count": 939,
     "metadata": {},
     "output_type": "execute_result"
    }
   ],
   "source": [
    "import numpy as np\n",
    "from thewalrus import hafnian\n",
    "\n",
    "# Define the given matrix\n",
    "matrix = np.array([[ 0.09561483+1.31027396e-01j, -0.01241681-5.92852783e-03j, 0.21881868-1.75952893e-18j,  0.01599575+5.92586856e-04j],\n",
    "                   [-0.01241681-5.92852783e-03j, -0.6605786 +2.77631147e-01j, 0.01599575-5.92586856e-04j, -0.14460356+3.00257417e-18j],\n",
    "                   [ 0.21881868-1.75952893e-18j,  0.01599575-5.92586856e-04j, 0.09561483-1.31027396e-01j, -0.01241681+5.92852783e-03j],\n",
    "                   [ 0.01599575+5.92586856e-04j, -0.14460356+3.00257417e-18j, -0.01241681+5.92852783e-03j, -0.6605786 -2.77631147e-01j]])\n",
    "\n",
    "# Compute the hafnian\n",
    "# hafnian_result = hafnian(matrix)\n",
    "haf(matrix)\n",
    "# print(np.abs(hafnian_result))\n"
   ]
  },
  {
   "cell_type": "code",
   "execution_count": 853,
   "metadata": {},
   "outputs": [
    {
     "data": {
      "text/plain": [
       "0.0"
      ]
     },
     "execution_count": 853,
     "metadata": {},
     "output_type": "execute_result"
    }
   ],
   "source": [
    "p=[1,0,0,0]\n",
    "# p=np.zeros(8)\n",
    "probability(A,p,det)"
   ]
  },
  {
   "cell_type": "code",
   "execution_count": 854,
   "metadata": {},
   "outputs": [
    {
     "data": {
      "text/plain": [
       "array([1, 1])"
      ]
     },
     "execution_count": 854,
     "metadata": {},
     "output_type": "execute_result"
    }
   ],
   "source": [
    "n=[1,1]\n",
    "np.array(n.copy())"
   ]
  },
  {
   "cell_type": "code",
   "execution_count": null,
   "metadata": {},
   "outputs": [],
   "source": [
    "m=4\n",
    "array=[0,2,4,6]\n",
    "array=range(9)\n",
    "perm_mat=[]\n",
    "new_array=[]\n",
    "\n",
    "\n",
    "for i in array:\n",
    "    new_array.append([i])\n",
    "\n",
    "\n",
    "for _ in range(3):\n",
    "    inter=[]\n",
    "    for n in new_array:\n",
    "        for i in array:      \n",
    "        \n",
    "            N=n.copy()\n",
    "            N.append(i)\n",
    "            inter.append(N)\n",
    "\n",
    "    new_array=inter\n",
    "\n",
    "new_array_1=[]\n",
    "for n in new_array:\n",
    "    if np.sum(n)>max(array):\n",
    "        None\n",
    "    else:\n",
    "        new_array_1.append(n)\n",
    "\n",
    "new_array_1\n"
   ]
  },
  {
   "cell_type": "code",
   "execution_count": 1378,
   "metadata": {},
   "outputs": [],
   "source": [
    "# possibilities=perm_mat\n",
    "possibilities=new_array_1\n",
    "probability_mat=[]\n",
    "for poss in possibilities:\n",
    "    try:\n",
    "         pro=probability(A,poss,det)\n",
    "    except:\n",
    "            print(poss)\n",
    "    probability_mat.append(pro)"
   ]
  },
  {
   "cell_type": "code",
   "execution_count": 1379,
   "metadata": {},
   "outputs": [
    {
     "data": {
      "text/plain": [
       "[0.9298014570588774,\n",
       " 0.0,\n",
       " 0.025339689965863693,\n",
       " 0.0,\n",
       " 0.0014732886335315529,\n",
       " 0.0,\n",
       " 9.933986523153795e-05,\n",
       " 0.0,\n",
       " 7.0715573624172555e-06,\n",
       " 0.0,\n",
       " 0.033203048370737294,\n",
       " 0.0,\n",
       " 0.0021784945440768053,\n",
       " 0.0,\n",
       " 0.0001735767489842684,\n",
       " 0.0,\n",
       " 1.4541352032718633e-05,\n",
       " 0.19551641866190414,\n",
       " 0.0,\n",
       " 0.00575257923631362,\n",
       " 0.0,\n",
       " 0.00037772456890846316,\n",
       " 0.0,\n",
       " 2.7849571185277238e-05,\n",
       " 0.0,\n",
       " 0.02150174474557008,\n",
       " 0.0,\n",
       " 0.0012016192502813734,\n",
       " 0.0,\n",
       " 9.146388616808242e-05,\n",
       " 0.07803065986942996,\n",
       " 0.0,\n",
       " 0.0030893787894875507,\n",
       " 0.0,\n",
       " 0.000232150370405694,\n",
       " 0.0,\n",
       " 0.013479633631449769,\n",
       " 0.0,\n",
       " 0.0007059774849627886,\n",
       " 0.03788071766117396,\n",
       " 0.0,\n",
       " 0.001995601262183486,\n",
       " 0.0,\n",
       " 0.008541426864380202,\n",
       " 0.019857975848894645,\n",
       " 0.0,\n",
       " 0.012425252226304221,\n",
       " 0.0,\n",
       " 0.0007681187141372391,\n",
       " 0.0,\n",
       " 5.0935285300247165e-05,\n",
       " 0.0,\n",
       " 3.5954327127014123e-06,\n",
       " 0.02277316695067021,\n",
       " 0.0,\n",
       " 0.0009677094701047327,\n",
       " 0.0,\n",
       " 7.967918692013426e-05,\n",
       " 0.0,\n",
       " 6.72833356282709e-06,\n",
       " 0.0,\n",
       " 0.0037825327100561865,\n",
       " 0.0,\n",
       " 0.00019847430831661865,\n",
       " 0.0,\n",
       " 1.3659424406456248e-05,\n",
       " 0.012772497015556331,\n",
       " 0.0,\n",
       " 0.0005472783078253972,\n",
       " 0.0,\n",
       " 4.305080018119115e-05,\n",
       " 0.0,\n",
       " 0.0022011474140102546,\n",
       " 0.0,\n",
       " 0.00011382942487402818,\n",
       " 0.006676795329708279,\n",
       " 0.0,\n",
       " 0.0003314593664174924,\n",
       " 0.0,\n",
       " 0.0013940464094616804,\n",
       " 0.00354106489799551,\n",
       " 0.15006838062579436,\n",
       " 0.0,\n",
       " 0.004094676082818856,\n",
       " 0.0,\n",
       " 0.00023835502120329703,\n",
       " 0.0,\n",
       " 1.609142508298659e-05,\n",
       " 0.0,\n",
       " 0.005380437813336345,\n",
       " 0.0,\n",
       " 0.00035444943074480176,\n",
       " 0.0,\n",
       " 2.8326706878953788e-05,\n",
       " 0.031533687974694476,\n",
       " 0.0,\n",
       " 0.0009290475618126542,\n",
       " 0.0,\n",
       " 6.115245904368135e-05,\n",
       " 0.0,\n",
       " 0.003478117558003539,\n",
       " 0.0,\n",
       " 0.0001949811835214908,\n",
       " 0.012579802393869868,\n",
       " 0.0,\n",
       " 0.0004997666958349398,\n",
       " 0.0,\n",
       " 0.002178469795011057,\n",
       " 0.006104222464337948,\n",
       " 0.0,\n",
       " 0.005586783956705239,\n",
       " 0.0,\n",
       " 0.0003453419910916363,\n",
       " 0.0,\n",
       " 2.288989535218957e-05,\n",
       " 0.010240799771815396,\n",
       " 0.0,\n",
       " 0.00043760813601966914,\n",
       " 0.0,\n",
       " 3.6123925892245055e-05,\n",
       " 0.0,\n",
       " 0.0017014686845371113,\n",
       " 0.0,\n",
       " 8.927155691596226e-05,\n",
       " 0.0057394142591557645,\n",
       " 0.0,\n",
       " 0.0002469706428717357,\n",
       " 0.0,\n",
       " 0.0009909501660642786,\n",
       " 0.0029977095978130862,\n",
       " 0.04305531735012299,\n",
       " 0.0,\n",
       " 0.001179982570184688,\n",
       " 0.0,\n",
       " 6.900073065977789e-05,\n",
       " 0.0,\n",
       " 0.001551528031368592,\n",
       " 0.0,\n",
       " 0.00010281931679013778,\n",
       " 0.00904334143083035,\n",
       " 0.0,\n",
       " 0.00026771182776607136,\n",
       " 0.0,\n",
       " 0.0010008440567554667,\n",
       " 0.0036101709752768985,\n",
       " 0.0,\n",
       " 0.0022496385872054947,\n",
       " 0.0,\n",
       " 0.00013922379001973074,\n",
       " 0.004124018560586027,\n",
       " 0.0,\n",
       " 0.00017724746079210446,\n",
       " 0.0,\n",
       " 0.0006849989146204655,\n",
       " 0.002309178985498822,\n",
       " 0.015009190393449019,\n",
       " 0.0,\n",
       " 0.0004133426886871817,\n",
       " 0.0,\n",
       " 0.0005436856137825261,\n",
       " 0.003151324576770133,\n",
       " 0.0,\n",
       " 0.0008973204961379605,\n",
       " 0.0016450498785560818,\n",
       " 0.00571143455300077,\n",
       " 0.0,\n",
       " 0.2057317543344397,\n",
       " 0.0,\n",
       " 0.0195627580928926,\n",
       " 0.0,\n",
       " 0.0019452265174353086,\n",
       " 0.0,\n",
       " 0.0001847166987889871,\n",
       " 0.01908949916156257,\n",
       " 0.0,\n",
       " 0.016457606654129042,\n",
       " 0.0,\n",
       " 0.002265640598191793,\n",
       " 0.0,\n",
       " 0.0002753615286710893,\n",
       " 0.0,\n",
       " 0.040740370677337136,\n",
       " 0.0,\n",
       " 0.0041756340281337715,\n",
       " 0.0,\n",
       " 0.0004599168915892298,\n",
       " 0.011790873543973615,\n",
       " 0.0,\n",
       " 0.009488829369459356,\n",
       " 0.0,\n",
       " 0.0011501760001873486,\n",
       " 0.0,\n",
       " 0.015630061901968563,\n",
       " 0.0,\n",
       " 0.0021110763138552664,\n",
       " 0.006933005716112111,\n",
       " 0.0,\n",
       " 0.005404976212620791,\n",
       " 0.0,\n",
       " 0.00735829854134198,\n",
       " 0.004141088311487017,\n",
       " 0.010591428235161463,\n",
       " 0.0,\n",
       " 0.006793979815184197,\n",
       " 0.0,\n",
       " 0.0008097494904772915,\n",
       " 0.0,\n",
       " 8.068175434299196e-05,\n",
       " 0.0,\n",
       " 0.005082490167986701,\n",
       " 0.0,\n",
       " 0.0007687770137589019,\n",
       " 0.0,\n",
       " 0.00010522403685997656,\n",
       " 0.002660422659266538,\n",
       " 0.0,\n",
       " 0.0017468588477755425,\n",
       " 0.0,\n",
       " 0.0001900033620308305,\n",
       " 0.0,\n",
       " 0.0026713772602531107,\n",
       " 0.0,\n",
       " 0.0003987554608825794,\n",
       " 0.0013024547984827042,\n",
       " 0.0,\n",
       " 0.000915703046725692,\n",
       " 0.0,\n",
       " 0.001329973573271715,\n",
       " 0.0007461220535588445,\n",
       " 0.0,\n",
       " 0.0331924105359408,\n",
       " 0.0,\n",
       " 0.003163302845873623,\n",
       " 0.0,\n",
       " 0.00031500250891093714,\n",
       " 0.0030537986936383997,\n",
       " 0.0,\n",
       " 0.0026662065082076487,\n",
       " 0.0,\n",
       " 0.0003687854252067456,\n",
       " 0.0,\n",
       " 0.006570645049779822,\n",
       " 0.0,\n",
       " 0.0006747062281592176,\n",
       " 0.001882258438195364,\n",
       " 0.0,\n",
       " 0.0015342509465193779,\n",
       " 0.0,\n",
       " 0.002520771253011994,\n",
       " 0.001105238924615915,\n",
       " 0.004684604772719119,\n",
       " 0.0,\n",
       " 0.0030596201377511155,\n",
       " 0.0,\n",
       " 0.0003646573443055464,\n",
       " 0.0,\n",
       " 0.002285046959222799,\n",
       " 0.0,\n",
       " 0.00034784692916656565,\n",
       " 0.0011739327271471879,\n",
       " 0.0,\n",
       " 0.0007856837739425882,\n",
       " 0.0,\n",
       " 0.0012006767633444,\n",
       " 0.0005739701047638593,\n",
       " 0.0,\n",
       " 0.009526509670312433,\n",
       " 0.0,\n",
       " 0.0009114109787321395,\n",
       " 0.000881709277794101,\n",
       " 0.0,\n",
       " 0.0007695243554338892,\n",
       " 0.0,\n",
       " 0.0018847299211535138,\n",
       " 0.0005429474830732913,\n",
       " 0.0018658508636148008,\n",
       " 0.0,\n",
       " 0.0012330631078167125,\n",
       " 0.0,\n",
       " 0.0009203506128278638,\n",
       " 0.0004668294477811742,\n",
       " 0.0,\n",
       " 0.003322495378584377,\n",
       " 0.00030993129080137484,\n",
       " 0.0007389872537897113,\n",
       " 0.018197554205965187,\n",
       " 0.0,\n",
       " 0.06283976049213029,\n",
       " 0.0,\n",
       " 0.011905650241008927,\n",
       " 0.0,\n",
       " 0.0017186483752917126,\n",
       " 0.0,\n",
       " 0.010379695058613261,\n",
       " 0.0,\n",
       " 0.007972327903167169,\n",
       " 0.0,\n",
       " 0.0017222483641521522,\n",
       " 0.004556897910119751,\n",
       " 0.0,\n",
       " 0.012835122245474118,\n",
       " 0.0,\n",
       " 0.002509506898865863,\n",
       " 0.0,\n",
       " 0.0059180311053537915,\n",
       " 0.0,\n",
       " 0.004300477692678359,\n",
       " 0.00220134381326004,\n",
       " 0.0,\n",
       " 0.005292177127455653,\n",
       " 0.0,\n",
       " 0.0032026529723332762,\n",
       " 0.0012656689147395057,\n",
       " 0.0,\n",
       " 0.0065735215010744,\n",
       " 0.0,\n",
       " 0.00341734046479596,\n",
       " 0.0,\n",
       " 0.0006072380392202908,\n",
       " 0.0005791709990104515,\n",
       " 0.0,\n",
       " 0.0017564559705977615,\n",
       " 0.0,\n",
       " 0.000494211660309135,\n",
       " 0.0,\n",
       " 0.0014521019395343036,\n",
       " 0.0,\n",
       " 0.0007990701474768035,\n",
       " 0.0003726259313366906,\n",
       " 0.0,\n",
       " 0.0009297960747450322,\n",
       " 0.0,\n",
       " 0.0006281580945131381,\n",
       " 0.00022646654590025475,\n",
       " 0.002903213130204508,\n",
       " 0.0,\n",
       " 0.010142692827195281,\n",
       " 0.0,\n",
       " 0.001926610325939488,\n",
       " 0.0,\n",
       " 0.0016646494736436246,\n",
       " 0.0,\n",
       " 0.001291694096624646,\n",
       " 0.0007248227329251838,\n",
       " 0.0,\n",
       " 0.0020709023386426143,\n",
       " 0.0,\n",
       " 0.0009484104225870398,\n",
       " 0.0003491844435947819,\n",
       " 0.0,\n",
       " 0.0029267216686794714,\n",
       " 0.0,\n",
       " 0.0015406204368967498,\n",
       " 0.00025399055813498354,\n",
       " 0.0,\n",
       " 0.0007891421198904636,\n",
       " 0.0,\n",
       " 0.0006460473275849138,\n",
       " 0.0001629385516554715,\n",
       " 0.0008364273261539999,\n",
       " 0.0,\n",
       " 0.0029113765229383942,\n",
       " 0.0,\n",
       " 0.0004802965293599448,\n",
       " 0.00020896569137892867,\n",
       " 0.0,\n",
       " 0.0011703645020345178,\n",
       " 0.00010073359870132806,\n",
       " 0.00029340048178239195,\n",
       " 0.0,\n",
       " 0.01550378379039449,\n",
       " 0.0,\n",
       " 0.024791994745856954,\n",
       " 0.0,\n",
       " 0.006890889260882341,\n",
       " 0.0009109739652452154,\n",
       " 0.0,\n",
       " 0.005457061763641992,\n",
       " 0.0,\n",
       " 0.004119701057312739,\n",
       " 0.0,\n",
       " 0.003588875827674004,\n",
       " 0.0,\n",
       " 0.005224862355742042,\n",
       " 0.0006139006956865912,\n",
       " 0.0,\n",
       " 0.00300941725425548,\n",
       " 0.0,\n",
       " 0.001617509635127164,\n",
       " 0.00039061225508259305,\n",
       " 0.0004926370306601551,\n",
       " 0.0,\n",
       " 0.003406378818164729,\n",
       " 0.0,\n",
       " 0.0017572923000178076,\n",
       " 0.0,\n",
       " 0.00046731868255868594,\n",
       " 0.0,\n",
       " 0.0007899013291251199,\n",
       " 0.00013856985283654645,\n",
       " 0.0,\n",
       " 0.0007261457955367067,\n",
       " 0.0,\n",
       " 0.00027942317547588496,\n",
       " 7.454797751029319e-05,\n",
       " 0.0,\n",
       " 0.002475708306362696,\n",
       " 0.0,\n",
       " 0.0040026076287219435,\n",
       " 0.00014399106593556376,\n",
       " 0.0,\n",
       " 0.0008760955124896142,\n",
       " 0.0,\n",
       " 0.0005721221443623679,\n",
       " 9.677448763978359e-05,\n",
       " 0.00021475601947922404,\n",
       " 0.0,\n",
       " 0.0015209172272175689,\n",
       " 0.0,\n",
       " 0.00020560408074647734,\n",
       " 6.00916536908983e-05,\n",
       " 0.0,\n",
       " 0.000712967151396642,\n",
       " 4.1747399411109796e-05,\n",
       " 8.479188784956014e-05,\n",
       " 0.0007564415371165559,\n",
       " 0.0,\n",
       " 0.009988905239008455,\n",
       " 0.0,\n",
       " 0.011455850543433439,\n",
       " 0.0,\n",
       " 0.0009979135508900482,\n",
       " 0.0,\n",
       " 0.0029951791342443727,\n",
       " 0.00022303687980845937,\n",
       " 0.0,\n",
       " 0.002230418799146532,\n",
       " 0.0,\n",
       " 0.0006312493938425654,\n",
       " 0.00012447604872117794,\n",
       " 0.0,\n",
       " 0.0005838563252138299,\n",
       " 0.0,\n",
       " 0.0017396582675477537,\n",
       " 3.074429703110258e-05,\n",
       " 0.0,\n",
       " 0.0003034407900962364,\n",
       " 0.0,\n",
       " 0.00014891197384691635,\n",
       " 2.1803715090876058e-05,\n",
       " 0.00011921526567682699,\n",
       " 0.0,\n",
       " 0.0015967462207325063,\n",
       " 0.0,\n",
       " 0.0001580219507337513,\n",
       " 3.499978195313283e-05,\n",
       " 0.0,\n",
       " 0.0002554558617202589,\n",
       " 1.3202713957407161e-05,\n",
       " 3.4512124395976495e-05,\n",
       " 0.0,\n",
       " 0.0011264346718335616,\n",
       " 0.0,\n",
       " 0.005938841437298183,\n",
       " 4.877319312809987e-05,\n",
       " 0.0,\n",
       " 0.0007885000850141455,\n",
       " 0.0,\n",
       " 0.0003053170675610317,\n",
       " 3.5690393547742225e-05,\n",
       " 2.4363960269580023e-05,\n",
       " 0.0,\n",
       " 0.00046969997328430966,\n",
       " 0.0,\n",
       " 4.2377689668200185e-05,\n",
       " 7.861829453526218e-06,\n",
       " 0.0,\n",
       " 0.00017782977023783546,\n",
       " 7.611752580052488e-06,\n",
       " 1.0440545786122861e-05,\n",
       " 3.66497903718228e-05,\n",
       " 0.0,\n",
       " 0.0010808667017574516,\n",
       " 0.0,\n",
       " 8.184690332870825e-05,\n",
       " 1.2369856870675873e-05,\n",
       " 0.0,\n",
       " 4.357743244485424e-05,\n",
       " 1.7967556624800339e-06,\n",
       " 5.711161606956155e-06,\n",
       " 0.0,\n",
       " 7.732894333230631e-05,\n",
       " 2.766955630445892e-06,\n",
       " 1.2784999152244802e-06,\n",
       " 1.8763911790876321e-06]"
      ]
     },
     "execution_count": 1379,
     "metadata": {},
     "output_type": "execute_result"
    }
   ],
   "source": [
    "probability_mat\n"
   ]
  },
  {
   "cell_type": "code",
   "execution_count": 1380,
   "metadata": {},
   "outputs": [
    {
     "data": {
      "text/plain": [
       "2.643395698661072"
      ]
     },
     "execution_count": 1380,
     "metadata": {},
     "output_type": "execute_result"
    }
   ],
   "source": [
    "np.sum(probability_mat)"
   ]
  },
  {
   "cell_type": "code",
   "execution_count": 1375,
   "metadata": {},
   "outputs": [],
   "source": [
    "possibilities=new_array_1\n",
    "probability_mat=[]\n",
    "for poss in possibilities:\n",
    "    try:\n",
    "         pro=disp_prob(loop_A,poss,P0)\n",
    "    except:\n",
    "            print(poss)\n",
    "    probability_mat.append(pro.real)"
   ]
  },
  {
   "cell_type": "code",
   "execution_count": 1376,
   "metadata": {},
   "outputs": [
    {
     "data": {
      "text/plain": [
       "[0.028119526090202553,\n",
       " 0.005465236351172114,\n",
       " 0.005505575422534869,\n",
       " 0.002385666880704645,\n",
       " 0.001286945285595933,\n",
       " 0.0008812663917379614,\n",
       " 0.0002667588755806693,\n",
       " 0.0003112706541690916,\n",
       " 3.650833801195721e-05,\n",
       " 0.04514841077056079,\n",
       " 0.0053115228833103935,\n",
       " 0.0073458432714923584,\n",
       " 0.002168239240540202,\n",
       " 0.0014578903155242084,\n",
       " 0.0007744174440304498,\n",
       " 0.00024153539714563728,\n",
       " 0.00027267020624870554,\n",
       " 0.004625777259237797,\n",
       " 0.0020134062934894156,\n",
       " 0,\n",
       " 0.0010743000304202187,\n",
       " 0,\n",
       " 0.0004460528256187284,\n",
       " 0,\n",
       " 0.06898991230597072,\n",
       " 0.013981890483163187,\n",
       " 0.009508998460146863,\n",
       " 0.006148700621601368,\n",
       " 0.0013446884316074515,\n",
       " 0.0022979093262605376,\n",
       " 0.029689748885258507,\n",
       " 0.0009386271889789,\n",
       " 0,\n",
       " 0.00017945348576363468,\n",
       " 0,\n",
       " 0.06706997402071517,\n",
       " 0.02673846722189319,\n",
       " 0.0043208357348984575,\n",
       " 0.012282752837292923,\n",
       " 0.11747950734159227,\n",
       " 0.005899424525465493,\n",
       " 0.007692038719787499,\n",
       " 0.019540408680582086,\n",
       " 0.03971515925373728,\n",
       " 0.30089850418068526,\n",
       " 0.020077910600323913,\n",
       " 0.003783115463491701,\n",
       " 0.0036724797721925952,\n",
       " 0.001648755432202471,\n",
       " 0.0007960520107702072,\n",
       " 0.0006114073471415565,\n",
       " 0.0001437932477958115,\n",
       " 0.00021748077945349669,\n",
       " 0.0325391603536398,\n",
       " 0.00371805908899686,\n",
       " 0.004938765272486292,\n",
       " 0.0015410297649458041,\n",
       " 0.0008926223905634758,\n",
       " 0.0005619708677807193,\n",
       " 0.00011617333071320906,\n",
       " 0.004287980079056625,\n",
       " 0.0017436891740240017,\n",
       " 0,\n",
       " 0.0008903371931292715,\n",
       " 0,\n",
       " 0.00035313658696145404,\n",
       " 0.05045658382256195,\n",
       " 0.010106848611576093,\n",
       " 0.006244261172320573,\n",
       " 0.004446992670819696,\n",
       " 0.0006827173536714102,\n",
       " 0.02334957081168644,\n",
       " 0.0013793472709866454,\n",
       " 0,\n",
       " 0.0004477142286622443,\n",
       " 0.05104026919459369,\n",
       " 0.01992461972938721,\n",
       " 0.0024292427184971007,\n",
       " 0.08788707921352636,\n",
       " 0.005472100528596542,\n",
       " 0.020816070427059814,\n",
       " 0,\n",
       " 0,\n",
       " 0,\n",
       " 0,\n",
       " 0,\n",
       " 0,\n",
       " 0,\n",
       " 0,\n",
       " 0,\n",
       " 0,\n",
       " 0,\n",
       " 0,\n",
       " 0,\n",
       " 0,\n",
       " 0,\n",
       " 0.00022391144910280635,\n",
       " 0,\n",
       " 0.00014087695879990325,\n",
       " 0,\n",
       " 0,\n",
       " 0,\n",
       " 0,\n",
       " 0,\n",
       " 0,\n",
       " 8.252086936338251e-05,\n",
       " 0,\n",
       " 0,\n",
       " 0,\n",
       " 0.01638499666945328,\n",
       " 0.0031317103460081095,\n",
       " 0.003134719610543822,\n",
       " 0.0013646607396027748,\n",
       " 0.0007141530791723373,\n",
       " 0.0005045570381469403,\n",
       " 0.026215100893875888,\n",
       " 0.003016949353949111,\n",
       " 0.004175534306644019,\n",
       " 0.00123520439033439,\n",
       " 0.0008063606452894101,\n",
       " 0.0027264567263361704,\n",
       " 0.0012239664252180486,\n",
       " 0,\n",
       " 0.0006473060659232142,\n",
       " 0.04022489435142478,\n",
       " 0.00804945070009185,\n",
       " 0.005386030475986729,\n",
       " 0.017118667057787734,\n",
       " 0.0006008193597328428,\n",
       " 0.03942274623647047,\n",
       " 0,\n",
       " 0,\n",
       " 0,\n",
       " 0,\n",
       " 0,\n",
       " 0,\n",
       " 0,\n",
       " 0,\n",
       " 0,\n",
       " 0,\n",
       " 0,\n",
       " 0.0003147749823855406,\n",
       " 0,\n",
       " 0,\n",
       " 0,\n",
       " 0.00862615339414858,\n",
       " 0.0016973631247194647,\n",
       " 0.0017961740332271753,\n",
       " 0.0007400184412615969,\n",
       " 0.013414190516840955,\n",
       " 0.0015692534813580477,\n",
       " 0.0023448482121625125,\n",
       " 0.0005934760591247367,\n",
       " 0.0004343945760093189,\n",
       " 0.020148849936529156,\n",
       " 7.763626250573427e-05,\n",
       " 0,\n",
       " 0,\n",
       " 0.0003603139026519408,\n",
       " 0,\n",
       " 0.0008569049905413869,\n",
       " 0.0011678115629101097,\n",
       " 0.0002931151272662378,\n",
       " 0.0012876503001162606,\n",
       " 0.004839841488077259,\n",
       " 0.014171385859203882,\n",
       " 0.022492621687446413,\n",
       " 0.013382259424306573,\n",
       " 0.012319406288031392,\n",
       " 0.006596808165187343,\n",
       " 0.0050261502325530125,\n",
       " 0.0026673193663783955,\n",
       " 0.0017673461916766044,\n",
       " 0.023210007263780634,\n",
       " 0.031162543705942975,\n",
       " 0.015770777586590772,\n",
       " 0.014623431156349405,\n",
       " 0.006470325013879135,\n",
       " 0.005264515414003508,\n",
       " 0.0022725305109118103,\n",
       " 0.0055574436722001025,\n",
       " 0.004596031351496549,\n",
       " 0,\n",
       " 0,\n",
       " 0,\n",
       " 0,\n",
       " 0.037934722313027705,\n",
       " 0.055452108776711695,\n",
       " 0.027334197866233784,\n",
       " 0.02609434019657065,\n",
       " 0.012573537029718506,\n",
       " 0.02109423072659042,\n",
       " 0.015099262098097636,\n",
       " 0,\n",
       " 0,\n",
       " 0.04424836170413554,\n",
       " 0.07013040449786694,\n",
       " 0.03256614947433493,\n",
       " 0.06832560977003498,\n",
       " 0.0672020593238865,\n",
       " 0.03570760047442387,\n",
       " 0.009355840732173033,\n",
       " 0.015323904788919587,\n",
       " 0.008854738567095037,\n",
       " 0.008125108493656557,\n",
       " 0.004300295933362416,\n",
       " 0.003218852726492761,\n",
       " 0.0017222223332718871,\n",
       " 0.015617029010165474,\n",
       " 0.021506592696945024,\n",
       " 0.010500067869377846,\n",
       " 0.009761122963573114,\n",
       " 0.004243582400418419,\n",
       " 0.003401505554491134,\n",
       " 0.00429616885236023,\n",
       " 0.0038726010613285766,\n",
       " 8.336430240449462e-05,\n",
       " 0.0002188720470457002,\n",
       " 1.0005814882668345e-05,\n",
       " 0.025797229497938348,\n",
       " 0.03872298745698238,\n",
       " 0.018431341081696827,\n",
       " 0.017490090198601635,\n",
       " 0.01563954050961619,\n",
       " 0.012073394278493863,\n",
       " 0,\n",
       " 0.031012333684525457,\n",
       " 0.050171074118689235,\n",
       " 0.04861551552660689,\n",
       " 0,\n",
       " 0,\n",
       " 0,\n",
       " 0,\n",
       " 0,\n",
       " 0,\n",
       " 0,\n",
       " 0,\n",
       " 0,\n",
       " 0,\n",
       " 0,\n",
       " 0,\n",
       " 0,\n",
       " 0,\n",
       " 0,\n",
       " 0,\n",
       " 0,\n",
       " 0,\n",
       " 0,\n",
       " 0,\n",
       " 0,\n",
       " 0.008088128406898272,\n",
       " 0.012919427306843085,\n",
       " 0.0075771938599945455,\n",
       " 0.006985374897023964,\n",
       " 0.003704663184021493,\n",
       " 0.013245225209546574,\n",
       " 0.01785403071733054,\n",
       " 0.008884773114778678,\n",
       " 0.008277023910952157,\n",
       " 0.0032519139816473957,\n",
       " 0.00272781587668754,\n",
       " 0,\n",
       " 0.021729747389786228,\n",
       " 0.03190953919333944,\n",
       " 0.01215946910782943,\n",
       " 0,\n",
       " 0,\n",
       " 0,\n",
       " 0,\n",
       " 0,\n",
       " 0,\n",
       " 0,\n",
       " 0,\n",
       " 0,\n",
       " 0,\n",
       " 0.004769016143916101,\n",
       " 0.007251390528953339,\n",
       " 0.004377423778633328,\n",
       " 0.007526045057366335,\n",
       " 0.009701946200529755,\n",
       " 0.001408919307323901,\n",
       " 0,\n",
       " 0,\n",
       " 0,\n",
       " 0.0013324805453378335,\n",
       " 0.019129134753292414,\n",
       " 0.027454739571120552,\n",
       " 0.0272181845543699,\n",
       " 0.0253074941233567,\n",
       " 0.01980909265666786,\n",
       " 0.014648551205453927,\n",
       " 0.010353018125756262,\n",
       " 0.028838497054960482,\n",
       " 0.038213804869721084,\n",
       " 0.03362019746688864,\n",
       " 0.029761775594463642,\n",
       " 0.02127948539804727,\n",
       " 0.01489986222836356,\n",
       " 0.0065474839086994505,\n",
       " 0.010912058770469099,\n",
       " 0.0034413784884606657,\n",
       " 0.0022721680104551304,\n",
       " 0.00048218183332079863,\n",
       " 0.05127877911696408,\n",
       " 0.07242251218762094,\n",
       " 0.06112861581596293,\n",
       " 0.054807079129431446,\n",
       " 0.02125604209124174,\n",
       " 0.027417623347501037,\n",
       " 0.006687899959040313,\n",
       " 0.0653148993308025,\n",
       " 0.10325793044009159,\n",
       " 0.0766745615841497,\n",
       " 0.012437679023359944,\n",
       " 0.017883325797179803,\n",
       " 0.017598551575981516,\n",
       " 0.01629051846038372,\n",
       " 0.012658868373377093,\n",
       " 0.009279919668816075,\n",
       " 0.01886270861211822,\n",
       " 0.02533584216339918,\n",
       " 0.0219862464540265,\n",
       " 0.019409988086035144,\n",
       " 0.013751241257687685,\n",
       " 0.004959080350595761,\n",
       " 0.008364024594973653,\n",
       " 0.0030646984748627423,\n",
       " 0.002163162987823126,\n",
       " 0.034258852706021525,\n",
       " 0.04870895400727836,\n",
       " 0.04048110054925262,\n",
       " 0.015239395224003232,\n",
       " 0.021004593949059493,\n",
       " 0.04525775686960745,\n",
       " 0,\n",
       " 0,\n",
       " 0,\n",
       " 0,\n",
       " 0,\n",
       " 0,\n",
       " 0,\n",
       " 0,\n",
       " 0,\n",
       " 0,\n",
       " 0,\n",
       " 0,\n",
       " 0,\n",
       " 0,\n",
       " 0,\n",
       " 0.01087491248077433,\n",
       " 0.015573798979038935,\n",
       " 0.015350581611873138,\n",
       " 0.014230982123514535,\n",
       " 0.016344743411169448,\n",
       " 0.02166627760525741,\n",
       " 0.0189111995382123,\n",
       " 0.003827809574817997,\n",
       " 0.006406141785394358,\n",
       " 0.029254201717328513,\n",
       " 0,\n",
       " 0,\n",
       " 0,\n",
       " 0,\n",
       " 0,\n",
       " 0,\n",
       " 0.006535092566382648,\n",
       " 0.009297051129767786,\n",
       " 0.009641232834071423,\n",
       " 0,\n",
       " 0.015442968051096463,\n",
       " 0.038440944770144564,\n",
       " 0.043229997836609725,\n",
       " 0.045091255840393245,\n",
       " 0.04090282014105491,\n",
       " 0.03370632050736677,\n",
       " 0.024745250824015352,\n",
       " 0.05333474852286103,\n",
       " 0.05412154182497811,\n",
       " 0.052876852434149524,\n",
       " 0.044835583470507326,\n",
       " 0.007317029443451254,\n",
       " 0.014075386089234672,\n",
       " 0.011280826294663527,\n",
       " 0.006727611678731703,\n",
       " 0.04289477433142474,\n",
       " 0.101245048606232,\n",
       " 0.10337932768793713,\n",
       " 0.02406889104996085,\n",
       " 0.035877802509945315,\n",
       " 0.05508185306484594,\n",
       " 0.009799948964515741,\n",
       " 0.024576987869904327,\n",
       " 0.027447517110460028,\n",
       " 0.028342508843953975,\n",
       " 0.02566992896192406,\n",
       " 0.016031013846892872,\n",
       " 0.034498302434560285,\n",
       " 0.03485332515380224,\n",
       " 0.033633154463028225,\n",
       " 0.00527634625721829,\n",
       " 0.010367764609315464,\n",
       " 0.008738424597224528,\n",
       " 0.028024692706659544,\n",
       " 0.06653022743661886,\n",
       " 0.01713170001653045,\n",
       " 0,\n",
       " 0,\n",
       " 0,\n",
       " 0,\n",
       " 0,\n",
       " 0,\n",
       " 0,\n",
       " 0,\n",
       " 0,\n",
       " 0,\n",
       " 0.008689988832426998,\n",
       " 0.02167804997993755,\n",
       " 0.0242473179867142,\n",
       " 0.013941262932094607,\n",
       " 0.030029914944950047,\n",
       " 0.004226244247372334,\n",
       " 0,\n",
       " 0,\n",
       " 0,\n",
       " 0.005373147380348161,\n",
       " 0.015264337249868882,\n",
       " 0.041077643115445,\n",
       " 0.060714856057630204,\n",
       " 0.07043059433011757,\n",
       " 0.07182217929807164,\n",
       " 0.022431214177364142,\n",
       " 0.05823096575810545,\n",
       " 0.07721979804225532,\n",
       " 0.08343073145543053,\n",
       " 0.007292415464912083,\n",
       " 0.020071414515201527,\n",
       " 0.019941882584904654,\n",
       " 0.04306819401982903,\n",
       " 0.11242846357357848,\n",
       " 0.019243263258094726,\n",
       " 0.00934193209919643,\n",
       " 0.025573945735721974,\n",
       " 0.037768469837690825,\n",
       " 0.04358815566469353,\n",
       " 0.013786440567013655,\n",
       " 0.036940420922775566,\n",
       " 0.048731222115020234,\n",
       " 0.00508900302258982,\n",
       " 0.014277158150716155,\n",
       " 0.02717775795832174,\n",
       " 0,\n",
       " 0,\n",
       " 0,\n",
       " 0,\n",
       " 0,\n",
       " 0,\n",
       " 0.008509344736687087,\n",
       " 0.022954245348620127,\n",
       " 0.012470865014136079,\n",
       " 0,\n",
       " 0.013557971330387247,\n",
       " 0.04601099160088383,\n",
       " 0.07627842949926628,\n",
       " 0.09939555958059432,\n",
       " 0.021356323311627935,\n",
       " 0.06375036975306703,\n",
       " 0.09798189253038357,\n",
       " 0.007431478454212741,\n",
       " 0.022347578557157223,\n",
       " 0.03885251444210963,\n",
       " 0.00831093231587139,\n",
       " 0.02805890172749639,\n",
       " 0.04656609011428044,\n",
       " 0.013377542526871827,\n",
       " 0.03933198880889532,\n",
       " 0.00507245992897276,\n",
       " 0,\n",
       " 0,\n",
       " 0,\n",
       " 0.00752791599074606,\n",
       " 0.01181891994765765,\n",
       " 0.04616239061353391,\n",
       " 0.09089832256261283,\n",
       " 0.017129469347019855,\n",
       " 0.06560269024133744,\n",
       " 0.006983686598027028,\n",
       " 0.0069008921594460445,\n",
       " 0.027688181377776323,\n",
       " 0.010042565983832016,\n",
       " 0,\n",
       " 0.01081775007071698,\n",
       " 0.04644525403365727,\n",
       " 0.01680501549251133,\n",
       " 0.006428532288140981,\n",
       " 0.008801237754123876]"
      ]
     },
     "execution_count": 1376,
     "metadata": {},
     "output_type": "execute_result"
    }
   ],
   "source": [
    "probability_mat"
   ]
  },
  {
   "cell_type": "code",
   "execution_count": 1377,
   "metadata": {},
   "outputs": [
    {
     "data": {
      "text/plain": [
       "7.559068893678251"
      ]
     },
     "execution_count": 1377,
     "metadata": {},
     "output_type": "execute_result"
    }
   ],
   "source": [
    "np.sum(probability_mat)"
   ]
  },
  {
   "cell_type": "code",
   "execution_count": 859,
   "metadata": {},
   "outputs": [],
   "source": [
    "from simphony.utils import xxpp_to_xpxp\n",
    "import pandas as pd"
   ]
  },
  {
   "cell_type": "code",
   "execution_count": 860,
   "metadata": {},
   "outputs": [
    {
     "data": {
      "text/plain": [
       "array([[0., 1., 0., 2.],\n",
       "       [2., 3., 1., 3.],\n",
       "       [0., 1., 0., 2.],\n",
       "       [2., 3., 1., 3.]])"
      ]
     },
     "execution_count": 860,
     "metadata": {},
     "output_type": "execute_result"
    }
   ],
   "source": [
    "ff=np.arange(4).reshape((2,2))\n",
    "\n",
    "nn=np.ones((2*len(ff),2*len(ff)))\n",
    "nn[0:len(ff),0:len(ff)]=ff\n",
    "nn[0:len(ff),len(ff):]=ff.T\n",
    "nn[len(ff):,0:len(ff)]=ff\n",
    "nn[len(ff):,len(ff):]=ff.T\n",
    "nn"
   ]
  },
  {
   "cell_type": "code",
   "execution_count": 861,
   "metadata": {},
   "outputs": [
    {
     "data": {
      "text/plain": [
       "array([[0., 0., 1., 2.],\n",
       "       [0., 0., 1., 2.],\n",
       "       [2., 1., 3., 3.],\n",
       "       [2., 1., 3., 3.]])"
      ]
     },
     "execution_count": 861,
     "metadata": {},
     "output_type": "execute_result"
    }
   ],
   "source": [
    "xxpp_to_xpxp(nn)"
   ]
  },
  {
   "cell_type": "code",
   "execution_count": 862,
   "metadata": {},
   "outputs": [
    {
     "data": {
      "text/plain": [
       "array([[ 0,  1,  2,  3,  4,  5,  6,  7],\n",
       "       [ 8,  9, 10, 11, 12, 13, 14, 15],\n",
       "       [16, 17, 18, 19, 20, 21, 22, 23],\n",
       "       [24, 25, 26, 27, 28, 29, 30, 31],\n",
       "       [32, 33, 34, 35, 36, 37, 38, 39],\n",
       "       [40, 41, 42, 43, 44, 45, 46, 47],\n",
       "       [48, 49, 50, 51, 52, 53, 54, 55],\n",
       "       [56, 57, 58, 59, 60, 61, 62, 63]])"
      ]
     },
     "execution_count": 862,
     "metadata": {},
     "output_type": "execute_result"
    }
   ],
   "source": [
    "np.arange(64).reshape((8,8))"
   ]
  },
  {
   "cell_type": "code",
   "execution_count": 863,
   "metadata": {},
   "outputs": [
    {
     "data": {
      "text/plain": [
       "array([[ 0,  4,  1,  5,  2,  6,  3,  7],\n",
       "       [32, 36, 33, 37, 34, 38, 35, 39],\n",
       "       [ 8, 12,  9, 13, 10, 14, 11, 15],\n",
       "       [40, 44, 41, 45, 42, 46, 43, 47],\n",
       "       [16, 20, 17, 21, 18, 22, 19, 23],\n",
       "       [48, 52, 49, 53, 50, 54, 51, 55],\n",
       "       [24, 28, 25, 29, 26, 30, 27, 31],\n",
       "       [56, 60, 57, 61, 58, 62, 59, 63]])"
      ]
     },
     "execution_count": 863,
     "metadata": {},
     "output_type": "execute_result"
    }
   ],
   "source": [
    "cc=xxpp_to_xpxp(np.arange(64).reshape((8,8)))\n",
    "cc"
   ]
  },
  {
   "cell_type": "code",
   "execution_count": 864,
   "metadata": {},
   "outputs": [
    {
     "data": {
      "text/plain": [
       "array([[ 0,  1,  5,  4],\n",
       "       [ 8,  9, 13, 12],\n",
       "       [40, 41, 45, 44],\n",
       "       [32, 33, 37, 36]])"
      ]
     },
     "execution_count": 864,
     "metadata": {},
     "output_type": "execute_result"
    }
   ],
   "source": [
    "m_array=[1]\n",
    "inds = np.concatenate(([0,2],[3,1]))\n",
    "A=cc[np.ix_(inds,inds)]\n",
    "A"
   ]
  },
  {
   "cell_type": "code",
   "execution_count": 865,
   "metadata": {},
   "outputs": [
    {
     "data": {
      "text/plain": [
       "32"
      ]
     },
     "execution_count": 865,
     "metadata": {},
     "output_type": "execute_result"
    }
   ],
   "source": [
    "cv=len(res_state.cov)\n",
    "cv"
   ]
  },
  {
   "cell_type": "code",
   "execution_count": 866,
   "metadata": {},
   "outputs": [
    {
     "data": {
      "text/html": [
       "<div>\n",
       "<style scoped>\n",
       "    .dataframe tbody tr th:only-of-type {\n",
       "        vertical-align: middle;\n",
       "    }\n",
       "\n",
       "    .dataframe tbody tr th {\n",
       "        vertical-align: top;\n",
       "    }\n",
       "\n",
       "    .dataframe thead th {\n",
       "        text-align: right;\n",
       "    }\n",
       "</style>\n",
       "<table border=\"1\" class=\"dataframe\">\n",
       "  <thead>\n",
       "    <tr style=\"text-align: right;\">\n",
       "      <th></th>\n",
       "      <th>0</th>\n",
       "      <th>1</th>\n",
       "      <th>2</th>\n",
       "      <th>3</th>\n",
       "      <th>4</th>\n",
       "      <th>5</th>\n",
       "      <th>6</th>\n",
       "      <th>7</th>\n",
       "    </tr>\n",
       "  </thead>\n",
       "  <tbody>\n",
       "    <tr>\n",
       "      <th>0</th>\n",
       "      <td>2.500000e-01</td>\n",
       "      <td>-1.728652e-15</td>\n",
       "      <td>7.771561e-16</td>\n",
       "      <td>1.873501e-15</td>\n",
       "      <td>0.000000e+00</td>\n",
       "      <td>0.000000e+00</td>\n",
       "      <td>0.000000e+00</td>\n",
       "      <td>0.000000e+00</td>\n",
       "    </tr>\n",
       "    <tr>\n",
       "      <th>1</th>\n",
       "      <td>-1.728652e-15</td>\n",
       "      <td>2.500000e-01</td>\n",
       "      <td>-1.765081e-15</td>\n",
       "      <td>2.354887e-15</td>\n",
       "      <td>0.000000e+00</td>\n",
       "      <td>0.000000e+00</td>\n",
       "      <td>0.000000e+00</td>\n",
       "      <td>0.000000e+00</td>\n",
       "    </tr>\n",
       "    <tr>\n",
       "      <th>2</th>\n",
       "      <td>7.771561e-16</td>\n",
       "      <td>-1.765081e-15</td>\n",
       "      <td>2.500000e-01</td>\n",
       "      <td>1.484923e-15</td>\n",
       "      <td>0.000000e+00</td>\n",
       "      <td>0.000000e+00</td>\n",
       "      <td>0.000000e+00</td>\n",
       "      <td>0.000000e+00</td>\n",
       "    </tr>\n",
       "    <tr>\n",
       "      <th>3</th>\n",
       "      <td>1.873501e-15</td>\n",
       "      <td>2.354887e-15</td>\n",
       "      <td>1.484923e-15</td>\n",
       "      <td>2.500000e-01</td>\n",
       "      <td>0.000000e+00</td>\n",
       "      <td>0.000000e+00</td>\n",
       "      <td>0.000000e+00</td>\n",
       "      <td>0.000000e+00</td>\n",
       "    </tr>\n",
       "    <tr>\n",
       "      <th>4</th>\n",
       "      <td>0.000000e+00</td>\n",
       "      <td>0.000000e+00</td>\n",
       "      <td>0.000000e+00</td>\n",
       "      <td>0.000000e+00</td>\n",
       "      <td>2.500000e-01</td>\n",
       "      <td>-1.474515e-16</td>\n",
       "      <td>-3.389650e-15</td>\n",
       "      <td>1.332268e-15</td>\n",
       "    </tr>\n",
       "    <tr>\n",
       "      <th>5</th>\n",
       "      <td>0.000000e+00</td>\n",
       "      <td>0.000000e+00</td>\n",
       "      <td>0.000000e+00</td>\n",
       "      <td>0.000000e+00</td>\n",
       "      <td>-1.474515e-16</td>\n",
       "      <td>2.500000e-01</td>\n",
       "      <td>4.022390e-17</td>\n",
       "      <td>-1.444591e-15</td>\n",
       "    </tr>\n",
       "    <tr>\n",
       "      <th>6</th>\n",
       "      <td>0.000000e+00</td>\n",
       "      <td>0.000000e+00</td>\n",
       "      <td>0.000000e+00</td>\n",
       "      <td>0.000000e+00</td>\n",
       "      <td>-3.389650e-15</td>\n",
       "      <td>4.022390e-17</td>\n",
       "      <td>2.500000e-01</td>\n",
       "      <td>3.608225e-16</td>\n",
       "    </tr>\n",
       "    <tr>\n",
       "      <th>7</th>\n",
       "      <td>0.000000e+00</td>\n",
       "      <td>0.000000e+00</td>\n",
       "      <td>0.000000e+00</td>\n",
       "      <td>0.000000e+00</td>\n",
       "      <td>1.332268e-15</td>\n",
       "      <td>-1.444591e-15</td>\n",
       "      <td>3.608225e-16</td>\n",
       "      <td>2.500000e-01</td>\n",
       "    </tr>\n",
       "  </tbody>\n",
       "</table>\n",
       "</div>"
      ],
      "text/plain": [
       "              0             1             2             3             4  \\\n",
       "0  2.500000e-01 -1.728652e-15  7.771561e-16  1.873501e-15  0.000000e+00   \n",
       "1 -1.728652e-15  2.500000e-01 -1.765081e-15  2.354887e-15  0.000000e+00   \n",
       "2  7.771561e-16 -1.765081e-15  2.500000e-01  1.484923e-15  0.000000e+00   \n",
       "3  1.873501e-15  2.354887e-15  1.484923e-15  2.500000e-01  0.000000e+00   \n",
       "4  0.000000e+00  0.000000e+00  0.000000e+00  0.000000e+00  2.500000e-01   \n",
       "5  0.000000e+00  0.000000e+00  0.000000e+00  0.000000e+00 -1.474515e-16   \n",
       "6  0.000000e+00  0.000000e+00  0.000000e+00  0.000000e+00 -3.389650e-15   \n",
       "7  0.000000e+00  0.000000e+00  0.000000e+00  0.000000e+00  1.332268e-15   \n",
       "\n",
       "              5             6             7  \n",
       "0  0.000000e+00  0.000000e+00  0.000000e+00  \n",
       "1  0.000000e+00  0.000000e+00  0.000000e+00  \n",
       "2  0.000000e+00  0.000000e+00  0.000000e+00  \n",
       "3  0.000000e+00  0.000000e+00  0.000000e+00  \n",
       "4 -1.474515e-16 -3.389650e-15  1.332268e-15  \n",
       "5  2.500000e-01  4.022390e-17 -1.444591e-15  \n",
       "6  4.022390e-17  2.500000e-01  3.608225e-16  \n",
       "7 -1.444591e-15  3.608225e-16  2.500000e-01  "
      ]
     },
     "execution_count": 866,
     "metadata": {},
     "output_type": "execute_result"
    }
   ],
   "source": [
    "cv=res_state.cov\n",
    "cv=cv[8:16,8:16]\n",
    "cov_mat=xxpp_to_xpxp(res_state.cov)\n",
    "\n",
    "Cov_mat=cov_mat[8:16,8:16]\n",
    "dat=pd.DataFrame(cv)\n",
    "\n",
    "# res_state.modes(31)\n",
    "# len(cov_mat)\n",
    "dat"
   ]
  },
  {
   "cell_type": "code",
   "execution_count": 867,
   "metadata": {},
   "outputs": [
    {
     "name": "stdout",
     "output_type": "stream",
     "text": [
      "Number combinations that sum up to 4 with all even numbers:\n"
     ]
    },
    {
     "data": {
      "text/plain": [
       "{0: [2, 2], 1: [4]}"
      ]
     },
     "execution_count": 867,
     "metadata": {},
     "output_type": "execute_result"
    }
   ],
   "source": [
    "def find_combinations(target, current_combination, start, comb_dict):\n",
    "    global cind\n",
    "    if target == 0:\n",
    "        p = 0\n",
    "        for k in current_combination:\n",
    "            if k % 2 != 0:\n",
    "                p += 1\n",
    "        if p == 0:\n",
    "            # print(current_combination)\n",
    "            comb_dict[cind] = current_combination.copy()\n",
    "            cind += 1\n",
    "        return\n",
    "    \n",
    "    elif target < 0:\n",
    "        return\n",
    "    else:\n",
    "        for i in range(start, target + 1):\n",
    "            current_combination.append(i)\n",
    "            find_combinations(target - i, current_combination, i, comb_dict)\n",
    "            current_combination.pop()\n",
    "\n",
    "# Example usage:\n",
    "if __name__ == \"__main__\":\n",
    "    target_number = 4\n",
    "    print(f\"Number combinations that sum up to {target_number} with all even numbers:\")\n",
    "    comb_dict = {}\n",
    "    cind = 0  # Initialize cind outside of the function\n",
    "    find_combinations(target_number, [], 2, comb_dict)\n",
    "    # print(\"Combinations stored in comb_dict:\")\n",
    "    # print(comb_dict)\n",
    "comb_dict"
   ]
  },
  {
   "cell_type": "code",
   "execution_count": 868,
   "metadata": {},
   "outputs": [
    {
     "data": {
      "text/plain": [
       "array([[2, 2, 0, 0],\n",
       "       [4, 0, 0, 0]])"
      ]
     },
     "execution_count": 868,
     "metadata": {},
     "output_type": "execute_result"
    }
   ],
   "source": [
    "comb_mat=np.zeros((len(comb_dict),4),dtype=int)\n",
    "i=0\n",
    "for key,value in comb_dict.items():\n",
    "    v=len(value)\n",
    "    z=np.zeros(4-v,dtype=int)\n",
    "    val=np.array(value)\n",
    "    new_val=np.concatenate((val,z),dtype=int)\n",
    "    comb_mat[i]=new_val\n",
    "    i+=1\n",
    "from itertools import permutations\n",
    "\n",
    "def shuffle_array(array):\n",
    "    # Generate all permutations of the array\n",
    "    all_permutations = permutations(array)\n",
    "    \n",
    "    # Convert permutations iterator to a list of tuples\n",
    "    all_permutations_list = list(all_permutations)\n",
    "    new_list=np.array(all_permutations_list,dtype=int)\n",
    "    \n",
    "    return new_list\n",
    "comb_mat"
   ]
  },
  {
   "cell_type": "code",
   "execution_count": 869,
   "metadata": {},
   "outputs": [],
   "source": [
    "\n",
    "def trans(A,arr):\n",
    "    \n",
    "    sum=np.sum(arr)\n",
    "    D=np.eye(int(sum))\n",
    "    j=0\n",
    "    d=0 \n",
    "    for a in arr:   \n",
    "        if a==0:\n",
    "            j+=1\n",
    "        else:\n",
    "            one=np.ones((a,a))*A[j,j]\n",
    "            D[d:d+a,d:d+a]=one\n",
    "            d+=a\n",
    "            j+=1\n",
    "\n",
    "    new_dict={}\n",
    "    for (i, j), value in np.ndenumerate(A):\n",
    "        new_dict[value]=[i,j]\n",
    "    new_dict\n",
    "\n",
    "    new_arr=D.copy()\n",
    "    for (i, j), value in np.ndenumerate(D):\n",
    "        if value==0:\n",
    "            \n",
    "            a=D[i,i]\n",
    "            b=D[j,j]\n",
    "            a_ind = new_dict[a]\n",
    "            b_ind = new_dict[b]\n",
    "        \n",
    "            \n",
    "        \n",
    "            for key, (d_i, d_j) in new_dict.items():\n",
    "                if (d_i, d_j) == (a_ind[0], b_ind[0]):\n",
    "                    \n",
    "                    new_arr[i, j] = key\n",
    "   \n",
    "    \n",
    "    return new_arr\n",
    "\n",
    "def sub_mat(mat,arr):\n",
    "    n=int(mat.shape[0]/2)\n",
    "    A=mat[:n,:n]\n",
    "    B=mat[:n,n:]\n",
    "    C=mat[n:,n:]\n",
    "\n",
    "    a_new=trans(A,arr)\n",
    "    b_new=trans(B,arr)\n",
    "    c_new=trans(C,arr)\n",
    "\n",
    "    \n",
    "    s=a_new.shape[0]\n",
    "    As=np.eye(2*s)\n",
    "    As[:s,:s]=a_new\n",
    "    As[s:,:s]=b_new\n",
    "    As[:s,s:]=b_new.T\n",
    "    As[s:,s:]=c_new\n",
    "    return As\n"
   ]
  },
  {
   "cell_type": "code",
   "execution_count": 870,
   "metadata": {},
   "outputs": [],
   "source": [
    "## loop for each photon value,\n",
    "#loop for each specific permutation for each value\n",
    "#compute hafnina\n",
    "# store prob\n"
   ]
  },
  {
   "cell_type": "code",
   "execution_count": 871,
   "metadata": {},
   "outputs": [
    {
     "data": {
      "text/plain": [
       "1.846558325604993"
      ]
     },
     "execution_count": 871,
     "metadata": {},
     "output_type": "execute_result"
    }
   ],
   "source": [
    "A=Amat(Cov_mat)\n",
    "Q=Qmat(Cov_mat)\n",
    "Cov=cv\n",
    "\n",
    "dt=np.linalg.det(Q)\n",
    "det=1/(np.sqrt(dt.real))\n",
    "det"
   ]
  },
  {
   "cell_type": "code",
   "execution_count": 872,
   "metadata": {},
   "outputs": [
    {
     "data": {
      "text/plain": [
       "6.553599999999926"
      ]
     },
     "execution_count": 872,
     "metadata": {},
     "output_type": "execute_result"
    }
   ],
   "source": [
    "ar=[2,0,2,0]\n",
    "\n",
    "A=Cov\n",
    "Q=Qmat(A)\n",
    "dt=np.linalg.det(Q)\n",
    "det=1/(np.sqrt(np.abs(dt)))\n",
    "det"
   ]
  },
  {
   "cell_type": "code",
   "execution_count": 873,
   "metadata": {},
   "outputs": [],
   "source": [
    "from thewalrus import perm"
   ]
  },
  {
   "cell_type": "code",
   "execution_count": 874,
   "metadata": {},
   "outputs": [],
   "source": [
    "U=np.array([\n",
    " [ 0.219546940711-0.256534554457j, 0.611076853957+0.524178937791j,\n",
    "    -0.102700187435+0.474478834685j,-0.027250232925+0.03729094623j],\n",
    " [ 0.451281863394+0.602582912475j, 0.456952590016+0.01230749109j,\n",
    "    0.131625867435-0.450417744715j, 0.035283194078-0.053244267184j],\n",
    " [ 0.038710094355+0.492715562066j,-0.019212744068-0.321842852355j,\n",
    "    -0.240776471286+0.524432833034j,-0.458388143039+0.329633367819j],\n",
    " [-0.156619083736+0.224568570065j, 0.109992223305-0.163750223027j,\n",
    "    -0.421179844245+0.183644837982j, 0.818769184612+0.068015658737j]\n",
    "])"
   ]
  },
  {
   "cell_type": "code",
   "execution_count": 875,
   "metadata": {},
   "outputs": [
    {
     "data": {
      "text/plain": [
       "array([[ 0.21954694-0.25653455j, -0.10270019+0.47447883j,\n",
       "        -0.02725023+0.03729095j],\n",
       "       [ 0.21954694-0.25653455j, -0.10270019+0.47447883j,\n",
       "        -0.02725023+0.03729095j],\n",
       "       [ 0.45128186+0.60258291j,  0.13162587-0.45041774j,\n",
       "         0.03528319-0.05324427j]])"
      ]
     },
     "execution_count": 875,
     "metadata": {},
     "output_type": "execute_result"
    }
   ],
   "source": [
    "\n",
    "S = [1, 0,1, 1]\n",
    "T = [2, 1,0, 0]\n",
    "\n",
    "U_S = np.repeat(U, S, axis=1)\n",
    "\n",
    "# Repeat rows based on T\n",
    "U_S_T = np.repeat(U_S, T, axis=0)\n",
    "\n",
    "\n",
    "U_S_T\n"
   ]
  },
  {
   "cell_type": "code",
   "execution_count": 876,
   "metadata": {},
   "outputs": [],
   "source": [
    "ar=np.array([])\n",
    "S = [1, 0,1, 1]\n",
    "T = [2, 1,0, 0]\n",
    "ar=np.concatenate((ar,S))\n",
    "ar=np.concatenate((ar,T))\n",
    "fact=1\n",
    "for factor in ar:\n",
    "    fact=fact*factorial(factor) \n",
    "f=np.sqrt(fact)"
   ]
  },
  {
   "cell_type": "code",
   "execution_count": 877,
   "metadata": {},
   "outputs": [
    {
     "data": {
      "text/plain": [
       "0.03820705836614959"
      ]
     },
     "execution_count": 877,
     "metadata": {},
     "output_type": "execute_result"
    }
   ],
   "source": [
    "# ar=[0,0,0,0]\n",
    "# As=sub_mat(U_S_T,ar)\n",
    "\n",
    "np.abs(perm(U_S_T))/f"
   ]
  },
  {
   "cell_type": "code",
   "execution_count": 878,
   "metadata": {},
   "outputs": [
    {
     "data": {
      "text/plain": [
       "1.0"
      ]
     },
     "execution_count": 878,
     "metadata": {},
     "output_type": "execute_result"
    }
   ],
   "source": [
    "ar=[0,0,0,0]\n",
    "\n",
    "A=Cov\n",
    "Q=Qmat(A)\n",
    "dt=np.linalg.det(Q)\n",
    "det=1/(np.sqrt(dt.real))\n",
    "\n",
    "fact=1\n",
    "for factor in ar:\n",
    "    fact=fact*factorial(factor)      \n",
    "As=sub_mat(U,ar)\n",
    "haf=perm(As).real\n",
    "haf\n",
    "prob=haf/(fact)\n",
    "prob\n",
    "# prob=prob/prev_prob[pind]\n",
    "\n",
    "# prob_mat.append(prob.real)\n",
    "\n",
    "\n",
    "# inter_prob.append(prob)         \n",
    "# next_mat.append(ar)\n",
    "\n",
    "# pind+=1\n",
    "# prev_prob=inter_prob\n",
    "# perm_mat=next_mat"
   ]
  },
  {
   "cell_type": "code",
   "execution_count": 879,
   "metadata": {},
   "outputs": [
    {
     "data": {
      "text/plain": [
       "0.15258789062500172"
      ]
     },
     "execution_count": 879,
     "metadata": {},
     "output_type": "execute_result"
    }
   ],
   "source": [
    "ar=[0,0,0,0]\n",
    "\n",
    "A=Cov\n",
    "Q=Qmat(A)\n",
    "dt=np.linalg.det(Q)\n",
    "det=1/(np.sqrt(dt.real))\n",
    "\n",
    "fact=1\n",
    "for factor in ar:\n",
    "    fact=fact*factorial(factor)      \n",
    "As=sub_mat(A,ar)\n",
    "haf=hf._haf(As).real\n",
    "haf\n",
    "prob=haf/(det*fact)\n",
    "prob\n",
    "# prob=prob/prev_prob[pind]\n",
    "\n",
    "# prob_mat.append(prob.real)\n",
    "\n",
    "\n",
    "# inter_prob.append(prob)         \n",
    "# next_mat.append(ar)\n",
    "\n",
    "# pind+=1\n",
    "# prev_prob=inter_prob\n",
    "# perm_mat=next_mat"
   ]
  },
  {
   "cell_type": "code",
   "execution_count": 880,
   "metadata": {},
   "outputs": [],
   "source": [
    "c_ar=[0,2,4,6,8]\n",
    "c_ar=[0,2,4]\n",
    "p_dict={}\n",
    "perm_dict={}\n",
    "perm_mat=[[]]\n",
    "\n",
    "prev_prob=[1]\n",
    "\n",
    "for m in range(4):\n",
    "    m_array=np.array([m])\n",
    "    inds = np.concatenate((m_array, (m_array + 4)))\n",
    "    A=Cov[np.ix_(inds,inds)]\n",
    "    Q=Qmat(A)\n",
    "    dt=np.linalg.det(Q)\n",
    "    det=1/(np.sqrt(np.abs(dt)))\n",
    "\n",
    "    next_mat=[]\n",
    "    inter_prob=[]\n",
    "    pind=0\n",
    "    prob_mat=[]\n",
    "    for perm in perm_mat:\n",
    "        \n",
    "        \n",
    "        for a in c_ar:         \n",
    "            ar=perm.copy()\n",
    "            ar.append(a) \n",
    "\n",
    "            if np.sum(ar)>4:\n",
    "                break\n",
    "            # elif m==max(range(8)):\n",
    "                \n",
    "            #     if np.sum(ar)!=8:\n",
    "            #         None\n",
    "            #     else:\n",
    "            #         fact=1\n",
    "            #         for factor in ar:\n",
    "            #             fact=fact*factorial(factor)      \n",
    "            #         As=sub_mat(A,ar)\n",
    "            #         haf=hf._haf(As)\n",
    "            #         prob=haf/(det*fact)\n",
    "            #         prob=prob/prev_prob[pind]\n",
    "                    \n",
    "            #         prob_mat.append(prob.real)\n",
    "\n",
    "\n",
    "            #         inter_prob.append(prob)         \n",
    "            #         next_mat.append(ar)\n",
    "            else:\n",
    "                fact=1\n",
    "                for factor in ar:\n",
    "                    fact=fact*factorial(factor)      \n",
    "                As=sub_mat(A,ar)\n",
    "                haf=hf._haf(As)\n",
    "                prob=haf/(det*fact)\n",
    "                prob=prob/prev_prob[pind]\n",
    "                \n",
    "                prob_mat.append(prob.real)\n",
    "\n",
    "\n",
    "                inter_prob.append(prob)         \n",
    "                next_mat.append(ar)\n",
    "\n",
    "        pind+=1\n",
    "    prev_prob=inter_prob\n",
    "    perm_mat=next_mat"
   ]
  },
  {
   "cell_type": "code",
   "execution_count": 881,
   "metadata": {},
   "outputs": [
    {
     "data": {
      "text/plain": [
       "[[0, 0, 0, 0],\n",
       " [0, 0, 0, 2],\n",
       " [0, 0, 0, 4],\n",
       " [0, 0, 2, 0],\n",
       " [0, 0, 2, 2],\n",
       " [0, 0, 4, 0],\n",
       " [0, 2, 0, 0],\n",
       " [0, 2, 0, 2],\n",
       " [0, 2, 2, 0],\n",
       " [0, 4, 0, 0],\n",
       " [2, 0, 0, 0],\n",
       " [2, 0, 0, 2],\n",
       " [2, 0, 2, 0],\n",
       " [2, 2, 0, 0],\n",
       " [4, 0, 0, 0]]"
      ]
     },
     "execution_count": 881,
     "metadata": {},
     "output_type": "execute_result"
    }
   ],
   "source": [
    "(perm_mat)"
   ]
  },
  {
   "cell_type": "code",
   "execution_count": 882,
   "metadata": {},
   "outputs": [
    {
     "data": {
      "text/plain": [
       "array([0.14390107, 0.00449691, 0.00021079, 0.14390107, 0.04047218,\n",
       "       0.14390107, 0.00449691, 0.00126476, 0.00449691, 0.00021079,\n",
       "       0.14390107, 0.04047218, 0.14390107, 0.04047218, 0.14390107])"
      ]
     },
     "execution_count": 882,
     "metadata": {},
     "output_type": "execute_result"
    }
   ],
   "source": [
    "prob_mat/np.sum(prob_mat)"
   ]
  },
  {
   "cell_type": "code",
   "execution_count": 883,
   "metadata": {},
   "outputs": [
    {
     "data": {
      "text/plain": [
       "15"
      ]
     },
     "execution_count": 883,
     "metadata": {},
     "output_type": "execute_result"
    }
   ],
   "source": [
    "\n",
    "len(perm_mat)\n",
    "# pind\n",
    "# # inter_prob\n",
    "# # # max(range(7))\n",
    "# len(prob_mat)\n"
   ]
  },
  {
   "cell_type": "code",
   "execution_count": 884,
   "metadata": {},
   "outputs": [],
   "source": [
    "sum_arr=[]\n",
    "for pee in perm_mat:\n",
    "    s=np.sum(pee)\n",
    "    sum_arr.append(s)\n",
    "\n"
   ]
  },
  {
   "cell_type": "code",
   "execution_count": 885,
   "metadata": {},
   "outputs": [
    {
     "data": {
      "text/plain": [
       "[[0, 0, 0, 0],\n",
       " [0, 0, 0, 2],\n",
       " [0, 0, 2, 0],\n",
       " [0, 2, 0, 0],\n",
       " [2, 0, 0, 0],\n",
       " [0, 0, 0, 4],\n",
       " [0, 0, 2, 2],\n",
       " [0, 0, 4, 0],\n",
       " [0, 2, 0, 2],\n",
       " [0, 2, 2, 0],\n",
       " [0, 4, 0, 0],\n",
       " [2, 0, 0, 2],\n",
       " [2, 0, 2, 0],\n",
       " [2, 2, 0, 0],\n",
       " [4, 0, 0, 0]]"
      ]
     },
     "execution_count": 885,
     "metadata": {},
     "output_type": "execute_result"
    }
   ],
   "source": [
    "sorted_indices = np.argsort(np.array(sum_arr))\n",
    "sorted_indices.reshape(-1)\n",
    "# Sort the array using the sorted indices\n",
    "sort_arr=[]\n",
    "state_arr=[]\n",
    "p_new=prob_mat.copy()\n",
    "for sor in sorted_indices:\n",
    "    sort_arr.append(p_new[sor])\n",
    "    state_arr.append(perm_mat[sor])\n",
    "# sorted_array\n",
    "p_new=sort_arr\n",
    "state_arr"
   ]
  },
  {
   "cell_type": "code",
   "execution_count": 886,
   "metadata": {},
   "outputs": [
    {
     "data": {
      "text/plain": [
       "[1.0000000000000098,\n",
       " 0.031250000000002116,\n",
       " 1.000000000000076,\n",
       " 0.03125000000000387,\n",
       " 1.0000000000001106,\n",
       " 0.001464843750000182,\n",
       " 0.28125000000003725,\n",
       " 1.0000000000001414,\n",
       " 0.008789062500001586,\n",
       " 0.031250000000005926,\n",
       " 0.0014648437500003476,\n",
       " 0.28125000000004696,\n",
       " 1.0000000000001763,\n",
       " 0.28125000000006306,\n",
       " 1.0000000000002103]"
      ]
     },
     "execution_count": 886,
     "metadata": {},
     "output_type": "execute_result"
    }
   ],
   "source": [
    "p_new"
   ]
  },
  {
   "cell_type": "code",
   "execution_count": 887,
   "metadata": {},
   "outputs": [],
   "source": [
    "p_new=p_new/np.sum(p_new)\n",
    "his=[]\n",
    "for sam in range(100000):\n",
    "    qq=np.random.choice(range(len(prob_mat)),p=p_new)\n",
    "    his.append(qq)"
   ]
  },
  {
   "cell_type": "code",
   "execution_count": 888,
   "metadata": {},
   "outputs": [
    {
     "data": {
      "text/plain": [
       "(-1.0, 15.0)"
      ]
     },
     "execution_count": 888,
     "metadata": {},
     "output_type": "execute_result"
    },
    {
     "data": {
      "image/png": "[encoded data removed]",
      "text/plain": [
       "<Figure size 1500x600 with 1 Axes>"
      ]
     },
     "metadata": {},
     "output_type": "display_data"
    }
   ],
   "source": [
    "p_new=p_new/np.sum(p_new)\n",
    "\n",
    "\n",
    "\n",
    "plt.figure(figsize=(15,6))\n",
    "plt.hist(his,bins=range(min(his), max(his) + 2) ,align='left', edgecolor='black')\n",
    "plt.xticks(range(max(his)+1))\n",
    "plt.xlim([-1,max(his)+1])"
   ]
  },
  {
   "cell_type": "code",
   "execution_count": 889,
   "metadata": {},
   "outputs": [],
   "source": [
    "bin_perm=perm_mat.copy()\n",
    "bin_prob=prob_mat.copy()\n",
    "# bin_prob"
   ]
  },
  {
   "cell_type": "code",
   "execution_count": 890,
   "metadata": {},
   "outputs": [
    {
     "data": {
      "text/plain": [
       "[[0, 0],\n",
       " [0, 2],\n",
       " [0, 4],\n",
       " [0, 2],\n",
       " [0, 4],\n",
       " [0, 4],\n",
       " [2, 0],\n",
       " [2, 2],\n",
       " [2, 2],\n",
       " [4, 0],\n",
       " [2, 0],\n",
       " [2, 2],\n",
       " [2, 2],\n",
       " [4, 0],\n",
       " [4, 0]]"
      ]
     },
     "execution_count": 890,
     "metadata": {},
     "output_type": "execute_result"
    }
   ],
   "source": [
    "binn_comb=[]\n",
    "for pp in bin_perm:\n",
    "    a=pp[0:2]\n",
    "    b=pp[2:]\n",
    "    a=np.sum(a)\n",
    "    b=np.sum(b)\n",
    "    binn=[a,b]\n",
    "    binn_comb.append(binn)\n",
    "\n",
    "binn_comb\n",
    "\n"
   ]
  },
  {
   "cell_type": "code",
   "execution_count": 891,
   "metadata": {},
   "outputs": [
    {
     "data": {
      "text/plain": [
       "array([[0, 0],\n",
       "       [0, 2],\n",
       "       [0, 4],\n",
       "       [2, 0],\n",
       "       [2, 2],\n",
       "       [4, 0]])"
      ]
     },
     "execution_count": 891,
     "metadata": {},
     "output_type": "execute_result"
    }
   ],
   "source": [
    "unique_bin,counts_bin = np.unique(binn_comb,axis=0, return_counts=True)\n",
    "(unique_bin)\n",
    "\n"
   ]
  },
  {
   "cell_type": "code",
   "execution_count": 892,
   "metadata": {},
   "outputs": [
    {
     "data": {
      "text/plain": [
       "array([0.85547201, 0.053467  , 0.0037594 , 0.053467  , 0.03007519,\n",
       "       0.0037594 ])"
      ]
     },
     "execution_count": 892,
     "metadata": {},
     "output_type": "execute_result"
    }
   ],
   "source": [
    "ind_ar=[]\n",
    "for u in unique_bin:\n",
    "    for ind,b in enumerate(binn_comb):\n",
    "        if np.array_equal(u, b):\n",
    "            ind_ar.append(ind)\n",
    "            break\n",
    "\n",
    "\n",
    "last_prob=[]\n",
    "for i in ind_ar:\n",
    "  last_prob.append(bin_prob[i])\n",
    "\n",
    "\n",
    "h_prob=np.multiply(last_prob,counts_bin)\n",
    "# h_prob=last_prob\n",
    "\n",
    "h_mat=h_prob/np.sum(h_prob)\n",
    "(h_mat)"
   ]
  },
  {
   "cell_type": "code",
   "execution_count": null,
   "metadata": {},
   "outputs": [],
   "source": []
  },
  {
   "cell_type": "code",
   "execution_count": 893,
   "metadata": {},
   "outputs": [],
   "source": [
    "# h_mat=h_prob/np.sum(h_prob)\n",
    "\n"
   ]
  },
  {
   "cell_type": "code",
   "execution_count": 894,
   "metadata": {},
   "outputs": [
    {
     "data": {
      "text/plain": [
       "[0.8554720133667368,\n",
       " 0.05346700083542415,\n",
       " 0.05346700083542715,\n",
       " 0.0037593984962409725,\n",
       " 0.030075187969929473,\n",
       " 0.0037593984962413975]"
      ]
     },
     "execution_count": 894,
     "metadata": {},
     "output_type": "execute_result"
    }
   ],
   "source": [
    "sum=[]\n",
    "for u in unique_bin:\n",
    "    ss=np.sum(u)\n",
    "    sum.append(ss)\n",
    "    \n",
    "sorted_indices = np.argsort(np.array(sum))\n",
    "sorted_indices.reshape(-1)\n",
    "# Sort the array using the sorted indices\n",
    "sort_arr=[]\n",
    "new_bin_ar=[]\n",
    "p_new=h_mat.copy()\n",
    "for sor in sorted_indices:\n",
    "    sort_arr.append(p_new[sor])\n",
    "    new_bin_ar.append(unique_bin[sor])\n",
    "# sorted_array\n",
    "h_mat=sort_arr\n",
    "h_mat"
   ]
  },
  {
   "cell_type": "code",
   "execution_count": 895,
   "metadata": {},
   "outputs": [
    {
     "data": {
      "text/plain": [
       "[array([0, 0]),\n",
       " array([0, 2]),\n",
       " array([2, 0]),\n",
       " array([0, 4]),\n",
       " array([2, 2]),\n",
       " array([4, 0])]"
      ]
     },
     "execution_count": 895,
     "metadata": {},
     "output_type": "execute_result"
    }
   ],
   "source": [
    "new_bin_ar"
   ]
  },
  {
   "cell_type": "code",
   "execution_count": 896,
   "metadata": {},
   "outputs": [
    {
     "data": {
      "text/plain": [
       "array([[0, 0],\n",
       "       [0, 2],\n",
       "       [0, 4],\n",
       "       [2, 0],\n",
       "       [2, 2],\n",
       "       [4, 0]])"
      ]
     },
     "execution_count": 896,
     "metadata": {},
     "output_type": "execute_result"
    }
   ],
   "source": [
    "his=[]\n",
    "for sam in range(100000):\n",
    "    qq=np.random.choice(range(len(unique_bin)),p=h_mat)\n",
    "    his.append(qq)\n",
    "\n",
    "\n",
    "\n",
    "\n",
    "unique_bin\n"
   ]
  },
  {
   "cell_type": "code",
   "execution_count": 897,
   "metadata": {},
   "outputs": [
    {
     "data": {
      "text/plain": [
       "(-1.0, 6.0)"
      ]
     },
     "execution_count": 897,
     "metadata": {},
     "output_type": "execute_result"
    },
    {
     "data": {
      "image/png": "[encoded data removed]",
      "text/plain": [
       "<Figure size 1500x600 with 1 Axes>"
      ]
     },
     "metadata": {},
     "output_type": "display_data"
    }
   ],
   "source": [
    "\n",
    "\n",
    "plt.figure(figsize=(15,6))\n",
    "plt.hist(his,bins=range(min(his), max(his) + 2) ,align='left', edgecolor='black')\n",
    "plt.xticks(range(max(his)+1))\n",
    "plt.xlim([-1,max(his)+1])"
   ]
  },
  {
   "cell_type": "code",
   "execution_count": 898,
   "metadata": {},
   "outputs": [
    {
     "data": {
      "text/plain": [
       "0"
      ]
     },
     "execution_count": 898,
     "metadata": {},
     "output_type": "execute_result"
    }
   ],
   "source": [
    "len(perm_mat)\n",
    "n_mat=[]\n",
    "for g in perm_mat:\n",
    "    if np.sum(g)==8:\n",
    "        n_mat.append(g)\n",
    "\n",
    "len(n_mat)"
   ]
  },
  {
   "cell_type": "code",
   "execution_count": 899,
   "metadata": {},
   "outputs": [],
   "source": [
    "#det binning"
   ]
  },
  {
   "cell_type": "code",
   "execution_count": 900,
   "metadata": {},
   "outputs": [],
   "source": [
    "c_ar=[0,2,4,6,8]\n",
    "\n",
    "perm_dict={}\n",
    "perm_mat=[[]]\n",
    "\n",
    "prev_prob=[1]\n",
    "B=[]\n",
    "\n",
    "\n",
    "for m in range(8):\n",
    "    m_array=np.array([m])\n",
    "    inds = np.concatenate((m_array, (m_array + 8)))\n",
    "    A=Cov[np.ix_(inds,inds)]\n",
    "    Q=Qmat(A)\n",
    "    dt=np.linalg.det(Q)\n",
    "    det=1/(np.sqrt(dt.real))\n",
    "\n",
    "    next_mat=[]\n",
    "    inter_prob=[]\n",
    "    pind=0\n",
    "    prob_mat=[]\n",
    "    for perm in perm_mat:\n",
    "        \n",
    "        \n",
    "        for a in c_ar:         \n",
    "            ar=perm.copy()\n",
    "            ar.append(a) \n",
    "\n",
    "            if np.sum(ar)>8:\n",
    "                break\n",
    "            # elif m==max(range(8)):\n",
    "                \n",
    "            #     if np.sum(ar)!=8:\n",
    "            #         None\n",
    "            #     else:\n",
    "            #         fact=1\n",
    "            #         for factor in ar:\n",
    "            #             fact=fact*factorial(factor)      \n",
    "            #         As=sub_mat(A,ar)\n",
    "            #         haf=hf._haf(As)\n",
    "            #         prob=haf/(det*fact)\n",
    "            #         prob=prob/prev_prob[pind]\n",
    "                    \n",
    "            #         prob_mat.append(prob.real)\n",
    "\n",
    "\n",
    "            #         inter_prob.append(prob)         \n",
    "            #         next_mat.append(ar)\n",
    "            else:\n",
    "                fact=1\n",
    "                for factor in ar:\n",
    "                    fact=fact*factorial(factor)      \n",
    "                As=sub_mat(A,ar)\n",
    "                haf=hf._haf(As)\n",
    "                prob=haf/(det*fact)\n",
    "                prob=prob/prev_prob[pind]\n",
    "                \n",
    "                prob_mat.append(prob.real)\n",
    "\n",
    "\n",
    "                inter_prob.append(prob)         \n",
    "                next_mat.append(ar)\n",
    "\n",
    "        pind+=1\n",
    "    prev_prob=inter_prob\n",
    "    perm_mat=next_mat\n",
    "\n",
    "\n",
    "\n"
   ]
  },
  {
   "cell_type": "code",
   "execution_count": null,
   "metadata": {},
   "outputs": [],
   "source": []
  },
  {
   "cell_type": "code",
   "execution_count": null,
   "metadata": {},
   "outputs": [],
   "source": []
  },
  {
   "cell_type": "code",
   "execution_count": null,
   "metadata": {},
   "outputs": [],
   "source": []
  },
  {
   "cell_type": "code",
   "execution_count": 901,
   "metadata": {},
   "outputs": [],
   "source": [
    "\n",
    "tot_count_dict={}\n",
    "total_haf_dict={}\n",
    "for nind in range(comb_mat.shape[0]):\n",
    "# for nind in range(1):\n",
    "\n",
    "    ar=comb_mat[nind]\n",
    "    aa=shuffle_array(ar)\n",
    "\n",
    "    unique_rows,counts = np.unique(aa,axis=0, return_counts=True)\n",
    "    rep_arr = unique_rows.tolist()  # matrix with each perm\n",
    "    # length_unique_rows = len(rep_arr)\n",
    "\n",
    "    count_dict = {tuple(arr): count for arr, count in zip(unique_rows, counts)}  # info about each perm and its count\n",
    "       \n",
    "    haf_dict={}\n",
    "    for k,v in count_dict.items():    \n",
    "\n",
    "        arr=np.array(k)\n",
    "        fact=1\n",
    "        for k_val in np.array(k):\n",
    "            fact=fact*factorial(k_val)\n",
    "        As=sub_mat(Cov_mat,arr)\n",
    "        haf=hf._haf(As)\n",
    "        haf_dict[k]=(v*haf/(fact*det)).real\n",
    "\n",
    "    total_haf_dict.update(haf_dict)\n",
    "    tot_count_dict.update(count_dict)"
   ]
  },
  {
   "cell_type": "code",
   "execution_count": 902,
   "metadata": {},
   "outputs": [
    {
     "data": {
      "text/plain": [
       "{(0, 0, 2, 2): 0.10664286209147908,\n",
       " (0, 2, 0, 2): 0.35040366160687075,\n",
       " (0, 2, 2, 0): 0.42296542820856775,\n",
       " (2, 0, 0, 2): 1.7227768782523127,\n",
       " (2, 0, 2, 0): 0.65887698278515,\n",
       " (2, 2, 0, 0): 0.7323645184654348,\n",
       " (0, 0, 0, 4): 1.9263469969251368,\n",
       " (0, 0, 4, 0): 0.025950424894872898,\n",
       " (0, 4, 0, 0): 0.12889453055729078,\n",
       " (4, 0, 0, 0): 4.84297736904551}"
      ]
     },
     "execution_count": 902,
     "metadata": {},
     "output_type": "execute_result"
    }
   ],
   "source": [
    "len(total_haf_dict)\n",
    "total_haf_dict"
   ]
  },
  {
   "cell_type": "code",
   "execution_count": 903,
   "metadata": {},
   "outputs": [
    {
     "data": {
      "text/plain": [
       "10.918199652832627"
      ]
     },
     "execution_count": 903,
     "metadata": {},
     "output_type": "execute_result"
    }
   ],
   "source": [
    "s=0\n",
    "for e,t in total_haf_dict.items():\n",
    "    s+=t\n",
    "\n",
    "s"
   ]
  },
  {
   "cell_type": "code",
   "execution_count": null,
   "metadata": {},
   "outputs": [],
   "source": []
  },
  {
   "cell_type": "code",
   "execution_count": 904,
   "metadata": {},
   "outputs": [
    {
     "name": "stdout",
     "output_type": "stream",
     "text": [
      "[0 0 0 4]\n"
     ]
    },
    {
     "data": {
      "text/plain": [
       "24.0"
      ]
     },
     "execution_count": 904,
     "metadata": {},
     "output_type": "execute_result"
    }
   ],
   "source": [
    "y=0\n",
    "for k,v in count_dict.items():  \n",
    "    if y==0:\n",
    "        print(np.array(k))\n",
    "        y+=1\n",
    "        fact=1\n",
    "        for k_val in np.array(k):\n",
    "            fact=fact*factorial(k_val)\n",
    "\n",
    "fact"
   ]
  },
  {
   "cell_type": "code",
   "execution_count": 905,
   "metadata": {},
   "outputs": [
    {
     "data": {
      "text/plain": [
       "24"
      ]
     },
     "execution_count": 905,
     "metadata": {},
     "output_type": "execute_result"
    }
   ],
   "source": [
    "ar=comb_mat[0]\n",
    "aa=shuffle_array(ar)\n",
    "len(aa)"
   ]
  },
  {
   "cell_type": "code",
   "execution_count": 906,
   "metadata": {},
   "outputs": [
    {
     "name": "stdout",
     "output_type": "stream",
     "text": [
      "Unique Rows (rep_arr):\n",
      "[[0, 0, 2, 2], [0, 2, 0, 2], [0, 2, 2, 0], [2, 0, 0, 2], [2, 0, 2, 0], [2, 2, 0, 0]]\n",
      "Length of Unique Rows:\n",
      "6\n"
     ]
    }
   ],
   "source": [
    "\n",
    "unique_rows,counts = np.unique(aa,axis=0, return_counts=True)\n",
    "rep_arr = unique_rows.tolist()\n",
    "length_unique_rows = len(rep_arr)\n",
    "print(\"Unique Rows (rep_arr):\")\n",
    "print(rep_arr)\n",
    "print(\"Length of Unique Rows:\")\n",
    "print(length_unique_rows)\n"
   ]
  },
  {
   "cell_type": "code",
   "execution_count": 907,
   "metadata": {},
   "outputs": [
    {
     "data": {
      "text/plain": [
       "{(0, 0, 2, 2): 4,\n",
       " (0, 2, 0, 2): 4,\n",
       " (0, 2, 2, 0): 4,\n",
       " (2, 0, 0, 2): 4,\n",
       " (2, 0, 2, 0): 4,\n",
       " (2, 2, 0, 0): 4}"
      ]
     },
     "execution_count": 907,
     "metadata": {},
     "output_type": "execute_result"
    }
   ],
   "source": [
    "count_dict = {tuple(arr): count for arr, count in zip(unique_rows, counts)}\n",
    "len(count_dict)\n",
    "count_dict"
   ]
  },
  {
   "cell_type": "code",
   "execution_count": 908,
   "metadata": {},
   "outputs": [
    {
     "name": "stdout",
     "output_type": "stream",
     "text": [
      "[0 0 2 2]\n"
     ]
    }
   ],
   "source": [
    "ii=0\n",
    "for k,v in count_dict.items():\n",
    "    if ii==0:\n",
    "        print(np.array(k))\n",
    "        ii+=1"
   ]
  },
  {
   "cell_type": "code",
   "execution_count": 909,
   "metadata": {},
   "outputs": [],
   "source": [
    "\n",
    "A=Amat(Cov_mat)\n",
    "Q=Qmat(Cov_mat)"
   ]
  },
  {
   "cell_type": "code",
   "execution_count": 910,
   "metadata": {},
   "outputs": [],
   "source": [
    "\n",
    "def trans(A,arr):\n",
    "    \n",
    "    sum=np.sum(arr)\n",
    "    D=np.eye(int(sum))\n",
    "    j=0\n",
    "    d=0 \n",
    "    for a in arr:   \n",
    "        if a==0:\n",
    "            j+=1\n",
    "        else:\n",
    "            one=np.ones((a,a))*A[j,j]\n",
    "            D[d:d+a,d:d+a]=one\n",
    "            d+=a\n",
    "            j+=1\n",
    "\n",
    "    new_dict={}\n",
    "    for (i, j), value in np.ndenumerate(A):\n",
    "        new_dict[value]=[i,j]\n",
    "    new_dict\n",
    "\n",
    "    new_arr=D.copy()\n",
    "    for (i, j), value in np.ndenumerate(D):\n",
    "        if value==0:\n",
    "            \n",
    "            a=D[i,i]\n",
    "            b=D[j,j]\n",
    "            a_ind = new_dict[a]\n",
    "            b_ind = new_dict[b]\n",
    "        \n",
    "            \n",
    "        \n",
    "            for key, (d_i, d_j) in new_dict.items():\n",
    "                if (d_i, d_j) == (a_ind[0], b_ind[0]):\n",
    "                    \n",
    "                    new_arr[i, j] = key\n",
    "   \n",
    "    \n",
    "    return new_arr\n",
    "\n"
   ]
  },
  {
   "cell_type": "code",
   "execution_count": 911,
   "metadata": {},
   "outputs": [],
   "source": [
    "arr=[0,0,2,2,2,2,0,0]\n",
    "T=trans(Cov_mat,arr)"
   ]
  },
  {
   "cell_type": "code",
   "execution_count": 912,
   "metadata": {},
   "outputs": [
    {
     "data": {
      "text/plain": [
       "-0.03828195539065904"
      ]
     },
     "execution_count": 912,
     "metadata": {},
     "output_type": "execute_result"
    }
   ],
   "source": [
    "from thewalrus import hafnian\n",
    "hafnian(np.array(Cov_mat,dtype=np.complex128)).real"
   ]
  },
  {
   "cell_type": "code",
   "execution_count": 913,
   "metadata": {},
   "outputs": [
    {
     "data": {
      "text/plain": [
       "(0.2617744037913923+0j)"
      ]
     },
     "execution_count": 913,
     "metadata": {},
     "output_type": "execute_result"
    }
   ],
   "source": [
    "hf._haf(T)\n"
   ]
  },
  {
   "cell_type": "code",
   "execution_count": 914,
   "metadata": {},
   "outputs": [],
   "source": [
    "def sub_mat(mat,arr):\n",
    "    n=int(mat.shape[0]/2)\n",
    "    A=mat[:n,:n]\n",
    "    B=mat[:n,n:]\n",
    "    C=mat[n:,n:]\n",
    "    a_new=trans(A,arr)\n",
    "    b_new=trans(B,arr)\n",
    "    c_new=trans(C,arr)\n",
    "    s=a_new.shape[0]\n",
    "    As=np.eye(2*s)\n",
    "    As[:s,:s]=a_new\n",
    "    As[s:,:s]=b_new\n",
    "    As[:s,s:]=b_new.T\n",
    "    As[s:,s:]=c_new\n",
    "    return As"
   ]
  },
  {
   "cell_type": "code",
   "execution_count": 915,
   "metadata": {},
   "outputs": [
    {
     "data": {
      "text/plain": [
       "array([[ 0.,  0.,  0.,  2.,  3.,  3.,  3., 15.],\n",
       "       [ 0.,  0.,  0.,  2.,  3.,  3.,  3., 15.],\n",
       "       [ 0.,  0.,  0.,  2.,  3.,  3.,  3., 15.],\n",
       "       [12., 12., 12., 14.,  5.,  5.,  5., 17.],\n",
       "       [ 3.,  3.,  3.,  5., 21., 21., 21., 23.],\n",
       "       [ 3.,  3.,  3.,  5., 21., 21., 21., 23.],\n",
       "       [ 3.,  3.,  3.,  5., 21., 21., 21., 23.],\n",
       "       [15., 15., 15., 17., 33., 33., 33., 35.]])"
      ]
     },
     "execution_count": 915,
     "metadata": {},
     "output_type": "execute_result"
    }
   ],
   "source": [
    "\n",
    "mat=np.arange(36).reshape((6,6))\n",
    "arr=[3,0,1]\n",
    "As=sub_mat(mat,arr)\n",
    "As\n"
   ]
  },
  {
   "cell_type": "code",
   "execution_count": null,
   "metadata": {},
   "outputs": [],
   "source": []
  },
  {
   "cell_type": "code",
   "execution_count": 916,
   "metadata": {},
   "outputs": [],
   "source": [
    "arr=np.array(ar)\n",
    "As=sub_mat(Cov_mat,arr)\n"
   ]
  },
  {
   "cell_type": "code",
   "execution_count": null,
   "metadata": {},
   "outputs": [],
   "source": []
  },
  {
   "cell_type": "code",
   "execution_count": 917,
   "metadata": {},
   "outputs": [
    {
     "name": "stdout",
     "output_type": "stream",
     "text": [
      "Two-Point Correlation Function (xi):\n",
      "[[ 0.02324651 -0.00456274  0.00319694 -0.00456274 -0.00131494 -0.00456274\n",
      "  -0.00305234 -0.00456274 -0.0038252 ]\n",
      " [-0.00293374  0.00057582 -0.00040346  0.00057582  0.00016595  0.00057582\n",
      "   0.00038521  0.00057582  0.00048275]\n",
      " [-0.00271315  0.00053253 -0.00037312  0.00053253  0.00015347  0.00053253\n",
      "   0.00035624  0.00053253  0.00044645]\n",
      " [-0.00293374  0.00057582 -0.00040346  0.00057582  0.00016595  0.00057582\n",
      "   0.00038521  0.00057582  0.00048275]\n",
      " [-0.00293095  0.00057528 -0.00040308  0.00057528  0.00016579  0.00057528\n",
      "   0.00038484  0.00057528  0.00048229]\n",
      " [-0.00293374  0.00057582 -0.00040346  0.00057582  0.00016595  0.00057582\n",
      "   0.00038521  0.00057582  0.00048275]\n",
      " [-0.0029337   0.00057582 -0.00040345  0.00057582  0.00016594  0.00057582\n",
      "   0.0003852   0.00057582  0.00048274]\n",
      " [-0.00293374  0.00057582 -0.00040346  0.00057582  0.00016595  0.00057582\n",
      "   0.00038521  0.00057582  0.00048275]\n",
      " [-0.00293374  0.00057582 -0.00040346  0.00057582  0.00016595  0.00057582\n",
      "   0.00038521  0.00057582  0.00048275]]\n"
     ]
    }
   ],
   "source": [
    "\n",
    "p1=pdf[0]\n",
    "p2=pdf[1]\n",
    "# Number of points\n",
    "N = len(p1)\n",
    "\n",
    "# Mean values\n",
    "mean_p1 = np.mean(p1)\n",
    "mean_p2 = np.mean(p2)\n",
    "\n",
    "# Fluctuations\n",
    "delta_p1 = p1 - mean_p1\n",
    "delta_p2 = p2 - mean_p2\n",
    "\n",
    "# Two-point correlation function\n",
    "xi = np.outer(delta_p1, delta_p2) / N\n",
    "\n",
    "print(\"Two-Point Correlation Function (xi):\")\n",
    "print(xi)\n"
   ]
  },
  {
   "cell_type": "code",
   "execution_count": null,
   "metadata": {},
   "outputs": [],
   "source": []
  },
  {
   "cell_type": "code",
   "execution_count": null,
   "metadata": {},
   "outputs": [],
   "source": []
  },
  {
   "cell_type": "code",
   "execution_count": 918,
   "metadata": {},
   "outputs": [],
   "source": [
    "# plot_quantum_result(res, wl_ind=0, include_loss_modes=False)\n",
    "# print('modes')"
   ]
  },
  {
   "cell_type": "code",
   "execution_count": 919,
   "metadata": {},
   "outputs": [
    {
     "data": {
      "text/plain": [
       "array([[4.38029249e-01, 0.00000000e+00, 3.69078028e-03, 0.00000000e+00,\n",
       "        4.66470873e-05, 0.00000000e+00, 6.55070981e-07, 0.00000000e+00,\n",
       "        9.65920738e-09],\n",
       "       [6.43494302e-01, 0.00000000e+00, 1.79555870e-01, 0.00000000e+00,\n",
       "        7.51529044e-02, 0.00000000e+00, 3.49501804e-02, 0.00000000e+00,\n",
       "        1.70664178e-02],\n",
       "       [6.12926952e-01, 0.00000000e+00, 1.30094856e-01, 0.00000000e+00,\n",
       "        4.14193033e-02, 0.00000000e+00, 1.46522036e-02, 0.00000000e+00,\n",
       "        5.44242432e-03],\n",
       "       [4.35884686e-01, 0.00000000e+00, 3.19684177e-03, 0.00000000e+00,\n",
       "        3.51691547e-05, 0.00000000e+00, 4.29892838e-07, 0.00000000e+00,\n",
       "        5.51756919e-09]])"
      ]
     },
     "execution_count": 919,
     "metadata": {},
     "output_type": "execute_result"
    }
   ],
   "source": [
    "# mode_plot(res)\n",
    "pdf"
   ]
  },
  {
   "cell_type": "code",
   "execution_count": 920,
   "metadata": {},
   "outputs": [],
   "source": [
    "#sampler\n",
    "\n",
    "def exp(pdf,N=4):\n",
    "    # np.random.seed(42)\n",
    "    mat=np.zeros((N,4))\n",
    "    \n",
    "    fock_num=range(pdf.shape[1])\n",
    "    for n in range(N):\n",
    "        arr=[]\n",
    "        for i in range(pdf.shape[0]):\n",
    "            P=pdf[i]/np.sum(pdf[i])\n",
    "            ij=np.random.choice(fock_num,p=P)\n",
    "            arr.append(ij)\n",
    "\n",
    "        mat[n]=arr\n",
    "\n",
    "\n",
    "    \n",
    "    Mat=mat.T\n",
    "    return Mat\n",
    "\n",
    "\n",
    "##binning into two\n",
    "\n",
    "\n",
    "def binning(pdf,binn=2):\n",
    "    \n",
    "    # np.random.seed(42)\n",
    "    \n",
    "    \n",
    "    fock_num=range(pdf.shape[1])\n",
    "    p=pdf.shape[0]\n",
    "    b_arr=np.zeros(binn)\n",
    "    r0=0\n",
    "    r1=round(p/binn)\n",
    "    r=r1\n",
    "\n",
    "\n",
    "    for b in range(binn):\n",
    "\n",
    "        arr=[]\n",
    "        if r1>pdf.shape[1]:\n",
    "            r1==pdf.shape[1]\n",
    "        for i in range(r0,r1):\n",
    "            P=pdf[i]/np.sum(pdf[i])\n",
    "            ij=np.random.choice(fock_num,p=P)\n",
    "            arr.append(ij)\n",
    "\n",
    "        r0+=r\n",
    "        r1+=r\n",
    "\n",
    "        b_sum=np.sum(arr)\n",
    "        if b_sum>4:\n",
    "            b_sum=4\n",
    "        b_arr[b]=b_sum\n",
    "       \n",
    "\n",
    "\n",
    "            \n",
    "    return list(b_arr.astype(int))\n",
    "\n",
    "    \n",
    "\n",
    "def bin_exp(pdf,binn,num=100):\n",
    "\n",
    "    B=[]\n",
    "    for Num in range(num):\n",
    "        ar=binning(pdf=pdf,binn=binn)\n",
    "        B.append(ar)\n",
    "\n",
    "\n",
    "    return B"
   ]
  },
  {
   "cell_type": "code",
   "execution_count": 921,
   "metadata": {},
   "outputs": [
    {
     "data": {
      "text/plain": [
       "array([[0., 0., 0., 0., 0.],\n",
       "       [4., 6., 0., 0., 2.],\n",
       "       [0., 0., 0., 0., 0.],\n",
       "       [0., 0., 0., 0., 0.]])"
      ]
     },
     "execution_count": 921,
     "metadata": {},
     "output_type": "execute_result"
    }
   ],
   "source": [
    "exp(pdf,5)"
   ]
  },
  {
   "cell_type": "code",
   "execution_count": 922,
   "metadata": {},
   "outputs": [],
   "source": [
    "exp_res=bin_exp(pdf=pdf,binn=2,num=10000)\n"
   ]
  },
  {
   "cell_type": "code",
   "execution_count": 923,
   "metadata": {},
   "outputs": [
    {
     "data": {
      "text/plain": [
       "9"
      ]
     },
     "execution_count": 923,
     "metadata": {},
     "output_type": "execute_result"
    }
   ],
   "source": [
    "#x_arr\n",
    "x_ar=[]\n",
    "C_dict={}\n",
    "\n",
    "cut_min=0\n",
    "for cut in range(cutoff):\n",
    "    c_ar=[]\n",
    "    for c1 in range(cut+1):\n",
    "        c2=cut-c1    \n",
    "        ar=[c1,c2]\n",
    "        c_ar.append(ar)\n",
    "        cut_min+=1\n",
    "\n",
    "    x_ar.extend(c_ar)\n",
    "\n",
    "\n",
    "\n",
    "x_dict={}\n",
    "xx=0\n",
    "for x in x_ar:\n",
    "    x_dict[xx]=[]\n",
    "    x_dict[xx]=x\n",
    "    xx+=1\n",
    "    \n",
    "hist_arr=[]\n",
    "\n",
    "for c_key,c_val in x_dict.items():\n",
    "    \n",
    "    for e_arr in exp_res:\n",
    "    \n",
    "        if c_val==e_arr:\n",
    "            hist_arr.append(c_key)\n",
    "            \n",
    "            \n",
    "    \n",
    "nn=range(100)\n",
    "N=[]\n",
    "\n",
    "for rr in hist_arr:\n",
    "    if rr in nn:\n",
    "        if  rr in N:\n",
    "           None\n",
    "        else:\n",
    "         N.append(rr)\n",
    "len(N)"
   ]
  },
  {
   "cell_type": "code",
   "execution_count": 924,
   "metadata": {},
   "outputs": [
    {
     "data": {
      "text/plain": [
       "45"
      ]
     },
     "execution_count": 924,
     "metadata": {},
     "output_type": "execute_result"
    }
   ],
   "source": [
    "len(x_dict)"
   ]
  },
  {
   "cell_type": "code",
   "execution_count": 925,
   "metadata": {},
   "outputs": [
    {
     "data": {
      "text/plain": [
       "(-1.0, 41.0)"
      ]
     },
     "execution_count": 925,
     "metadata": {},
     "output_type": "execute_result"
    },
    {
     "data": {
      "image/png": "[encoded data removed]",
      "text/plain": [
       "<Figure size 1500x600 with 1 Axes>"
      ]
     },
     "metadata": {},
     "output_type": "display_data"
    }
   ],
   "source": [
    "plt.figure(figsize=(15,6))\n",
    "\n",
    "\n",
    "# plt.hist(hist_arr,bins=len(hist_arr))\n",
    "plt.hist(hist_arr,bins=range(min(hist_arr), max(hist_arr) + 2) ,align='left', edgecolor='black')\n",
    "# plt.ylim([0,1])\n",
    "plt.xticks(range(max(hist_arr)+1))\n",
    "plt.xlim([-1,max(hist_arr)+1])\n",
    "# plt.ylim([0,200])\n"
   ]
  }
 ],
 "metadata": {
  "kernelspec": {
   "display_name": "base",
   "language": "python",
   "name": "python3"
  },
  "language_info": {
   "codemirror_mode": {
    "name": "ipython",
    "version": 3
   },
   "file_extension": ".py",
   "mimetype": "text/x-python",
   "name": "python",
   "nbconvert_exporter": "python",
   "pygments_lexer": "ipython3",
   "version": "3.12.3"
  }
 },
 "nbformat": 4,
 "nbformat_minor": 2
}
